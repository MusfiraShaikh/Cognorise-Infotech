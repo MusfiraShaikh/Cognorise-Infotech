{
 "cells": [
  {
   "cell_type": "code",
   "execution_count": null,
   "id": "8d866db1-0eb3-4990-a077-9e7a57b660ab",
   "metadata": {},
   "outputs": [],
   "source": [
    "C:\\Users\\Admin\\Desktop\\Downloads\\Unemployment"
   ]
  },
  {
   "cell_type": "code",
   "execution_count": 2,
   "id": "7c5d36f9-e36b-43af-986c-8d31c72988b2",
   "metadata": {},
   "outputs": [],
   "source": [
    "# This Python 3 environment comes with many helpful analytics libraries installed\n",
    "# It is defined by the kaggle/python Docker image: https://github.com/kaggle/docker-python\n",
    "# For example, here's several helpful packages to load\n",
    "\n",
    "import numpy as np # linear algebra\n",
    "import pandas as pd # data processing, CSV file I/O (e.g. pd.read_csv)\n",
    "\n",
    "# Input data files are available in the read-only \"../input/\" directory\n",
    "# For example, running this (by clicking run or pressing Shift+Enter) will list all files under the input directory\n",
    "\n",
    "import os\n",
    "for dirname, _, filenames in os.walk('/kaggle/input'):\n",
    "    for filename in filenames:\n",
    "        print(os.path.join(dirname, filename))\n",
    "\n",
    "# You can write up to 20GB to the current directory (/kaggle/working/) that gets preserved as output when you create a version using \"Save & Run All\" \n",
    "# You can also write temporary files to /kaggle/temp/, but they won't be saved outside of the current session"
   ]
  },
  {
   "cell_type": "code",
   "execution_count": 3,
   "id": "ff607097-5e41-4030-8491-87a790e65de8",
   "metadata": {},
   "outputs": [],
   "source": [
    "data = pd.read_csv('C:/Users/Admin/Desktop/Downloads/Unemployment/Customertravel.csv')"
   ]
  },
  {
   "cell_type": "code",
   "execution_count": 4,
   "id": "8428ebd8-b043-449f-b19e-74ffbafaa89e",
   "metadata": {},
   "outputs": [
    {
     "data": {
      "text/html": [
       "<div>\n",
       "<style scoped>\n",
       "    .dataframe tbody tr th:only-of-type {\n",
       "        vertical-align: middle;\n",
       "    }\n",
       "\n",
       "    .dataframe tbody tr th {\n",
       "        vertical-align: top;\n",
       "    }\n",
       "\n",
       "    .dataframe thead th {\n",
       "        text-align: right;\n",
       "    }\n",
       "</style>\n",
       "<table border=\"1\" class=\"dataframe\">\n",
       "  <thead>\n",
       "    <tr style=\"text-align: right;\">\n",
       "      <th></th>\n",
       "      <th>Age</th>\n",
       "      <th>FrequentFlyer</th>\n",
       "      <th>AnnualIncomeClass</th>\n",
       "      <th>ServicesOpted</th>\n",
       "      <th>AccountSyncedToSocialMedia</th>\n",
       "      <th>BookedHotelOrNot</th>\n",
       "      <th>Target</th>\n",
       "    </tr>\n",
       "  </thead>\n",
       "  <tbody>\n",
       "    <tr>\n",
       "      <th>0</th>\n",
       "      <td>34</td>\n",
       "      <td>No</td>\n",
       "      <td>Middle Income</td>\n",
       "      <td>6</td>\n",
       "      <td>No</td>\n",
       "      <td>Yes</td>\n",
       "      <td>0</td>\n",
       "    </tr>\n",
       "    <tr>\n",
       "      <th>1</th>\n",
       "      <td>34</td>\n",
       "      <td>Yes</td>\n",
       "      <td>Low Income</td>\n",
       "      <td>5</td>\n",
       "      <td>Yes</td>\n",
       "      <td>No</td>\n",
       "      <td>1</td>\n",
       "    </tr>\n",
       "    <tr>\n",
       "      <th>2</th>\n",
       "      <td>37</td>\n",
       "      <td>No</td>\n",
       "      <td>Middle Income</td>\n",
       "      <td>3</td>\n",
       "      <td>Yes</td>\n",
       "      <td>No</td>\n",
       "      <td>0</td>\n",
       "    </tr>\n",
       "    <tr>\n",
       "      <th>3</th>\n",
       "      <td>30</td>\n",
       "      <td>No</td>\n",
       "      <td>Middle Income</td>\n",
       "      <td>2</td>\n",
       "      <td>No</td>\n",
       "      <td>No</td>\n",
       "      <td>0</td>\n",
       "    </tr>\n",
       "    <tr>\n",
       "      <th>4</th>\n",
       "      <td>30</td>\n",
       "      <td>No</td>\n",
       "      <td>Low Income</td>\n",
       "      <td>1</td>\n",
       "      <td>No</td>\n",
       "      <td>No</td>\n",
       "      <td>0</td>\n",
       "    </tr>\n",
       "  </tbody>\n",
       "</table>\n",
       "</div>"
      ],
      "text/plain": [
       "   Age FrequentFlyer AnnualIncomeClass  ServicesOpted  \\\n",
       "0   34            No     Middle Income              6   \n",
       "1   34           Yes        Low Income              5   \n",
       "2   37            No     Middle Income              3   \n",
       "3   30            No     Middle Income              2   \n",
       "4   30            No        Low Income              1   \n",
       "\n",
       "  AccountSyncedToSocialMedia BookedHotelOrNot  Target  \n",
       "0                         No              Yes       0  \n",
       "1                        Yes               No       1  \n",
       "2                        Yes               No       0  \n",
       "3                         No               No       0  \n",
       "4                         No               No       0  "
      ]
     },
     "execution_count": 4,
     "metadata": {},
     "output_type": "execute_result"
    }
   ],
   "source": [
    "data.head()"
   ]
  },
  {
   "cell_type": "code",
   "execution_count": 5,
   "id": "1173d392-1284-4673-bb03-f238aaed8bbe",
   "metadata": {},
   "outputs": [
    {
     "data": {
      "text/plain": [
       "Age                           0\n",
       "FrequentFlyer                 0\n",
       "AnnualIncomeClass             0\n",
       "ServicesOpted                 0\n",
       "AccountSyncedToSocialMedia    0\n",
       "BookedHotelOrNot              0\n",
       "Target                        0\n",
       "dtype: int64"
      ]
     },
     "execution_count": 5,
     "metadata": {},
     "output_type": "execute_result"
    }
   ],
   "source": [
    "data.isnull().sum()"
   ]
  },
  {
   "cell_type": "code",
   "execution_count": 6,
   "id": "06858905-70a5-4e20-a5ed-1fe2038d9dd7",
   "metadata": {},
   "outputs": [
    {
     "data": {
      "text/plain": [
       "507"
      ]
     },
     "execution_count": 6,
     "metadata": {},
     "output_type": "execute_result"
    }
   ],
   "source": [
    "data.duplicated().sum()"
   ]
  },
  {
   "cell_type": "code",
   "execution_count": 7,
   "id": "f00d1981-a821-4811-8875-84953d7646cb",
   "metadata": {},
   "outputs": [
    {
     "data": {
      "text/plain": [
       "(954, 7)"
      ]
     },
     "execution_count": 7,
     "metadata": {},
     "output_type": "execute_result"
    }
   ],
   "source": [
    "data.shape"
   ]
  },
  {
   "cell_type": "code",
   "execution_count": 8,
   "id": "2c87afb4-9fc4-4ddb-8281-082227f96c6e",
   "metadata": {},
   "outputs": [
    {
     "name": "stdout",
     "output_type": "stream",
     "text": [
      "<class 'pandas.core.frame.DataFrame'>\n",
      "RangeIndex: 954 entries, 0 to 953\n",
      "Data columns (total 7 columns):\n",
      " #   Column                      Non-Null Count  Dtype \n",
      "---  ------                      --------------  ----- \n",
      " 0   Age                         954 non-null    int64 \n",
      " 1   FrequentFlyer               954 non-null    object\n",
      " 2   AnnualIncomeClass           954 non-null    object\n",
      " 3   ServicesOpted               954 non-null    int64 \n",
      " 4   AccountSyncedToSocialMedia  954 non-null    object\n",
      " 5   BookedHotelOrNot            954 non-null    object\n",
      " 6   Target                      954 non-null    int64 \n",
      "dtypes: int64(3), object(4)\n",
      "memory usage: 52.3+ KB\n"
     ]
    }
   ],
   "source": [
    "data.info()"
   ]
  },
  {
   "cell_type": "code",
   "execution_count": 9,
   "id": "a3fda6b4-2148-4771-9f53-2364f24e4cce",
   "metadata": {},
   "outputs": [
    {
     "data": {
      "text/html": [
       "<div>\n",
       "<style scoped>\n",
       "    .dataframe tbody tr th:only-of-type {\n",
       "        vertical-align: middle;\n",
       "    }\n",
       "\n",
       "    .dataframe tbody tr th {\n",
       "        vertical-align: top;\n",
       "    }\n",
       "\n",
       "    .dataframe thead th {\n",
       "        text-align: right;\n",
       "    }\n",
       "</style>\n",
       "<table border=\"1\" class=\"dataframe\">\n",
       "  <thead>\n",
       "    <tr style=\"text-align: right;\">\n",
       "      <th></th>\n",
       "      <th>Age</th>\n",
       "      <th>ServicesOpted</th>\n",
       "      <th>Target</th>\n",
       "    </tr>\n",
       "  </thead>\n",
       "  <tbody>\n",
       "    <tr>\n",
       "      <th>count</th>\n",
       "      <td>954.000000</td>\n",
       "      <td>954.000000</td>\n",
       "      <td>954.000000</td>\n",
       "    </tr>\n",
       "    <tr>\n",
       "      <th>mean</th>\n",
       "      <td>32.109015</td>\n",
       "      <td>2.437107</td>\n",
       "      <td>0.234801</td>\n",
       "    </tr>\n",
       "    <tr>\n",
       "      <th>std</th>\n",
       "      <td>3.337388</td>\n",
       "      <td>1.606233</td>\n",
       "      <td>0.424097</td>\n",
       "    </tr>\n",
       "    <tr>\n",
       "      <th>min</th>\n",
       "      <td>27.000000</td>\n",
       "      <td>1.000000</td>\n",
       "      <td>0.000000</td>\n",
       "    </tr>\n",
       "    <tr>\n",
       "      <th>25%</th>\n",
       "      <td>30.000000</td>\n",
       "      <td>1.000000</td>\n",
       "      <td>0.000000</td>\n",
       "    </tr>\n",
       "    <tr>\n",
       "      <th>50%</th>\n",
       "      <td>31.000000</td>\n",
       "      <td>2.000000</td>\n",
       "      <td>0.000000</td>\n",
       "    </tr>\n",
       "    <tr>\n",
       "      <th>75%</th>\n",
       "      <td>35.000000</td>\n",
       "      <td>4.000000</td>\n",
       "      <td>0.000000</td>\n",
       "    </tr>\n",
       "    <tr>\n",
       "      <th>max</th>\n",
       "      <td>38.000000</td>\n",
       "      <td>6.000000</td>\n",
       "      <td>1.000000</td>\n",
       "    </tr>\n",
       "  </tbody>\n",
       "</table>\n",
       "</div>"
      ],
      "text/plain": [
       "              Age  ServicesOpted      Target\n",
       "count  954.000000     954.000000  954.000000\n",
       "mean    32.109015       2.437107    0.234801\n",
       "std      3.337388       1.606233    0.424097\n",
       "min     27.000000       1.000000    0.000000\n",
       "25%     30.000000       1.000000    0.000000\n",
       "50%     31.000000       2.000000    0.000000\n",
       "75%     35.000000       4.000000    0.000000\n",
       "max     38.000000       6.000000    1.000000"
      ]
     },
     "execution_count": 9,
     "metadata": {},
     "output_type": "execute_result"
    }
   ],
   "source": [
    "data.describe()"
   ]
  },
  {
   "cell_type": "code",
   "execution_count": 10,
   "id": "8d6bb2d6-bebc-4fe3-8eed-3cd3c26d8200",
   "metadata": {},
   "outputs": [
    {
     "data": {
      "text/plain": [
       "Index(['Age', 'FrequentFlyer', 'AnnualIncomeClass', 'ServicesOpted',\n",
       "       'AccountSyncedToSocialMedia', 'BookedHotelOrNot', 'Target'],\n",
       "      dtype='object')"
      ]
     },
     "execution_count": 10,
     "metadata": {},
     "output_type": "execute_result"
    }
   ],
   "source": [
    "data.columns"
   ]
  },
  {
   "cell_type": "code",
   "execution_count": 17,
   "id": "40fe711a-65c9-4ffb-bf1b-1762601f6b32",
   "metadata": {},
   "outputs": [],
   "source": [
    "import matplotlib.pyplot as plt\n",
    "import plotly.express as px"
   ]
  },
  {
   "cell_type": "code",
   "execution_count": 18,
   "id": "ab4a47ce-c6a2-48ab-a018-b6d9e637398f",
   "metadata": {},
   "outputs": [
    {
     "data": {
      "application/vnd.plotly.v1+json": {
       "config": {
        "plotlyServerURL": "https://plot.ly"
       },
       "data": [
        {
         "alignmentgroup": "True",
         "bingroup": "x",
         "hovertemplate": "Target=0<br>AnnualIncomeClass=%{x}<br>count=%{y}<extra></extra>",
         "legendgroup": "0",
         "marker": {
          "color": "#636efa",
          "pattern": {
           "shape": ""
          }
         },
         "name": "0",
         "offsetgroup": "0",
         "orientation": "v",
         "showlegend": true,
         "type": "histogram",
         "x": [
          "Middle Income",
          "Middle Income",
          "Middle Income",
          "Low Income",
          "Middle Income",
          "Low Income",
          "Low Income",
          "Middle Income",
          "Low Income",
          "Middle Income",
          "Low Income",
          "Low Income",
          "High Income",
          "Middle Income",
          "Middle Income",
          "Low Income",
          "Middle Income",
          "Middle Income",
          "Low Income",
          "Middle Income",
          "Middle Income",
          "Low Income",
          "High Income",
          "Middle Income",
          "Low Income",
          "Middle Income",
          "Low Income",
          "Middle Income",
          "Low Income",
          "Middle Income",
          "Middle Income",
          "Low Income",
          "High Income",
          "Middle Income",
          "Low Income",
          "Middle Income",
          "Low Income",
          "Middle Income",
          "Middle Income",
          "Low Income",
          "Middle Income",
          "Low Income",
          "High Income",
          "Middle Income",
          "Middle Income",
          "Low Income",
          "Middle Income",
          "Middle Income",
          "Low Income",
          "Middle Income",
          "Middle Income",
          "Low Income",
          "Middle Income",
          "Middle Income",
          "Low Income",
          "Low Income",
          "Middle Income",
          "Middle Income",
          "Middle Income",
          "Low Income",
          "High Income",
          "Low Income",
          "Low Income",
          "Middle Income",
          "Low Income",
          "Middle Income",
          "Middle Income",
          "Middle Income",
          "Middle Income",
          "Low Income",
          "High Income",
          "Middle Income",
          "Low Income",
          "Low Income",
          "Middle Income",
          "Middle Income",
          "Low Income",
          "Low Income",
          "High Income",
          "Middle Income",
          "Middle Income",
          "Low Income",
          "Middle Income",
          "Middle Income",
          "Middle Income",
          "Middle Income",
          "Low Income",
          "High Income",
          "Middle Income",
          "Low Income",
          "Middle Income",
          "Low Income",
          "Middle Income",
          "Low Income",
          "Middle Income",
          "Middle Income",
          "Low Income",
          "High Income",
          "Middle Income",
          "Middle Income",
          "Low Income",
          "Middle Income",
          "Middle Income",
          "Low Income",
          "Middle Income",
          "Low Income",
          "High Income",
          "Middle Income",
          "Low Income",
          "Middle Income",
          "Low Income",
          "Middle Income",
          "Middle Income",
          "Middle Income",
          "Low Income",
          "High Income",
          "Middle Income",
          "Low Income",
          "Middle Income",
          "Low Income",
          "Low Income",
          "Middle Income",
          "Middle Income",
          "Middle Income",
          "Low Income",
          "High Income",
          "Low Income",
          "Middle Income",
          "Low Income",
          "Middle Income",
          "Middle Income",
          "Middle Income",
          "Middle Income",
          "Low Income",
          "Middle Income",
          "Low Income",
          "Low Income",
          "Middle Income",
          "Middle Income",
          "Low Income",
          "High Income",
          "Middle Income",
          "Middle Income",
          "Low Income",
          "Middle Income",
          "Middle Income",
          "Low Income",
          "Middle Income",
          "High Income",
          "Middle Income",
          "Middle Income",
          "Low Income",
          "Middle Income",
          "Low Income",
          "Low Income",
          "Middle Income",
          "Middle Income",
          "Low Income",
          "Middle Income",
          "Low Income",
          "Middle Income",
          "Low Income",
          "Middle Income",
          "Middle Income",
          "Low Income",
          "Middle Income",
          "Low Income",
          "High Income",
          "Middle Income",
          "Low Income",
          "Middle Income",
          "Low Income",
          "Middle Income",
          "Middle Income",
          "Low Income",
          "Middle Income",
          "Middle Income",
          "Low Income",
          "High Income",
          "Middle Income",
          "Middle Income",
          "Low Income",
          "Middle Income",
          "Low Income",
          "Middle Income",
          "Low Income",
          "High Income",
          "Low Income",
          "Low Income",
          "Middle Income",
          "Middle Income",
          "Middle Income",
          "Middle Income",
          "Low Income",
          "High Income",
          "Middle Income",
          "Low Income",
          "Low Income",
          "Low Income",
          "Middle Income",
          "Middle Income",
          "Low Income",
          "Middle Income",
          "Low Income",
          "Low Income",
          "High Income",
          "Middle Income",
          "Middle Income",
          "Middle Income",
          "Middle Income",
          "Middle Income",
          "Low Income",
          "Middle Income",
          "Middle Income",
          "Low Income",
          "Middle Income",
          "Low Income",
          "Middle Income",
          "Middle Income",
          "Low Income",
          "High Income",
          "Middle Income",
          "Low Income",
          "Middle Income",
          "Low Income",
          "Middle Income",
          "Low Income",
          "Middle Income",
          "Low Income",
          "Middle Income",
          "Middle Income",
          "Low Income",
          "Middle Income",
          "Middle Income",
          "Middle Income",
          "Middle Income",
          "Low Income",
          "High Income",
          "Middle Income",
          "Middle Income",
          "Low Income",
          "Low Income",
          "Middle Income",
          "Middle Income",
          "Middle Income",
          "Low Income",
          "High Income",
          "Low Income",
          "Low Income",
          "Middle Income",
          "Low Income",
          "Middle Income",
          "Middle Income",
          "Middle Income",
          "Middle Income",
          "Low Income",
          "High Income",
          "Middle Income",
          "Low Income",
          "Middle Income",
          "Middle Income",
          "Low Income",
          "Middle Income",
          "Low Income",
          "Low Income",
          "High Income",
          "Middle Income",
          "Low Income",
          "Middle Income",
          "Low Income",
          "Middle Income",
          "Middle Income",
          "Middle Income",
          "Low Income",
          "Middle Income",
          "Middle Income",
          "Low Income",
          "Middle Income",
          "Low Income",
          "Low Income",
          "Middle Income",
          "Middle Income",
          "Low Income",
          "High Income",
          "Middle Income",
          "Middle Income",
          "Low Income",
          "Middle Income",
          "Middle Income",
          "Low Income",
          "Low Income",
          "Middle Income",
          "Low Income",
          "High Income",
          "Middle Income",
          "Low Income",
          "Middle Income",
          "Low Income",
          "Middle Income",
          "Middle Income",
          "Middle Income",
          "Middle Income",
          "Low Income",
          "High Income",
          "Middle Income",
          "Low Income",
          "Low Income",
          "Middle Income",
          "Low Income",
          "Middle Income",
          "Middle Income",
          "Low Income",
          "Low Income",
          "Middle Income",
          "Low Income",
          "Middle Income",
          "Low Income",
          "Middle Income",
          "Low Income",
          "High Income",
          "Middle Income",
          "Low Income",
          "Low Income",
          "Middle Income",
          "Middle Income",
          "Middle Income",
          "Low Income",
          "Low Income",
          "High Income",
          "Middle Income",
          "Low Income",
          "Middle Income",
          "Low Income",
          "Middle Income",
          "Low Income",
          "Middle Income",
          "Middle Income",
          "Low Income",
          "High Income",
          "Middle Income",
          "Middle Income",
          "Low Income",
          "Middle Income",
          "Low Income",
          "Middle Income",
          "Middle Income",
          "Low Income",
          "High Income",
          "Middle Income",
          "Low Income",
          "Middle Income",
          "Low Income",
          "Middle Income",
          "Low Income",
          "Low Income",
          "Middle Income",
          "Low Income",
          "Middle Income",
          "Low Income",
          "Middle Income",
          "Middle Income",
          "Low Income",
          "Middle Income",
          "Low Income",
          "High Income",
          "Middle Income",
          "Middle Income",
          "Low Income",
          "Low Income",
          "Middle Income",
          "Low Income",
          "Middle Income",
          "Middle Income",
          "Low Income",
          "High Income",
          "Low Income",
          "Low Income",
          "Middle Income",
          "Low Income",
          "Middle Income",
          "Middle Income",
          "Middle Income",
          "Middle Income",
          "Low Income",
          "High Income",
          "Middle Income",
          "Low Income",
          "Low Income",
          "Low Income",
          "Middle Income",
          "Middle Income",
          "Middle Income",
          "Low Income",
          "High Income",
          "Middle Income",
          "Middle Income",
          "Low Income",
          "Middle Income",
          "Middle Income",
          "Low Income",
          "Middle Income",
          "Middle Income",
          "Low Income",
          "High Income",
          "Middle Income",
          "Low Income",
          "Middle Income",
          "Low Income",
          "Middle Income",
          "Low Income",
          "Middle Income",
          "Middle Income",
          "Low Income",
          "Middle Income",
          "Middle Income",
          "Low Income",
          "Middle Income",
          "Low Income",
          "Low Income",
          "High Income",
          "Middle Income",
          "Middle Income",
          "Low Income",
          "Middle Income",
          "Middle Income",
          "Low Income",
          "Middle Income",
          "Middle Income",
          "Low Income",
          "High Income",
          "Middle Income",
          "Low Income",
          "Middle Income",
          "Low Income",
          "Low Income",
          "Middle Income",
          "Middle Income",
          "Middle Income",
          "Low Income",
          "High Income",
          "Low Income",
          "Low Income",
          "Middle Income",
          "Low Income",
          "Middle Income",
          "Middle Income",
          "Middle Income",
          "Low Income",
          "High Income",
          "Middle Income",
          "Low Income",
          "Middle Income",
          "Low Income",
          "Middle Income",
          "Low Income",
          "Low Income",
          "High Income",
          "Middle Income",
          "Middle Income",
          "Low Income",
          "Middle Income",
          "Middle Income",
          "Middle Income",
          "Middle Income",
          "Low Income",
          "High Income",
          "Middle Income",
          "Low Income",
          "Middle Income",
          "Low Income",
          "Middle Income",
          "Low Income",
          "Low Income",
          "Middle Income",
          "Middle Income",
          "Low Income",
          "Middle Income",
          "Middle Income",
          "Low Income",
          "Middle Income",
          "Middle Income",
          "Low Income",
          "Middle Income",
          "Low Income",
          "High Income",
          "Middle Income",
          "Low Income",
          "Middle Income",
          "Low Income",
          "Middle Income",
          "Middle Income",
          "Middle Income",
          "Low Income",
          "High Income",
          "Middle Income",
          "Low Income",
          "Middle Income",
          "Low Income",
          "Low Income",
          "Middle Income",
          "Low Income",
          "Middle Income",
          "Middle Income",
          "High Income",
          "Low Income",
          "Middle Income",
          "Low Income",
          "Middle Income",
          "Middle Income",
          "Low Income",
          "Middle Income",
          "Middle Income",
          "Low Income",
          "High Income",
          "Middle Income",
          "Low Income",
          "Low Income",
          "Middle Income",
          "Middle Income",
          "Middle Income",
          "Low Income",
          "Low Income",
          "High Income",
          "Low Income",
          "Middle Income",
          "Low Income",
          "Middle Income",
          "Middle Income",
          "Middle Income",
          "Middle Income",
          "Low Income",
          "High Income",
          "Middle Income",
          "Middle Income",
          "Low Income",
          "Middle Income",
          "Low Income",
          "Low Income",
          "Middle Income",
          "Middle Income",
          "Low Income",
          "High Income",
          "Middle Income",
          "Low Income",
          "Middle Income",
          "Low Income",
          "Middle Income",
          "Middle Income",
          "Middle Income",
          "Low Income",
          "High Income",
          "Middle Income",
          "Middle Income",
          "Low Income",
          "Middle Income",
          "Middle Income",
          "Low Income",
          "Middle Income",
          "Middle Income",
          "Low Income",
          "High Income",
          "Middle Income",
          "Middle Income",
          "Low Income",
          "Middle Income",
          "Low Income",
          "Middle Income",
          "Middle Income",
          "Low Income",
          "High Income",
          "Low Income",
          "Low Income",
          "Middle Income",
          "Low Income",
          "Middle Income",
          "Middle Income",
          "Middle Income",
          "Middle Income",
          "Low Income",
          "Middle Income",
          "Low Income",
          "Low Income",
          "Low Income",
          "Middle Income",
          "Low Income",
          "Middle Income",
          "Low Income",
          "Low Income",
          "High Income",
          "Middle Income",
          "Middle Income",
          "Low Income",
          "Middle Income",
          "Low Income",
          "Middle Income",
          "Middle Income",
          "Low Income",
          "High Income",
          "Middle Income",
          "Middle Income",
          "Low Income",
          "Middle Income",
          "Low Income",
          "Middle Income",
          "Middle Income",
          "Low Income",
          "High Income",
          "Middle Income",
          "Low Income",
          "Middle Income",
          "Low Income",
          "Middle Income",
          "Middle Income",
          "Low Income",
          "Middle Income",
          "Low Income",
          "High Income",
          "Middle Income",
          "Middle Income",
          "Low Income",
          "Middle Income",
          "Middle Income",
          "Middle Income",
          "Low Income",
          "High Income",
          "Middle Income",
          "Low Income",
          "Middle Income",
          "Low Income",
          "Low Income",
          "Middle Income",
          "Middle Income",
          "Middle Income",
          "Low Income",
          "High Income",
          "Low Income",
          "Low Income",
          "Middle Income",
          "Low Income",
          "Middle Income",
          "Low Income",
          "Middle Income",
          "Middle Income",
          "Low Income",
          "High Income",
          "Middle Income",
          "Low Income",
          "Middle Income",
          "Middle Income",
          "Low Income",
          "Middle Income",
          "Low Income",
          "High Income",
          "Middle Income",
          "Low Income",
          "Middle Income",
          "Low Income",
          "Middle Income",
          "Middle Income",
          "Middle Income",
          "Middle Income",
          "Low Income",
          "High Income",
          "Middle Income",
          "Middle Income",
          "Low Income",
          "Middle Income",
          "Low Income",
          "Middle Income",
          "Middle Income",
          "Low Income",
          "High Income",
          "Middle Income",
          "Middle Income",
          "Low Income",
          "Middle Income",
          "Middle Income",
          "Low Income",
          "Middle Income",
          "Low Income",
          "High Income",
          "Middle Income",
          "Low Income",
          "Middle Income",
          "Low Income",
          "Middle Income",
          "Middle Income",
          "Middle Income",
          "Low Income",
          "High Income",
          "Middle Income",
          "Middle Income",
          "Low Income",
          "Low Income",
          "Middle Income",
          "Low Income",
          "Middle Income",
          "Middle Income",
          "Low Income",
          "High Income",
          "Low Income",
          "Middle Income",
          "Low Income",
          "Middle Income",
          "Middle Income",
          "Low Income",
          "Middle Income",
          "Middle Income",
          "Low Income",
          "Middle Income",
          "Low Income",
          "Low Income",
          "Low Income",
          "Middle Income",
          "Middle Income",
          "Middle Income",
          "Low Income",
          "Low Income",
          "High Income",
          "Middle Income",
          "Low Income",
          "Middle Income",
          "Low Income",
          "Middle Income",
          "Middle Income",
          "Low Income",
          "Middle Income",
          "Middle Income",
          "Low Income",
          "High Income"
         ],
         "xaxis": "x",
         "yaxis": "y"
        },
        {
         "alignmentgroup": "True",
         "bingroup": "x",
         "hovertemplate": "Target=1<br>AnnualIncomeClass=%{x}<br>count=%{y}<extra></extra>",
         "legendgroup": "1",
         "marker": {
          "color": "#EF553B",
          "pattern": {
           "shape": ""
          }
         },
         "name": "1",
         "offsetgroup": "1",
         "orientation": "v",
         "showlegend": true,
         "type": "histogram",
         "x": [
          "Low Income",
          "High Income",
          "Low Income",
          "High Income",
          "Middle Income",
          "Low Income",
          "High Income",
          "High Income",
          "Low Income",
          "High Income",
          "Low Income",
          "Low Income",
          "High Income",
          "High Income",
          "Low Income",
          "High Income",
          "Low Income",
          "High Income",
          "Low Income",
          "Low Income",
          "High Income",
          "Middle Income",
          "Low Income",
          "Low Income",
          "High Income",
          "Low Income",
          "High Income",
          "Low Income",
          "Low Income",
          "High Income",
          "Low Income",
          "High Income",
          "Middle Income",
          "Low Income",
          "High Income",
          "Low Income",
          "Low Income",
          "High Income",
          "Low Income",
          "High Income",
          "Low Income",
          "High Income",
          "Middle Income",
          "Low Income",
          "Low Income",
          "Low Income",
          "High Income",
          "Middle Income",
          "Low Income",
          "Low Income",
          "High Income",
          "High Income",
          "High Income",
          "Low Income",
          "High Income",
          "Low Income",
          "High Income",
          "Low Income",
          "Middle Income",
          "Low Income",
          "Middle Income",
          "High Income",
          "Low Income",
          "High Income",
          "Low Income",
          "High Income",
          "Low Income",
          "Middle Income",
          "Low Income",
          "High Income",
          "Low Income",
          "High Income",
          "Low Income",
          "High Income",
          "Middle Income",
          "Low Income",
          "High Income",
          "Low Income",
          "High Income",
          "Low Income",
          "Low Income",
          "High Income",
          "Low Income",
          "High Income",
          "Low Income",
          "Low Income",
          "Low Income",
          "High Income",
          "High Income",
          "Middle Income",
          "Low Income",
          "High Income",
          "Low Income",
          "High Income",
          "Low Income",
          "High Income",
          "High Income",
          "Low Income",
          "Middle Income",
          "High Income",
          "Low Income",
          "High Income",
          "Low Income",
          "High Income",
          "Middle Income",
          "Middle Income",
          "Low Income",
          "High Income",
          "Low Income",
          "High Income",
          "Middle Income",
          "Low Income",
          "High Income",
          "Low Income",
          "High Income",
          "Middle Income",
          "Low Income",
          "Middle Income",
          "High Income",
          "High Income",
          "Middle Income",
          "Low Income",
          "High Income",
          "High Income",
          "Low Income",
          "High Income",
          "Low Income",
          "Low Income",
          "Low Income",
          "High Income",
          "High Income",
          "Low Income",
          "High Income",
          "Low Income",
          "High Income",
          "Middle Income",
          "Low Income",
          "Middle Income",
          "Low Income",
          "High Income",
          "High Income",
          "Low Income",
          "High Income",
          "Low Income",
          "Middle Income",
          "Low Income",
          "Low Income",
          "High Income",
          "Middle Income",
          "Low Income",
          "High Income",
          "Low Income",
          "High Income",
          "High Income",
          "Low Income",
          "High Income",
          "Low Income",
          "High Income",
          "Low Income",
          "Middle Income",
          "High Income",
          "Low Income",
          "Low Income",
          "High Income",
          "Low Income",
          "High Income",
          "Low Income",
          "Middle Income",
          "High Income",
          "Low Income",
          "Low Income",
          "High Income",
          "High Income",
          "Low Income",
          "Low Income",
          "Low Income",
          "High Income",
          "Low Income",
          "High Income",
          "Low Income",
          "High Income",
          "Low Income",
          "High Income",
          "High Income",
          "Middle Income",
          "Low Income",
          "High Income",
          "Middle Income",
          "Low Income",
          "High Income",
          "Low Income",
          "High Income",
          "Low Income",
          "Low Income",
          "High Income",
          "Middle Income",
          "Low Income",
          "High Income",
          "Low Income",
          "High Income",
          "Middle Income",
          "Low Income",
          "Low Income",
          "High Income",
          "Low Income",
          "High Income",
          "Low Income",
          "Low Income",
          "High Income",
          "Low Income",
          "Low Income",
          "High Income",
          "Low Income",
          "High Income",
          "Middle Income",
          "Low Income",
          "Low Income",
          "High Income",
          "Low Income",
          "High Income",
          "High Income",
          "High Income",
          "Low Income",
          "High Income"
         ],
         "xaxis": "x",
         "yaxis": "y"
        }
       ],
       "layout": {
        "autosize": true,
        "barmode": "relative",
        "legend": {
         "title": {
          "text": "Target"
         },
         "tracegroupgap": 0
        },
        "margin": {
         "t": 60
        },
        "template": {
         "data": {
          "bar": [
           {
            "error_x": {
             "color": "#2a3f5f"
            },
            "error_y": {
             "color": "#2a3f5f"
            },
            "marker": {
             "line": {
              "color": "#E5ECF6",
              "width": 0.5
             },
             "pattern": {
              "fillmode": "overlay",
              "size": 10,
              "solidity": 0.2
             }
            },
            "type": "bar"
           }
          ],
          "barpolar": [
           {
            "marker": {
             "line": {
              "color": "#E5ECF6",
              "width": 0.5
             },
             "pattern": {
              "fillmode": "overlay",
              "size": 10,
              "solidity": 0.2
             }
            },
            "type": "barpolar"
           }
          ],
          "carpet": [
           {
            "aaxis": {
             "endlinecolor": "#2a3f5f",
             "gridcolor": "white",
             "linecolor": "white",
             "minorgridcolor": "white",
             "startlinecolor": "#2a3f5f"
            },
            "baxis": {
             "endlinecolor": "#2a3f5f",
             "gridcolor": "white",
             "linecolor": "white",
             "minorgridcolor": "white",
             "startlinecolor": "#2a3f5f"
            },
            "type": "carpet"
           }
          ],
          "choropleth": [
           {
            "colorbar": {
             "outlinewidth": 0,
             "ticks": ""
            },
            "type": "choropleth"
           }
          ],
          "contour": [
           {
            "colorbar": {
             "outlinewidth": 0,
             "ticks": ""
            },
            "colorscale": [
             [
              0,
              "#0d0887"
             ],
             [
              0.1111111111111111,
              "#46039f"
             ],
             [
              0.2222222222222222,
              "#7201a8"
             ],
             [
              0.3333333333333333,
              "#9c179e"
             ],
             [
              0.4444444444444444,
              "#bd3786"
             ],
             [
              0.5555555555555556,
              "#d8576b"
             ],
             [
              0.6666666666666666,
              "#ed7953"
             ],
             [
              0.7777777777777778,
              "#fb9f3a"
             ],
             [
              0.8888888888888888,
              "#fdca26"
             ],
             [
              1,
              "#f0f921"
             ]
            ],
            "type": "contour"
           }
          ],
          "contourcarpet": [
           {
            "colorbar": {
             "outlinewidth": 0,
             "ticks": ""
            },
            "type": "contourcarpet"
           }
          ],
          "heatmap": [
           {
            "colorbar": {
             "outlinewidth": 0,
             "ticks": ""
            },
            "colorscale": [
             [
              0,
              "#0d0887"
             ],
             [
              0.1111111111111111,
              "#46039f"
             ],
             [
              0.2222222222222222,
              "#7201a8"
             ],
             [
              0.3333333333333333,
              "#9c179e"
             ],
             [
              0.4444444444444444,
              "#bd3786"
             ],
             [
              0.5555555555555556,
              "#d8576b"
             ],
             [
              0.6666666666666666,
              "#ed7953"
             ],
             [
              0.7777777777777778,
              "#fb9f3a"
             ],
             [
              0.8888888888888888,
              "#fdca26"
             ],
             [
              1,
              "#f0f921"
             ]
            ],
            "type": "heatmap"
           }
          ],
          "heatmapgl": [
           {
            "colorbar": {
             "outlinewidth": 0,
             "ticks": ""
            },
            "colorscale": [
             [
              0,
              "#0d0887"
             ],
             [
              0.1111111111111111,
              "#46039f"
             ],
             [
              0.2222222222222222,
              "#7201a8"
             ],
             [
              0.3333333333333333,
              "#9c179e"
             ],
             [
              0.4444444444444444,
              "#bd3786"
             ],
             [
              0.5555555555555556,
              "#d8576b"
             ],
             [
              0.6666666666666666,
              "#ed7953"
             ],
             [
              0.7777777777777778,
              "#fb9f3a"
             ],
             [
              0.8888888888888888,
              "#fdca26"
             ],
             [
              1,
              "#f0f921"
             ]
            ],
            "type": "heatmapgl"
           }
          ],
          "histogram": [
           {
            "marker": {
             "pattern": {
              "fillmode": "overlay",
              "size": 10,
              "solidity": 0.2
             }
            },
            "type": "histogram"
           }
          ],
          "histogram2d": [
           {
            "colorbar": {
             "outlinewidth": 0,
             "ticks": ""
            },
            "colorscale": [
             [
              0,
              "#0d0887"
             ],
             [
              0.1111111111111111,
              "#46039f"
             ],
             [
              0.2222222222222222,
              "#7201a8"
             ],
             [
              0.3333333333333333,
              "#9c179e"
             ],
             [
              0.4444444444444444,
              "#bd3786"
             ],
             [
              0.5555555555555556,
              "#d8576b"
             ],
             [
              0.6666666666666666,
              "#ed7953"
             ],
             [
              0.7777777777777778,
              "#fb9f3a"
             ],
             [
              0.8888888888888888,
              "#fdca26"
             ],
             [
              1,
              "#f0f921"
             ]
            ],
            "type": "histogram2d"
           }
          ],
          "histogram2dcontour": [
           {
            "colorbar": {
             "outlinewidth": 0,
             "ticks": ""
            },
            "colorscale": [
             [
              0,
              "#0d0887"
             ],
             [
              0.1111111111111111,
              "#46039f"
             ],
             [
              0.2222222222222222,
              "#7201a8"
             ],
             [
              0.3333333333333333,
              "#9c179e"
             ],
             [
              0.4444444444444444,
              "#bd3786"
             ],
             [
              0.5555555555555556,
              "#d8576b"
             ],
             [
              0.6666666666666666,
              "#ed7953"
             ],
             [
              0.7777777777777778,
              "#fb9f3a"
             ],
             [
              0.8888888888888888,
              "#fdca26"
             ],
             [
              1,
              "#f0f921"
             ]
            ],
            "type": "histogram2dcontour"
           }
          ],
          "mesh3d": [
           {
            "colorbar": {
             "outlinewidth": 0,
             "ticks": ""
            },
            "type": "mesh3d"
           }
          ],
          "parcoords": [
           {
            "line": {
             "colorbar": {
              "outlinewidth": 0,
              "ticks": ""
             }
            },
            "type": "parcoords"
           }
          ],
          "pie": [
           {
            "automargin": true,
            "type": "pie"
           }
          ],
          "scatter": [
           {
            "fillpattern": {
             "fillmode": "overlay",
             "size": 10,
             "solidity": 0.2
            },
            "type": "scatter"
           }
          ],
          "scatter3d": [
           {
            "line": {
             "colorbar": {
              "outlinewidth": 0,
              "ticks": ""
             }
            },
            "marker": {
             "colorbar": {
              "outlinewidth": 0,
              "ticks": ""
             }
            },
            "type": "scatter3d"
           }
          ],
          "scattercarpet": [
           {
            "marker": {
             "colorbar": {
              "outlinewidth": 0,
              "ticks": ""
             }
            },
            "type": "scattercarpet"
           }
          ],
          "scattergeo": [
           {
            "marker": {
             "colorbar": {
              "outlinewidth": 0,
              "ticks": ""
             }
            },
            "type": "scattergeo"
           }
          ],
          "scattergl": [
           {
            "marker": {
             "colorbar": {
              "outlinewidth": 0,
              "ticks": ""
             }
            },
            "type": "scattergl"
           }
          ],
          "scattermapbox": [
           {
            "marker": {
             "colorbar": {
              "outlinewidth": 0,
              "ticks": ""
             }
            },
            "type": "scattermapbox"
           }
          ],
          "scatterpolar": [
           {
            "marker": {
             "colorbar": {
              "outlinewidth": 0,
              "ticks": ""
             }
            },
            "type": "scatterpolar"
           }
          ],
          "scatterpolargl": [
           {
            "marker": {
             "colorbar": {
              "outlinewidth": 0,
              "ticks": ""
             }
            },
            "type": "scatterpolargl"
           }
          ],
          "scatterternary": [
           {
            "marker": {
             "colorbar": {
              "outlinewidth": 0,
              "ticks": ""
             }
            },
            "type": "scatterternary"
           }
          ],
          "surface": [
           {
            "colorbar": {
             "outlinewidth": 0,
             "ticks": ""
            },
            "colorscale": [
             [
              0,
              "#0d0887"
             ],
             [
              0.1111111111111111,
              "#46039f"
             ],
             [
              0.2222222222222222,
              "#7201a8"
             ],
             [
              0.3333333333333333,
              "#9c179e"
             ],
             [
              0.4444444444444444,
              "#bd3786"
             ],
             [
              0.5555555555555556,
              "#d8576b"
             ],
             [
              0.6666666666666666,
              "#ed7953"
             ],
             [
              0.7777777777777778,
              "#fb9f3a"
             ],
             [
              0.8888888888888888,
              "#fdca26"
             ],
             [
              1,
              "#f0f921"
             ]
            ],
            "type": "surface"
           }
          ],
          "table": [
           {
            "cells": {
             "fill": {
              "color": "#EBF0F8"
             },
             "line": {
              "color": "white"
             }
            },
            "header": {
             "fill": {
              "color": "#C8D4E3"
             },
             "line": {
              "color": "white"
             }
            },
            "type": "table"
           }
          ]
         },
         "layout": {
          "annotationdefaults": {
           "arrowcolor": "#2a3f5f",
           "arrowhead": 0,
           "arrowwidth": 1
          },
          "autotypenumbers": "strict",
          "coloraxis": {
           "colorbar": {
            "outlinewidth": 0,
            "ticks": ""
           }
          },
          "colorscale": {
           "diverging": [
            [
             0,
             "#8e0152"
            ],
            [
             0.1,
             "#c51b7d"
            ],
            [
             0.2,
             "#de77ae"
            ],
            [
             0.3,
             "#f1b6da"
            ],
            [
             0.4,
             "#fde0ef"
            ],
            [
             0.5,
             "#f7f7f7"
            ],
            [
             0.6,
             "#e6f5d0"
            ],
            [
             0.7,
             "#b8e186"
            ],
            [
             0.8,
             "#7fbc41"
            ],
            [
             0.9,
             "#4d9221"
            ],
            [
             1,
             "#276419"
            ]
           ],
           "sequential": [
            [
             0,
             "#0d0887"
            ],
            [
             0.1111111111111111,
             "#46039f"
            ],
            [
             0.2222222222222222,
             "#7201a8"
            ],
            [
             0.3333333333333333,
             "#9c179e"
            ],
            [
             0.4444444444444444,
             "#bd3786"
            ],
            [
             0.5555555555555556,
             "#d8576b"
            ],
            [
             0.6666666666666666,
             "#ed7953"
            ],
            [
             0.7777777777777778,
             "#fb9f3a"
            ],
            [
             0.8888888888888888,
             "#fdca26"
            ],
            [
             1,
             "#f0f921"
            ]
           ],
           "sequentialminus": [
            [
             0,
             "#0d0887"
            ],
            [
             0.1111111111111111,
             "#46039f"
            ],
            [
             0.2222222222222222,
             "#7201a8"
            ],
            [
             0.3333333333333333,
             "#9c179e"
            ],
            [
             0.4444444444444444,
             "#bd3786"
            ],
            [
             0.5555555555555556,
             "#d8576b"
            ],
            [
             0.6666666666666666,
             "#ed7953"
            ],
            [
             0.7777777777777778,
             "#fb9f3a"
            ],
            [
             0.8888888888888888,
             "#fdca26"
            ],
            [
             1,
             "#f0f921"
            ]
           ]
          },
          "colorway": [
           "#636efa",
           "#EF553B",
           "#00cc96",
           "#ab63fa",
           "#FFA15A",
           "#19d3f3",
           "#FF6692",
           "#B6E880",
           "#FF97FF",
           "#FECB52"
          ],
          "font": {
           "color": "#2a3f5f"
          },
          "geo": {
           "bgcolor": "white",
           "lakecolor": "white",
           "landcolor": "#E5ECF6",
           "showlakes": true,
           "showland": true,
           "subunitcolor": "white"
          },
          "hoverlabel": {
           "align": "left"
          },
          "hovermode": "closest",
          "mapbox": {
           "style": "light"
          },
          "paper_bgcolor": "white",
          "plot_bgcolor": "#E5ECF6",
          "polar": {
           "angularaxis": {
            "gridcolor": "white",
            "linecolor": "white",
            "ticks": ""
           },
           "bgcolor": "#E5ECF6",
           "radialaxis": {
            "gridcolor": "white",
            "linecolor": "white",
            "ticks": ""
           }
          },
          "scene": {
           "xaxis": {
            "backgroundcolor": "#E5ECF6",
            "gridcolor": "white",
            "gridwidth": 2,
            "linecolor": "white",
            "showbackground": true,
            "ticks": "",
            "zerolinecolor": "white"
           },
           "yaxis": {
            "backgroundcolor": "#E5ECF6",
            "gridcolor": "white",
            "gridwidth": 2,
            "linecolor": "white",
            "showbackground": true,
            "ticks": "",
            "zerolinecolor": "white"
           },
           "zaxis": {
            "backgroundcolor": "#E5ECF6",
            "gridcolor": "white",
            "gridwidth": 2,
            "linecolor": "white",
            "showbackground": true,
            "ticks": "",
            "zerolinecolor": "white"
           }
          },
          "shapedefaults": {
           "line": {
            "color": "#2a3f5f"
           }
          },
          "ternary": {
           "aaxis": {
            "gridcolor": "white",
            "linecolor": "white",
            "ticks": ""
           },
           "baxis": {
            "gridcolor": "white",
            "linecolor": "white",
            "ticks": ""
           },
           "bgcolor": "#E5ECF6",
           "caxis": {
            "gridcolor": "white",
            "linecolor": "white",
            "ticks": ""
           }
          },
          "title": {
           "x": 0.05
          },
          "xaxis": {
           "automargin": true,
           "gridcolor": "white",
           "linecolor": "white",
           "ticks": "",
           "title": {
            "standoff": 15
           },
           "zerolinecolor": "white",
           "zerolinewidth": 2
          },
          "yaxis": {
           "automargin": true,
           "gridcolor": "white",
           "linecolor": "white",
           "ticks": "",
           "title": {
            "standoff": 15
           },
           "zerolinecolor": "white",
           "zerolinewidth": 2
          }
         }
        },
        "xaxis": {
         "anchor": "y",
         "autorange": true,
         "domain": [
          0,
          1
         ],
         "range": [
          -0.5,
          2.5
         ],
         "title": {
          "text": "AnnualIncomeClass"
         },
         "type": "category"
        },
        "yaxis": {
         "anchor": "x",
         "autorange": true,
         "domain": [
          0,
          1
         ],
         "range": [
          0,
          430.5263157894737
         ],
         "title": {
          "text": "count"
         }
        }
       }
      },
      "image/png": "[encoded data removed]",
      "text/html": [
       "<div>                            <div id=\"83d3293d-625e-49bc-adf7-25da80bb0aae\" class=\"plotly-graph-div\" style=\"height:525px; width:100%;\"></div>            <script type=\"text/javascript\">                require([\"plotly\"], function(Plotly) {                    window.PLOTLYENV=window.PLOTLYENV || {};                                    if (document.getElementById(\"83d3293d-625e-49bc-adf7-25da80bb0aae\")) {                    Plotly.newPlot(                        \"83d3293d-625e-49bc-adf7-25da80bb0aae\",                        [{\"alignmentgroup\":\"True\",\"bingroup\":\"x\",\"hovertemplate\":\"Target=0<br>AnnualIncomeClass=%{x}<br>count=%{y}<extra></extra>\",\"legendgroup\":\"0\",\"marker\":{\"color\":\"#636efa\",\"pattern\":{\"shape\":\"\"}},\"name\":\"0\",\"offsetgroup\":\"0\",\"orientation\":\"v\",\"showlegend\":true,\"x\":[\"Middle Income\",\"Middle Income\",\"Middle Income\",\"Low Income\",\"Middle Income\",\"Low Income\",\"Low Income\",\"Middle Income\",\"Low Income\",\"Middle Income\",\"Low Income\",\"Low Income\",\"High Income\",\"Middle Income\",\"Middle Income\",\"Low Income\",\"Middle Income\",\"Middle Income\",\"Low Income\",\"Middle Income\",\"Middle Income\",\"Low Income\",\"High Income\",\"Middle Income\",\"Low Income\",\"Middle Income\",\"Low Income\",\"Middle Income\",\"Low Income\",\"Middle Income\",\"Middle Income\",\"Low Income\",\"High Income\",\"Middle Income\",\"Low Income\",\"Middle Income\",\"Low Income\",\"Middle Income\",\"Middle Income\",\"Low Income\",\"Middle Income\",\"Low Income\",\"High Income\",\"Middle Income\",\"Middle Income\",\"Low Income\",\"Middle Income\",\"Middle Income\",\"Low Income\",\"Middle Income\",\"Middle Income\",\"Low Income\",\"Middle Income\",\"Middle Income\",\"Low Income\",\"Low Income\",\"Middle Income\",\"Middle Income\",\"Middle Income\",\"Low Income\",\"High Income\",\"Low Income\",\"Low Income\",\"Middle Income\",\"Low Income\",\"Middle Income\",\"Middle Income\",\"Middle Income\",\"Middle Income\",\"Low Income\",\"High Income\",\"Middle Income\",\"Low Income\",\"Low Income\",\"Middle Income\",\"Middle Income\",\"Low Income\",\"Low Income\",\"High Income\",\"Middle Income\",\"Middle Income\",\"Low Income\",\"Middle Income\",\"Middle Income\",\"Middle Income\",\"Middle Income\",\"Low Income\",\"High Income\",\"Middle Income\",\"Low Income\",\"Middle Income\",\"Low Income\",\"Middle Income\",\"Low Income\",\"Middle Income\",\"Middle Income\",\"Low Income\",\"High Income\",\"Middle Income\",\"Middle Income\",\"Low Income\",\"Middle Income\",\"Middle Income\",\"Low Income\",\"Middle Income\",\"Low Income\",\"High Income\",\"Middle Income\",\"Low Income\",\"Middle Income\",\"Low Income\",\"Middle Income\",\"Middle Income\",\"Middle Income\",\"Low Income\",\"High Income\",\"Middle Income\",\"Low Income\",\"Middle Income\",\"Low Income\",\"Low Income\",\"Middle Income\",\"Middle Income\",\"Middle Income\",\"Low Income\",\"High Income\",\"Low Income\",\"Middle Income\",\"Low Income\",\"Middle Income\",\"Middle Income\",\"Middle Income\",\"Middle Income\",\"Low Income\",\"Middle Income\",\"Low Income\",\"Low Income\",\"Middle Income\",\"Middle Income\",\"Low Income\",\"High Income\",\"Middle Income\",\"Middle Income\",\"Low Income\",\"Middle Income\",\"Middle Income\",\"Low Income\",\"Middle Income\",\"High Income\",\"Middle Income\",\"Middle Income\",\"Low Income\",\"Middle Income\",\"Low Income\",\"Low Income\",\"Middle Income\",\"Middle Income\",\"Low Income\",\"Middle Income\",\"Low Income\",\"Middle Income\",\"Low Income\",\"Middle Income\",\"Middle Income\",\"Low Income\",\"Middle Income\",\"Low Income\",\"High Income\",\"Middle Income\",\"Low Income\",\"Middle Income\",\"Low Income\",\"Middle Income\",\"Middle Income\",\"Low Income\",\"Middle Income\",\"Middle Income\",\"Low Income\",\"High Income\",\"Middle Income\",\"Middle Income\",\"Low Income\",\"Middle Income\",\"Low Income\",\"Middle Income\",\"Low Income\",\"High Income\",\"Low Income\",\"Low Income\",\"Middle Income\",\"Middle Income\",\"Middle Income\",\"Middle Income\",\"Low Income\",\"High Income\",\"Middle Income\",\"Low Income\",\"Low Income\",\"Low Income\",\"Middle Income\",\"Middle Income\",\"Low Income\",\"Middle Income\",\"Low Income\",\"Low Income\",\"High Income\",\"Middle Income\",\"Middle Income\",\"Middle Income\",\"Middle Income\",\"Middle Income\",\"Low Income\",\"Middle Income\",\"Middle Income\",\"Low Income\",\"Middle Income\",\"Low Income\",\"Middle Income\",\"Middle Income\",\"Low Income\",\"High Income\",\"Middle Income\",\"Low Income\",\"Middle Income\",\"Low Income\",\"Middle Income\",\"Low Income\",\"Middle Income\",\"Low Income\",\"Middle Income\",\"Middle Income\",\"Low Income\",\"Middle Income\",\"Middle Income\",\"Middle Income\",\"Middle Income\",\"Low Income\",\"High Income\",\"Middle Income\",\"Middle Income\",\"Low Income\",\"Low Income\",\"Middle Income\",\"Middle Income\",\"Middle Income\",\"Low Income\",\"High Income\",\"Low Income\",\"Low Income\",\"Middle Income\",\"Low Income\",\"Middle Income\",\"Middle Income\",\"Middle Income\",\"Middle Income\",\"Low Income\",\"High Income\",\"Middle Income\",\"Low Income\",\"Middle Income\",\"Middle Income\",\"Low Income\",\"Middle Income\",\"Low Income\",\"Low Income\",\"High Income\",\"Middle Income\",\"Low Income\",\"Middle Income\",\"Low Income\",\"Middle Income\",\"Middle Income\",\"Middle Income\",\"Low Income\",\"Middle Income\",\"Middle Income\",\"Low Income\",\"Middle Income\",\"Low Income\",\"Low Income\",\"Middle Income\",\"Middle Income\",\"Low Income\",\"High Income\",\"Middle Income\",\"Middle Income\",\"Low Income\",\"Middle Income\",\"Middle Income\",\"Low Income\",\"Low Income\",\"Middle Income\",\"Low Income\",\"High Income\",\"Middle Income\",\"Low Income\",\"Middle Income\",\"Low Income\",\"Middle Income\",\"Middle Income\",\"Middle Income\",\"Middle Income\",\"Low Income\",\"High Income\",\"Middle Income\",\"Low Income\",\"Low Income\",\"Middle Income\",\"Low Income\",\"Middle Income\",\"Middle Income\",\"Low Income\",\"Low Income\",\"Middle Income\",\"Low Income\",\"Middle Income\",\"Low Income\",\"Middle Income\",\"Low Income\",\"High Income\",\"Middle Income\",\"Low Income\",\"Low Income\",\"Middle Income\",\"Middle Income\",\"Middle Income\",\"Low Income\",\"Low Income\",\"High Income\",\"Middle Income\",\"Low Income\",\"Middle Income\",\"Low Income\",\"Middle Income\",\"Low Income\",\"Middle Income\",\"Middle Income\",\"Low Income\",\"High Income\",\"Middle Income\",\"Middle Income\",\"Low Income\",\"Middle Income\",\"Low Income\",\"Middle Income\",\"Middle Income\",\"Low Income\",\"High Income\",\"Middle Income\",\"Low Income\",\"Middle Income\",\"Low Income\",\"Middle Income\",\"Low Income\",\"Low Income\",\"Middle Income\",\"Low Income\",\"Middle Income\",\"Low Income\",\"Middle Income\",\"Middle Income\",\"Low Income\",\"Middle Income\",\"Low Income\",\"High Income\",\"Middle Income\",\"Middle Income\",\"Low Income\",\"Low Income\",\"Middle Income\",\"Low Income\",\"Middle Income\",\"Middle Income\",\"Low Income\",\"High Income\",\"Low Income\",\"Low Income\",\"Middle Income\",\"Low Income\",\"Middle Income\",\"Middle Income\",\"Middle Income\",\"Middle Income\",\"Low Income\",\"High Income\",\"Middle Income\",\"Low Income\",\"Low Income\",\"Low Income\",\"Middle Income\",\"Middle Income\",\"Middle Income\",\"Low Income\",\"High Income\",\"Middle Income\",\"Middle Income\",\"Low Income\",\"Middle Income\",\"Middle Income\",\"Low Income\",\"Middle Income\",\"Middle Income\",\"Low Income\",\"High Income\",\"Middle Income\",\"Low Income\",\"Middle Income\",\"Low Income\",\"Middle Income\",\"Low Income\",\"Middle Income\",\"Middle Income\",\"Low Income\",\"Middle Income\",\"Middle Income\",\"Low Income\",\"Middle Income\",\"Low Income\",\"Low Income\",\"High Income\",\"Middle Income\",\"Middle Income\",\"Low Income\",\"Middle Income\",\"Middle Income\",\"Low Income\",\"Middle Income\",\"Middle Income\",\"Low Income\",\"High Income\",\"Middle Income\",\"Low Income\",\"Middle Income\",\"Low Income\",\"Low Income\",\"Middle Income\",\"Middle Income\",\"Middle Income\",\"Low Income\",\"High Income\",\"Low Income\",\"Low Income\",\"Middle Income\",\"Low Income\",\"Middle Income\",\"Middle Income\",\"Middle Income\",\"Low Income\",\"High Income\",\"Middle Income\",\"Low Income\",\"Middle Income\",\"Low Income\",\"Middle Income\",\"Low Income\",\"Low Income\",\"High Income\",\"Middle Income\",\"Middle Income\",\"Low Income\",\"Middle Income\",\"Middle Income\",\"Middle Income\",\"Middle Income\",\"Low Income\",\"High Income\",\"Middle Income\",\"Low Income\",\"Middle Income\",\"Low Income\",\"Middle Income\",\"Low Income\",\"Low Income\",\"Middle Income\",\"Middle Income\",\"Low Income\",\"Middle Income\",\"Middle Income\",\"Low Income\",\"Middle Income\",\"Middle Income\",\"Low Income\",\"Middle Income\",\"Low Income\",\"High Income\",\"Middle Income\",\"Low Income\",\"Middle Income\",\"Low Income\",\"Middle Income\",\"Middle Income\",\"Middle Income\",\"Low Income\",\"High Income\",\"Middle Income\",\"Low Income\",\"Middle Income\",\"Low Income\",\"Low Income\",\"Middle Income\",\"Low Income\",\"Middle Income\",\"Middle Income\",\"High Income\",\"Low Income\",\"Middle Income\",\"Low Income\",\"Middle Income\",\"Middle Income\",\"Low Income\",\"Middle Income\",\"Middle Income\",\"Low Income\",\"High Income\",\"Middle Income\",\"Low Income\",\"Low Income\",\"Middle Income\",\"Middle Income\",\"Middle Income\",\"Low Income\",\"Low Income\",\"High Income\",\"Low Income\",\"Middle Income\",\"Low Income\",\"Middle Income\",\"Middle Income\",\"Middle Income\",\"Middle Income\",\"Low Income\",\"High Income\",\"Middle Income\",\"Middle Income\",\"Low Income\",\"Middle Income\",\"Low Income\",\"Low Income\",\"Middle Income\",\"Middle Income\",\"Low Income\",\"High Income\",\"Middle Income\",\"Low Income\",\"Middle Income\",\"Low Income\",\"Middle Income\",\"Middle Income\",\"Middle Income\",\"Low Income\",\"High Income\",\"Middle Income\",\"Middle Income\",\"Low Income\",\"Middle Income\",\"Middle Income\",\"Low Income\",\"Middle Income\",\"Middle Income\",\"Low Income\",\"High Income\",\"Middle Income\",\"Middle Income\",\"Low Income\",\"Middle Income\",\"Low Income\",\"Middle Income\",\"Middle Income\",\"Low Income\",\"High Income\",\"Low Income\",\"Low Income\",\"Middle Income\",\"Low Income\",\"Middle Income\",\"Middle Income\",\"Middle Income\",\"Middle Income\",\"Low Income\",\"Middle Income\",\"Low Income\",\"Low Income\",\"Low Income\",\"Middle Income\",\"Low Income\",\"Middle Income\",\"Low Income\",\"Low Income\",\"High Income\",\"Middle Income\",\"Middle Income\",\"Low Income\",\"Middle Income\",\"Low Income\",\"Middle Income\",\"Middle Income\",\"Low Income\",\"High Income\",\"Middle Income\",\"Middle Income\",\"Low Income\",\"Middle Income\",\"Low Income\",\"Middle Income\",\"Middle Income\",\"Low Income\",\"High Income\",\"Middle Income\",\"Low Income\",\"Middle Income\",\"Low Income\",\"Middle Income\",\"Middle Income\",\"Low Income\",\"Middle Income\",\"Low Income\",\"High Income\",\"Middle Income\",\"Middle Income\",\"Low Income\",\"Middle Income\",\"Middle Income\",\"Middle Income\",\"Low Income\",\"High Income\",\"Middle Income\",\"Low Income\",\"Middle Income\",\"Low Income\",\"Low Income\",\"Middle Income\",\"Middle Income\",\"Middle Income\",\"Low Income\",\"High Income\",\"Low Income\",\"Low Income\",\"Middle Income\",\"Low Income\",\"Middle Income\",\"Low Income\",\"Middle Income\",\"Middle Income\",\"Low Income\",\"High Income\",\"Middle Income\",\"Low Income\",\"Middle Income\",\"Middle Income\",\"Low Income\",\"Middle Income\",\"Low Income\",\"High Income\",\"Middle Income\",\"Low Income\",\"Middle Income\",\"Low Income\",\"Middle Income\",\"Middle Income\",\"Middle Income\",\"Middle Income\",\"Low Income\",\"High Income\",\"Middle Income\",\"Middle Income\",\"Low Income\",\"Middle Income\",\"Low Income\",\"Middle Income\",\"Middle Income\",\"Low Income\",\"High Income\",\"Middle Income\",\"Middle Income\",\"Low Income\",\"Middle Income\",\"Middle Income\",\"Low Income\",\"Middle Income\",\"Low Income\",\"High Income\",\"Middle Income\",\"Low Income\",\"Middle Income\",\"Low Income\",\"Middle Income\",\"Middle Income\",\"Middle Income\",\"Low Income\",\"High Income\",\"Middle Income\",\"Middle Income\",\"Low Income\",\"Low Income\",\"Middle Income\",\"Low Income\",\"Middle Income\",\"Middle Income\",\"Low Income\",\"High Income\",\"Low Income\",\"Middle Income\",\"Low Income\",\"Middle Income\",\"Middle Income\",\"Low Income\",\"Middle Income\",\"Middle Income\",\"Low Income\",\"Middle Income\",\"Low Income\",\"Low Income\",\"Low Income\",\"Middle Income\",\"Middle Income\",\"Middle Income\",\"Low Income\",\"Low Income\",\"High Income\",\"Middle Income\",\"Low Income\",\"Middle Income\",\"Low Income\",\"Middle Income\",\"Middle Income\",\"Low Income\",\"Middle Income\",\"Middle Income\",\"Low Income\",\"High Income\"],\"xaxis\":\"x\",\"yaxis\":\"y\",\"type\":\"histogram\"},{\"alignmentgroup\":\"True\",\"bingroup\":\"x\",\"hovertemplate\":\"Target=1<br>AnnualIncomeClass=%{x}<br>count=%{y}<extra></extra>\",\"legendgroup\":\"1\",\"marker\":{\"color\":\"#EF553B\",\"pattern\":{\"shape\":\"\"}},\"name\":\"1\",\"offsetgroup\":\"1\",\"orientation\":\"v\",\"showlegend\":true,\"x\":[\"Low Income\",\"High Income\",\"Low Income\",\"High Income\",\"Middle Income\",\"Low Income\",\"High Income\",\"High Income\",\"Low Income\",\"High Income\",\"Low Income\",\"Low Income\",\"High Income\",\"High Income\",\"Low Income\",\"High Income\",\"Low Income\",\"High Income\",\"Low Income\",\"Low Income\",\"High Income\",\"Middle Income\",\"Low Income\",\"Low Income\",\"High Income\",\"Low Income\",\"High Income\",\"Low Income\",\"Low Income\",\"High Income\",\"Low Income\",\"High Income\",\"Middle Income\",\"Low Income\",\"High Income\",\"Low Income\",\"Low Income\",\"High Income\",\"Low Income\",\"High Income\",\"Low Income\",\"High Income\",\"Middle Income\",\"Low Income\",\"Low Income\",\"Low Income\",\"High Income\",\"Middle Income\",\"Low Income\",\"Low Income\",\"High Income\",\"High Income\",\"High Income\",\"Low Income\",\"High Income\",\"Low Income\",\"High Income\",\"Low Income\",\"Middle Income\",\"Low Income\",\"Middle Income\",\"High Income\",\"Low Income\",\"High Income\",\"Low Income\",\"High Income\",\"Low Income\",\"Middle Income\",\"Low Income\",\"High Income\",\"Low Income\",\"High Income\",\"Low Income\",\"High Income\",\"Middle Income\",\"Low Income\",\"High Income\",\"Low Income\",\"High Income\",\"Low Income\",\"Low Income\",\"High Income\",\"Low Income\",\"High Income\",\"Low Income\",\"Low Income\",\"Low Income\",\"High Income\",\"High Income\",\"Middle Income\",\"Low Income\",\"High Income\",\"Low Income\",\"High Income\",\"Low Income\",\"High Income\",\"High Income\",\"Low Income\",\"Middle Income\",\"High Income\",\"Low Income\",\"High Income\",\"Low Income\",\"High Income\",\"Middle Income\",\"Middle Income\",\"Low Income\",\"High Income\",\"Low Income\",\"High Income\",\"Middle Income\",\"Low Income\",\"High Income\",\"Low Income\",\"High Income\",\"Middle Income\",\"Low Income\",\"Middle Income\",\"High Income\",\"High Income\",\"Middle Income\",\"Low Income\",\"High Income\",\"High Income\",\"Low Income\",\"High Income\",\"Low Income\",\"Low Income\",\"Low Income\",\"High Income\",\"High Income\",\"Low Income\",\"High Income\",\"Low Income\",\"High Income\",\"Middle Income\",\"Low Income\",\"Middle Income\",\"Low Income\",\"High Income\",\"High Income\",\"Low Income\",\"High Income\",\"Low Income\",\"Middle Income\",\"Low Income\",\"Low Income\",\"High Income\",\"Middle Income\",\"Low Income\",\"High Income\",\"Low Income\",\"High Income\",\"High Income\",\"Low Income\",\"High Income\",\"Low Income\",\"High Income\",\"Low Income\",\"Middle Income\",\"High Income\",\"Low Income\",\"Low Income\",\"High Income\",\"Low Income\",\"High Income\",\"Low Income\",\"Middle Income\",\"High Income\",\"Low Income\",\"Low Income\",\"High Income\",\"High Income\",\"Low Income\",\"Low Income\",\"Low Income\",\"High Income\",\"Low Income\",\"High Income\",\"Low Income\",\"High Income\",\"Low Income\",\"High Income\",\"High Income\",\"Middle Income\",\"Low Income\",\"High Income\",\"Middle Income\",\"Low Income\",\"High Income\",\"Low Income\",\"High Income\",\"Low Income\",\"Low Income\",\"High Income\",\"Middle Income\",\"Low Income\",\"High Income\",\"Low Income\",\"High Income\",\"Middle Income\",\"Low Income\",\"Low Income\",\"High Income\",\"Low Income\",\"High Income\",\"Low Income\",\"Low Income\",\"High Income\",\"Low Income\",\"Low Income\",\"High Income\",\"Low Income\",\"High Income\",\"Middle Income\",\"Low Income\",\"Low Income\",\"High Income\",\"Low Income\",\"High Income\",\"High Income\",\"High Income\",\"Low Income\",\"High Income\"],\"xaxis\":\"x\",\"yaxis\":\"y\",\"type\":\"histogram\"}],                        {\"template\":{\"data\":{\"histogram2dcontour\":[{\"type\":\"histogram2dcontour\",\"colorbar\":{\"outlinewidth\":0,\"ticks\":\"\"},\"colorscale\":[[0.0,\"#0d0887\"],[0.1111111111111111,\"#46039f\"],[0.2222222222222222,\"#7201a8\"],[0.3333333333333333,\"#9c179e\"],[0.4444444444444444,\"#bd3786\"],[0.5555555555555556,\"#d8576b\"],[0.6666666666666666,\"#ed7953\"],[0.7777777777777778,\"#fb9f3a\"],[0.8888888888888888,\"#fdca26\"],[1.0,\"#f0f921\"]]}],\"choropleth\":[{\"type\":\"choropleth\",\"colorbar\":{\"outlinewidth\":0,\"ticks\":\"\"}}],\"histogram2d\":[{\"type\":\"histogram2d\",\"colorbar\":{\"outlinewidth\":0,\"ticks\":\"\"},\"colorscale\":[[0.0,\"#0d0887\"],[0.1111111111111111,\"#46039f\"],[0.2222222222222222,\"#7201a8\"],[0.3333333333333333,\"#9c179e\"],[0.4444444444444444,\"#bd3786\"],[0.5555555555555556,\"#d8576b\"],[0.6666666666666666,\"#ed7953\"],[0.7777777777777778,\"#fb9f3a\"],[0.8888888888888888,\"#fdca26\"],[1.0,\"#f0f921\"]]}],\"heatmap\":[{\"type\":\"heatmap\",\"colorbar\":{\"outlinewidth\":0,\"ticks\":\"\"},\"colorscale\":[[0.0,\"#0d0887\"],[0.1111111111111111,\"#46039f\"],[0.2222222222222222,\"#7201a8\"],[0.3333333333333333,\"#9c179e\"],[0.4444444444444444,\"#bd3786\"],[0.5555555555555556,\"#d8576b\"],[0.6666666666666666,\"#ed7953\"],[0.7777777777777778,\"#fb9f3a\"],[0.8888888888888888,\"#fdca26\"],[1.0,\"#f0f921\"]]}],\"heatmapgl\":[{\"type\":\"heatmapgl\",\"colorbar\":{\"outlinewidth\":0,\"ticks\":\"\"},\"colorscale\":[[0.0,\"#0d0887\"],[0.1111111111111111,\"#46039f\"],[0.2222222222222222,\"#7201a8\"],[0.3333333333333333,\"#9c179e\"],[0.4444444444444444,\"#bd3786\"],[0.5555555555555556,\"#d8576b\"],[0.6666666666666666,\"#ed7953\"],[0.7777777777777778,\"#fb9f3a\"],[0.8888888888888888,\"#fdca26\"],[1.0,\"#f0f921\"]]}],\"contourcarpet\":[{\"type\":\"contourcarpet\",\"colorbar\":{\"outlinewidth\":0,\"ticks\":\"\"}}],\"contour\":[{\"type\":\"contour\",\"colorbar\":{\"outlinewidth\":0,\"ticks\":\"\"},\"colorscale\":[[0.0,\"#0d0887\"],[0.1111111111111111,\"#46039f\"],[0.2222222222222222,\"#7201a8\"],[0.3333333333333333,\"#9c179e\"],[0.4444444444444444,\"#bd3786\"],[0.5555555555555556,\"#d8576b\"],[0.6666666666666666,\"#ed7953\"],[0.7777777777777778,\"#fb9f3a\"],[0.8888888888888888,\"#fdca26\"],[1.0,\"#f0f921\"]]}],\"surface\":[{\"type\":\"surface\",\"colorbar\":{\"outlinewidth\":0,\"ticks\":\"\"},\"colorscale\":[[0.0,\"#0d0887\"],[0.1111111111111111,\"#46039f\"],[0.2222222222222222,\"#7201a8\"],[0.3333333333333333,\"#9c179e\"],[0.4444444444444444,\"#bd3786\"],[0.5555555555555556,\"#d8576b\"],[0.6666666666666666,\"#ed7953\"],[0.7777777777777778,\"#fb9f3a\"],[0.8888888888888888,\"#fdca26\"],[1.0,\"#f0f921\"]]}],\"mesh3d\":[{\"type\":\"mesh3d\",\"colorbar\":{\"outlinewidth\":0,\"ticks\":\"\"}}],\"scatter\":[{\"fillpattern\":{\"fillmode\":\"overlay\",\"size\":10,\"solidity\":0.2},\"type\":\"scatter\"}],\"parcoords\":[{\"type\":\"parcoords\",\"line\":{\"colorbar\":{\"outlinewidth\":0,\"ticks\":\"\"}}}],\"scatterpolargl\":[{\"type\":\"scatterpolargl\",\"marker\":{\"colorbar\":{\"outlinewidth\":0,\"ticks\":\"\"}}}],\"bar\":[{\"error_x\":{\"color\":\"#2a3f5f\"},\"error_y\":{\"color\":\"#2a3f5f\"},\"marker\":{\"line\":{\"color\":\"#E5ECF6\",\"width\":0.5},\"pattern\":{\"fillmode\":\"overlay\",\"size\":10,\"solidity\":0.2}},\"type\":\"bar\"}],\"scattergeo\":[{\"type\":\"scattergeo\",\"marker\":{\"colorbar\":{\"outlinewidth\":0,\"ticks\":\"\"}}}],\"scatterpolar\":[{\"type\":\"scatterpolar\",\"marker\":{\"colorbar\":{\"outlinewidth\":0,\"ticks\":\"\"}}}],\"histogram\":[{\"marker\":{\"pattern\":{\"fillmode\":\"overlay\",\"size\":10,\"solidity\":0.2}},\"type\":\"histogram\"}],\"scattergl\":[{\"type\":\"scattergl\",\"marker\":{\"colorbar\":{\"outlinewidth\":0,\"ticks\":\"\"}}}],\"scatter3d\":[{\"type\":\"scatter3d\",\"line\":{\"colorbar\":{\"outlinewidth\":0,\"ticks\":\"\"}},\"marker\":{\"colorbar\":{\"outlinewidth\":0,\"ticks\":\"\"}}}],\"scattermapbox\":[{\"type\":\"scattermapbox\",\"marker\":{\"colorbar\":{\"outlinewidth\":0,\"ticks\":\"\"}}}],\"scatterternary\":[{\"type\":\"scatterternary\",\"marker\":{\"colorbar\":{\"outlinewidth\":0,\"ticks\":\"\"}}}],\"scattercarpet\":[{\"type\":\"scattercarpet\",\"marker\":{\"colorbar\":{\"outlinewidth\":0,\"ticks\":\"\"}}}],\"carpet\":[{\"aaxis\":{\"endlinecolor\":\"#2a3f5f\",\"gridcolor\":\"white\",\"linecolor\":\"white\",\"minorgridcolor\":\"white\",\"startlinecolor\":\"#2a3f5f\"},\"baxis\":{\"endlinecolor\":\"#2a3f5f\",\"gridcolor\":\"white\",\"linecolor\":\"white\",\"minorgridcolor\":\"white\",\"startlinecolor\":\"#2a3f5f\"},\"type\":\"carpet\"}],\"table\":[{\"cells\":{\"fill\":{\"color\":\"#EBF0F8\"},\"line\":{\"color\":\"white\"}},\"header\":{\"fill\":{\"color\":\"#C8D4E3\"},\"line\":{\"color\":\"white\"}},\"type\":\"table\"}],\"barpolar\":[{\"marker\":{\"line\":{\"color\":\"#E5ECF6\",\"width\":0.5},\"pattern\":{\"fillmode\":\"overlay\",\"size\":10,\"solidity\":0.2}},\"type\":\"barpolar\"}],\"pie\":[{\"automargin\":true,\"type\":\"pie\"}]},\"layout\":{\"autotypenumbers\":\"strict\",\"colorway\":[\"#636efa\",\"#EF553B\",\"#00cc96\",\"#ab63fa\",\"#FFA15A\",\"#19d3f3\",\"#FF6692\",\"#B6E880\",\"#FF97FF\",\"#FECB52\"],\"font\":{\"color\":\"#2a3f5f\"},\"hovermode\":\"closest\",\"hoverlabel\":{\"align\":\"left\"},\"paper_bgcolor\":\"white\",\"plot_bgcolor\":\"#E5ECF6\",\"polar\":{\"bgcolor\":\"#E5ECF6\",\"angularaxis\":{\"gridcolor\":\"white\",\"linecolor\":\"white\",\"ticks\":\"\"},\"radialaxis\":{\"gridcolor\":\"white\",\"linecolor\":\"white\",\"ticks\":\"\"}},\"ternary\":{\"bgcolor\":\"#E5ECF6\",\"aaxis\":{\"gridcolor\":\"white\",\"linecolor\":\"white\",\"ticks\":\"\"},\"baxis\":{\"gridcolor\":\"white\",\"linecolor\":\"white\",\"ticks\":\"\"},\"caxis\":{\"gridcolor\":\"white\",\"linecolor\":\"white\",\"ticks\":\"\"}},\"coloraxis\":{\"colorbar\":{\"outlinewidth\":0,\"ticks\":\"\"}},\"colorscale\":{\"sequential\":[[0.0,\"#0d0887\"],[0.1111111111111111,\"#46039f\"],[0.2222222222222222,\"#7201a8\"],[0.3333333333333333,\"#9c179e\"],[0.4444444444444444,\"#bd3786\"],[0.5555555555555556,\"#d8576b\"],[0.6666666666666666,\"#ed7953\"],[0.7777777777777778,\"#fb9f3a\"],[0.8888888888888888,\"#fdca26\"],[1.0,\"#f0f921\"]],\"sequentialminus\":[[0.0,\"#0d0887\"],[0.1111111111111111,\"#46039f\"],[0.2222222222222222,\"#7201a8\"],[0.3333333333333333,\"#9c179e\"],[0.4444444444444444,\"#bd3786\"],[0.5555555555555556,\"#d8576b\"],[0.6666666666666666,\"#ed7953\"],[0.7777777777777778,\"#fb9f3a\"],[0.8888888888888888,\"#fdca26\"],[1.0,\"#f0f921\"]],\"diverging\":[[0,\"#8e0152\"],[0.1,\"#c51b7d\"],[0.2,\"#de77ae\"],[0.3,\"#f1b6da\"],[0.4,\"#fde0ef\"],[0.5,\"#f7f7f7\"],[0.6,\"#e6f5d0\"],[0.7,\"#b8e186\"],[0.8,\"#7fbc41\"],[0.9,\"#4d9221\"],[1,\"#276419\"]]},\"xaxis\":{\"gridcolor\":\"white\",\"linecolor\":\"white\",\"ticks\":\"\",\"title\":{\"standoff\":15},\"zerolinecolor\":\"white\",\"automargin\":true,\"zerolinewidth\":2},\"yaxis\":{\"gridcolor\":\"white\",\"linecolor\":\"white\",\"ticks\":\"\",\"title\":{\"standoff\":15},\"zerolinecolor\":\"white\",\"automargin\":true,\"zerolinewidth\":2},\"scene\":{\"xaxis\":{\"backgroundcolor\":\"#E5ECF6\",\"gridcolor\":\"white\",\"linecolor\":\"white\",\"showbackground\":true,\"ticks\":\"\",\"zerolinecolor\":\"white\",\"gridwidth\":2},\"yaxis\":{\"backgroundcolor\":\"#E5ECF6\",\"gridcolor\":\"white\",\"linecolor\":\"white\",\"showbackground\":true,\"ticks\":\"\",\"zerolinecolor\":\"white\",\"gridwidth\":2},\"zaxis\":{\"backgroundcolor\":\"#E5ECF6\",\"gridcolor\":\"white\",\"linecolor\":\"white\",\"showbackground\":true,\"ticks\":\"\",\"zerolinecolor\":\"white\",\"gridwidth\":2}},\"shapedefaults\":{\"line\":{\"color\":\"#2a3f5f\"}},\"annotationdefaults\":{\"arrowcolor\":\"#2a3f5f\",\"arrowhead\":0,\"arrowwidth\":1},\"geo\":{\"bgcolor\":\"white\",\"landcolor\":\"#E5ECF6\",\"subunitcolor\":\"white\",\"showland\":true,\"showlakes\":true,\"lakecolor\":\"white\"},\"title\":{\"x\":0.05},\"mapbox\":{\"style\":\"light\"}}},\"xaxis\":{\"anchor\":\"y\",\"domain\":[0.0,1.0],\"title\":{\"text\":\"AnnualIncomeClass\"}},\"yaxis\":{\"anchor\":\"x\",\"domain\":[0.0,1.0],\"title\":{\"text\":\"count\"}},\"legend\":{\"title\":{\"text\":\"Target\"},\"tracegroupgap\":0},\"margin\":{\"t\":60},\"barmode\":\"relative\"},                        {\"responsive\": true}                    ).then(function(){\n",
       "                            \n",
       "var gd = document.getElementById('83d3293d-625e-49bc-adf7-25da80bb0aae');\n",
       "var x = new MutationObserver(function (mutations, observer) {{\n",
       "        var display = window.getComputedStyle(gd).display;\n",
       "        if (!display || display === 'none') {{\n",
       "            console.log([gd, 'removed!']);\n",
       "            Plotly.purge(gd);\n",
       "            observer.disconnect();\n",
       "        }}\n",
       "}});\n",
       "\n",
       "// Listen for the removal of the full notebook cells\n",
       "var notebookContainer = gd.closest('#notebook-container');\n",
       "if (notebookContainer) {{\n",
       "    x.observe(notebookContainer, {childList: true});\n",
       "}}\n",
       "\n",
       "// Listen for the clearing of the current output cell\n",
       "var outputEl = gd.closest('.output');\n",
       "if (outputEl) {{\n",
       "    x.observe(outputEl, {childList: true});\n",
       "}}\n",
       "\n",
       "                        })                };                });            </script>        </div>"
      ]
     },
     "metadata": {},
     "output_type": "display_data"
    }
   ],
   "source": [
    "fig = px.histogram(data,x='AnnualIncomeClass',color='Target')\n",
    "fig.show()"
   ]
  },
  {
   "cell_type": "code",
   "execution_count": 19,
   "id": "8d15492b-48af-4fa7-81cc-2a4651a06efb",
   "metadata": {},
   "outputs": [
    {
     "data": {
      "application/vnd.plotly.v1+json": {
       "config": {
        "plotlyServerURL": "https://plot.ly"
       },
       "data": [
        {
         "alignmentgroup": "True",
         "bingroup": "x",
         "hovertemplate": "FrequentFlyer=No<br>AnnualIncomeClass=%{x}<br>count=%{y}<extra></extra>",
         "legendgroup": "No",
         "marker": {
          "color": "#636efa",
          "pattern": {
           "shape": ""
          }
         },
         "name": "No",
         "offsetgroup": "No",
         "orientation": "v",
         "showlegend": true,
         "type": "histogram",
         "x": [
          "Middle Income",
          "Middle Income",
          "Middle Income",
          "Low Income",
          "Middle Income",
          "Low Income",
          "Low Income",
          "Low Income",
          "Middle Income",
          "Middle Income",
          "Low Income",
          "Middle Income",
          "Low Income",
          "Middle Income",
          "Middle Income",
          "Middle Income",
          "Middle Income",
          "Low Income",
          "Middle Income",
          "Low Income",
          "Middle Income",
          "Middle Income",
          "Middle Income",
          "Middle Income",
          "Low Income",
          "Middle Income",
          "Low Income",
          "Middle Income",
          "Low Income",
          "Middle Income",
          "Middle Income",
          "Middle Income",
          "Low Income",
          "Middle Income",
          "Low Income",
          "Low Income",
          "Middle Income",
          "Middle Income",
          "Middle Income",
          "Middle Income",
          "Middle Income",
          "Middle Income",
          "Low Income",
          "Low Income",
          "Middle Income",
          "Middle Income",
          "Middle Income",
          "Low Income",
          "Low Income",
          "Middle Income",
          "Low Income",
          "Middle Income",
          "Middle Income",
          "Middle Income",
          "Middle Income",
          "Low Income",
          "Middle Income",
          "Low Income",
          "Low Income",
          "Low Income",
          "Middle Income",
          "Middle Income",
          "Middle Income",
          "Low Income",
          "Middle Income",
          "Low Income",
          "Middle Income",
          "Middle Income",
          "Middle Income",
          "Middle Income",
          "Low Income",
          "Middle Income",
          "Low Income",
          "Middle Income",
          "Low Income",
          "Middle Income",
          "Low Income",
          "Middle Income",
          "Low Income",
          "Middle Income",
          "Low Income",
          "Middle Income",
          "Low Income",
          "Middle Income",
          "Middle Income",
          "Low Income",
          "Middle Income",
          "Low Income",
          "Middle Income",
          "Low Income",
          "Middle Income",
          "Low Income",
          "Middle Income",
          "Middle Income",
          "Middle Income",
          "Low Income",
          "Middle Income",
          "Low Income",
          "Middle Income",
          "Low Income",
          "Middle Income",
          "Middle Income",
          "Middle Income",
          "Low Income",
          "Low Income",
          "Middle Income",
          "Middle Income",
          "Middle Income",
          "Middle Income",
          "Middle Income",
          "Low Income",
          "Middle Income",
          "Low Income",
          "Low Income",
          "Middle Income",
          "Middle Income",
          "Middle Income",
          "Low Income",
          "Low Income",
          "Middle Income",
          "Low Income",
          "Low Income",
          "Middle Income",
          "Middle Income",
          "Middle Income",
          "Middle Income",
          "Low Income",
          "Middle Income",
          "Middle Income",
          "Low Income",
          "Middle Income",
          "Middle Income",
          "Middle Income",
          "Low Income",
          "Low Income",
          "Middle Income",
          "Low Income",
          "Middle Income",
          "Middle Income",
          "Low Income",
          "Middle Income",
          "Low Income",
          "Middle Income",
          "Low Income",
          "Middle Income",
          "Low Income",
          "Middle Income",
          "Middle Income",
          "Middle Income",
          "Middle Income",
          "Middle Income",
          "Low Income",
          "Middle Income",
          "Low Income",
          "Low Income",
          "Middle Income",
          "Middle Income",
          "Low Income",
          "Low Income",
          "Middle Income",
          "Low Income",
          "Middle Income",
          "Middle Income",
          "Middle Income",
          "Low Income",
          "Middle Income",
          "Low Income",
          "Low Income",
          "Low Income",
          "Middle Income",
          "Middle Income",
          "Middle Income",
          "Low Income",
          "Middle Income",
          "Low Income",
          "Middle Income",
          "Middle Income",
          "Middle Income",
          "Middle Income",
          "Low Income",
          "Middle Income",
          "Low Income",
          "Middle Income",
          "Low Income",
          "Low Income",
          "Middle Income",
          "Middle Income",
          "Low Income",
          "Middle Income",
          "Low Income",
          "Middle Income",
          "Middle Income",
          "Middle Income",
          "Middle Income",
          "Low Income",
          "Middle Income",
          "Low Income",
          "Middle Income",
          "Low Income",
          "Middle Income",
          "Middle Income",
          "Middle Income",
          "Middle Income",
          "Middle Income",
          "Low Income",
          "Low Income",
          "Middle Income",
          "Middle Income",
          "Middle Income",
          "Low Income",
          "Middle Income",
          "Low Income",
          "Middle Income",
          "Middle Income",
          "Middle Income",
          "Middle Income",
          "Low Income",
          "Low Income",
          "Low Income",
          "Middle Income",
          "Middle Income",
          "Middle Income",
          "Low Income",
          "Low Income",
          "Middle Income",
          "Low Income",
          "Middle Income",
          "Middle Income",
          "Middle Income",
          "Middle Income",
          "Middle Income",
          "Middle Income",
          "Low Income",
          "Middle Income",
          "Low Income",
          "Middle Income",
          "Low Income",
          "Middle Income",
          "Low Income",
          "Middle Income",
          "Low Income",
          "Middle Income",
          "Low Income",
          "Middle Income",
          "Middle Income",
          "Middle Income",
          "Low Income",
          "Middle Income",
          "Low Income",
          "Middle Income",
          "Low Income",
          "Middle Income",
          "Middle Income",
          "Middle Income",
          "Middle Income",
          "Low Income",
          "Middle Income",
          "Low Income",
          "Middle Income",
          "Low Income",
          "Low Income",
          "Middle Income",
          "Middle Income",
          "Low Income",
          "Low Income",
          "Middle Income",
          "Low Income",
          "Middle Income",
          "Middle Income",
          "Middle Income",
          "Low Income",
          "Middle Income",
          "Low Income",
          "Low Income",
          "Middle Income",
          "Middle Income",
          "Middle Income",
          "Low Income",
          "Middle Income",
          "Low Income",
          "Middle Income",
          "Low Income",
          "Middle Income",
          "Middle Income",
          "Middle Income",
          "Middle Income",
          "Low Income",
          "Middle Income",
          "Low Income",
          "Low Income",
          "Middle Income",
          "Low Income",
          "Middle Income",
          "Middle Income",
          "Low Income",
          "Middle Income",
          "Middle Income",
          "Low Income",
          "Middle Income",
          "Middle Income",
          "Low Income",
          "Middle Income",
          "Low Income",
          "Low Income",
          "Middle Income",
          "Low Income",
          "Middle Income",
          "Middle Income",
          "Middle Income",
          "Middle Income",
          "Middle Income",
          "Low Income",
          "Middle Income",
          "Low Income",
          "Low Income",
          "Middle Income",
          "Middle Income",
          "Middle Income",
          "Low Income",
          "Low Income",
          "Middle Income",
          "Low Income",
          "Middle Income",
          "Middle Income",
          "Middle Income",
          "Low Income",
          "Middle Income",
          "Low Income",
          "Low Income",
          "Low Income",
          "Middle Income",
          "Middle Income",
          "Low Income",
          "Low Income",
          "Middle Income",
          "Low Income",
          "Middle Income",
          "Middle Income",
          "Middle Income",
          "Middle Income",
          "Middle Income",
          "Low Income",
          "Middle Income",
          "Low Income",
          "Middle Income",
          "Low Income",
          "Middle Income",
          "Middle Income",
          "Middle Income",
          "Low Income",
          "Middle Income",
          "Low Income",
          "Middle Income",
          "Low Income",
          "Middle Income",
          "Middle Income",
          "Low Income",
          "Middle Income",
          "Low Income",
          "Middle Income",
          "Middle Income",
          "Middle Income",
          "Middle Income",
          "Middle Income",
          "Middle Income",
          "Low Income",
          "Middle Income",
          "Low Income",
          "Low Income",
          "Middle Income",
          "Middle Income",
          "Middle Income",
          "Low Income",
          "Low Income",
          "Low Income",
          "Low Income",
          "Middle Income",
          "Middle Income",
          "Middle Income",
          "Middle Income",
          "Low Income",
          "Middle Income",
          "Low Income",
          "Middle Income",
          "Middle Income",
          "Middle Income",
          "Low Income",
          "Low Income",
          "Middle Income",
          "Middle Income",
          "Middle Income",
          "Middle Income",
          "Middle Income",
          "Low Income",
          "Middle Income",
          "Low Income",
          "Middle Income",
          "Low Income",
          "Middle Income",
          "Middle Income",
          "Middle Income",
          "Middle Income",
          "Middle Income",
          "Low Income",
          "Middle Income",
          "Middle Income",
          "Low Income",
          "Low Income",
          "Middle Income",
          "Low Income",
          "Middle Income",
          "Low Income",
          "Middle Income",
          "Middle Income",
          "Middle Income",
          "Middle Income",
          "Low Income",
          "Middle Income",
          "Low Income",
          "Middle Income",
          "Middle Income",
          "Middle Income",
          "Low Income",
          "Low Income",
          "Low Income",
          "Middle Income",
          "Low Income",
          "Middle Income",
          "Middle Income",
          "Middle Income",
          "Low Income",
          "Middle Income",
          "Low Income",
          "Low Income",
          "Low Income",
          "Middle Income",
          "Middle Income",
          "Low Income",
          "Low Income",
          "Middle Income",
          "Low Income",
          "Middle Income",
          "Middle Income",
          "Middle Income",
          "Middle Income",
          "Middle Income",
          "Low Income",
          "Middle Income",
          "Low Income",
          "Middle Income",
          "Low Income",
          "Middle Income",
          "Middle Income",
          "Middle Income",
          "Low Income",
          "Middle Income",
          "Low Income",
          "Low Income",
          "Middle Income",
          "Middle Income",
          "Middle Income",
          "Low Income",
          "Middle Income",
          "Middle Income",
          "Low Income",
          "Middle Income",
          "Middle Income",
          "Middle Income",
          "Middle Income",
          "Low Income",
          "Middle Income",
          "Low Income",
          "Low Income",
          "Middle Income",
          "Middle Income",
          "Middle Income",
          "Low Income",
          "Low Income",
          "Middle Income",
          "Low Income",
          "Middle Income",
          "Middle Income",
          "Middle Income",
          "Middle Income",
          "Middle Income",
          "Low Income",
          "Low Income",
          "Low Income",
          "Middle Income",
          "Middle Income",
          "Middle Income",
          "Low Income",
          "Middle Income",
          "Low Income",
          "Middle Income",
          "Low Income",
          "Middle Income",
          "Middle Income",
          "Middle Income",
          "Low Income",
          "Middle Income",
          "Low Income",
          "Middle Income",
          "Low Income",
          "Middle Income",
          "Low Income",
          "Middle Income",
          "Middle Income",
          "Low Income",
          "Middle Income",
          "Middle Income",
          "Low Income",
          "Middle Income",
          "Middle Income",
          "Low Income",
          "Middle Income",
          "Low Income",
          "Middle Income",
          "Low Income",
          "Middle Income",
          "Middle Income",
          "Middle Income",
          "Low Income",
          "Middle Income",
          "Low Income",
          "Middle Income",
          "Middle Income",
          "Middle Income",
          "Middle Income",
          "Low Income",
          "Low Income",
          "Middle Income",
          "Low Income",
          "Middle Income",
          "Middle Income",
          "Middle Income",
          "Middle Income",
          "Low Income",
          "Middle Income",
          "Low Income",
          "Low Income",
          "Middle Income",
          "Middle Income",
          "Middle Income",
          "Low Income",
          "Low Income",
          "Middle Income",
          "Middle Income",
          "Low Income",
          "Middle Income",
          "Middle Income",
          "Middle Income",
          "Middle Income",
          "Low Income",
          "Low Income",
          "Middle Income",
          "Low Income",
          "Middle Income",
          "Low Income",
          "Middle Income",
          "Middle Income",
          "Low Income",
          "Middle Income",
          "Low Income",
          "Middle Income",
          "Low Income",
          "Middle Income",
          "Middle Income",
          "Middle Income",
          "Middle Income",
          "Low Income",
          "Middle Income",
          "Low Income",
          "Middle Income",
          "Middle Income",
          "Middle Income",
          "Low Income",
          "Middle Income",
          "Low Income",
          "Middle Income",
          "Low Income",
          "Low Income",
          "Middle Income",
          "Middle Income",
          "Low Income",
          "Low Income",
          "Middle Income",
          "Low Income",
          "Middle Income",
          "Middle Income",
          "Middle Income",
          "Middle Income",
          "Low Income",
          "Middle Income",
          "Low Income",
          "Low Income",
          "Low Income",
          "Middle Income",
          "Middle Income",
          "Low Income",
          "Middle Income",
          "Low Income",
          "Middle Income",
          "Low Income",
          "Middle Income",
          "Middle Income",
          "Middle Income",
          "Low Income"
         ],
         "xaxis": "x",
         "yaxis": "y"
        },
        {
         "alignmentgroup": "True",
         "bingroup": "x",
         "hovertemplate": "FrequentFlyer=Yes<br>AnnualIncomeClass=%{x}<br>count=%{y}<extra></extra>",
         "legendgroup": "Yes",
         "marker": {
          "color": "#EF553B",
          "pattern": {
           "shape": ""
          }
         },
         "name": "Yes",
         "offsetgroup": "Yes",
         "orientation": "v",
         "showlegend": true,
         "type": "histogram",
         "x": [
          "Low Income",
          "High Income",
          "High Income",
          "Low Income",
          "Low Income",
          "High Income",
          "High Income",
          "Low Income",
          "Low Income",
          "High Income",
          "High Income",
          "Low Income",
          "Low Income",
          "High Income",
          "High Income",
          "Low Income",
          "Low Income",
          "High Income",
          "High Income",
          "Low Income",
          "Low Income",
          "High Income",
          "High Income",
          "Low Income",
          "High Income",
          "Low Income",
          "High Income",
          "Low Income",
          "High Income",
          "High Income",
          "Low Income",
          "High Income",
          "High Income",
          "Low Income",
          "Low Income",
          "High Income",
          "High Income",
          "Low Income",
          "High Income",
          "High Income",
          "Low Income",
          "High Income",
          "High Income",
          "Low Income",
          "High Income",
          "High Income",
          "Low Income",
          "Low Income",
          "High Income",
          "Low Income",
          "High Income",
          "Low Income",
          "High Income",
          "Low Income",
          "High Income",
          "Low Income",
          "High Income",
          "High Income",
          "Low Income",
          "High Income",
          "High Income",
          "Low Income",
          "Low Income",
          "High Income",
          "High Income",
          "Low Income",
          "High Income",
          "High Income",
          "Low Income",
          "High Income",
          "High Income",
          "Low Income",
          "High Income",
          "Low Income",
          "High Income",
          "Low Income",
          "High Income",
          "High Income",
          "Low Income",
          "Low Income",
          "High Income",
          "High Income",
          "Low Income",
          "Low Income",
          "High Income",
          "High Income",
          "Low Income",
          "High Income",
          "High Income",
          "Low Income",
          "Low Income",
          "High Income",
          "High Income",
          "Low Income",
          "Low Income",
          "High Income",
          "High Income",
          "Low Income",
          "Low Income",
          "High Income",
          "Low Income",
          "High Income",
          "Low Income",
          "High Income",
          "Low Income",
          "High Income",
          "Low Income",
          "High Income",
          "High Income",
          "Low Income",
          "Low Income",
          "High Income",
          "High Income",
          "Low Income",
          "High Income",
          "High Income",
          "Low Income",
          "High Income",
          "High Income",
          "Low Income",
          "High Income",
          "High Income",
          "Low Income",
          "High Income",
          "Low Income",
          "High Income",
          "Low Income",
          "High Income",
          "High Income",
          "Low Income",
          "Low Income",
          "High Income",
          "High Income",
          "Low Income",
          "High Income",
          "High Income",
          "Low Income",
          "High Income",
          "Low Income",
          "High Income",
          "Low Income",
          "High Income",
          "High Income",
          "Low Income",
          "Low Income",
          "High Income",
          "High Income",
          "Low Income",
          "High Income",
          "High Income",
          "Low Income",
          "High Income",
          "High Income",
          "Low Income",
          "High Income",
          "High Income",
          "Low Income",
          "Low Income",
          "High Income",
          "High Income",
          "Low Income",
          "High Income",
          "High Income",
          "Low Income",
          "Low Income",
          "High Income",
          "High Income",
          "Low Income",
          "Low Income",
          "High Income",
          "High Income",
          "Low Income",
          "High Income",
          "High Income",
          "Low Income",
          "High Income",
          "Low Income",
          "High Income",
          "Low Income",
          "Low Income",
          "High Income",
          "High Income",
          "Low Income",
          "Low Income",
          "High Income",
          "High Income",
          "Low Income",
          "Low Income",
          "High Income",
          "Low Income",
          "High Income",
          "Low Income",
          "High Income",
          "High Income",
          "Low Income",
          "Low Income",
          "High Income",
          "High Income",
          "Low Income",
          "Low Income",
          "High Income",
          "High Income",
          "Low Income",
          "High Income",
          "High Income",
          "Low Income",
          "High Income",
          "High Income",
          "Low Income",
          "Low Income",
          "High Income",
          "High Income",
          "Low Income",
          "Low Income",
          "High Income",
          "High Income",
          "Low Income",
          "Low Income",
          "High Income",
          "High Income",
          "Low Income",
          "Low Income",
          "High Income",
          "High Income",
          "Low Income",
          "High Income",
          "Low Income",
          "High Income",
          "Low Income",
          "High Income",
          "High Income",
          "Low Income",
          "High Income",
          "High Income",
          "Low Income",
          "High Income",
          "High Income",
          "Low Income",
          "High Income",
          "Low Income",
          "High Income",
          "Low Income",
          "Low Income",
          "High Income",
          "High Income",
          "Low Income",
          "High Income",
          "High Income",
          "Low Income",
          "Low Income",
          "High Income",
          "Low Income",
          "High Income",
          "Low Income",
          "High Income",
          "Low Income",
          "High Income",
          "Low Income",
          "High Income",
          "High Income",
          "Low Income",
          "High Income",
          "High Income",
          "Low Income",
          "High Income",
          "High Income",
          "Low Income",
          "Low Income",
          "High Income",
          "High Income",
          "Low Income",
          "High Income",
          "High Income",
          "Low Income",
          "High Income",
          "Low Income",
          "High Income",
          "Low Income",
          "High Income",
          "High Income",
          "Low Income",
          "Low Income",
          "High Income",
          "High Income",
          "Low Income",
          "High Income"
         ],
         "xaxis": "x",
         "yaxis": "y"
        },
        {
         "alignmentgroup": "True",
         "bingroup": "x",
         "hovertemplate": "FrequentFlyer=No Record<br>AnnualIncomeClass=%{x}<br>count=%{y}<extra></extra>",
         "legendgroup": "No Record",
         "marker": {
          "color": "#00cc96",
          "pattern": {
           "shape": ""
          }
         },
         "name": "No Record",
         "offsetgroup": "No Record",
         "orientation": "v",
         "showlegend": true,
         "type": "histogram",
         "x": [
          "Middle Income",
          "Middle Income",
          "Low Income",
          "Middle Income",
          "Low Income",
          "Low Income",
          "Middle Income",
          "Middle Income",
          "Middle Income",
          "Low Income",
          "Middle Income",
          "Low Income",
          "Middle Income",
          "Low Income",
          "Middle Income",
          "Middle Income",
          "Middle Income",
          "Middle Income",
          "Low Income",
          "Middle Income",
          "Low Income",
          "Middle Income",
          "Low Income",
          "Middle Income",
          "Low Income",
          "Middle Income",
          "Middle Income",
          "Low Income",
          "Middle Income",
          "Middle Income",
          "Low Income",
          "Middle Income",
          "Middle Income",
          "Low Income",
          "Middle Income",
          "Low Income",
          "Middle Income",
          "Low Income",
          "Middle Income",
          "Low Income",
          "Middle Income",
          "Middle Income",
          "Middle Income",
          "Middle Income",
          "Middle Income",
          "Low Income",
          "Middle Income",
          "Low Income",
          "Low Income",
          "Middle Income",
          "Middle Income",
          "Middle Income",
          "Low Income",
          "Low Income",
          "Middle Income",
          "Low Income",
          "Middle Income",
          "Middle Income",
          "Middle Income",
          "Middle Income"
         ],
         "xaxis": "x",
         "yaxis": "y"
        }
       ],
       "layout": {
        "autosize": true,
        "barmode": "relative",
        "legend": {
         "title": {
          "text": "FrequentFlyer"
         },
         "tracegroupgap": 0
        },
        "margin": {
         "t": 60
        },
        "template": {
         "data": {
          "bar": [
           {
            "error_x": {
             "color": "#2a3f5f"
            },
            "error_y": {
             "color": "#2a3f5f"
            },
            "marker": {
             "line": {
              "color": "#E5ECF6",
              "width": 0.5
             },
             "pattern": {
              "fillmode": "overlay",
              "size": 10,
              "solidity": 0.2
             }
            },
            "type": "bar"
           }
          ],
          "barpolar": [
           {
            "marker": {
             "line": {
              "color": "#E5ECF6",
              "width": 0.5
             },
             "pattern": {
              "fillmode": "overlay",
              "size": 10,
              "solidity": 0.2
             }
            },
            "type": "barpolar"
           }
          ],
          "carpet": [
           {
            "aaxis": {
             "endlinecolor": "#2a3f5f",
             "gridcolor": "white",
             "linecolor": "white",
             "minorgridcolor": "white",
             "startlinecolor": "#2a3f5f"
            },
            "baxis": {
             "endlinecolor": "#2a3f5f",
             "gridcolor": "white",
             "linecolor": "white",
             "minorgridcolor": "white",
             "startlinecolor": "#2a3f5f"
            },
            "type": "carpet"
           }
          ],
          "choropleth": [
           {
            "colorbar": {
             "outlinewidth": 0,
             "ticks": ""
            },
            "type": "choropleth"
           }
          ],
          "contour": [
           {
            "colorbar": {
             "outlinewidth": 0,
             "ticks": ""
            },
            "colorscale": [
             [
              0,
              "#0d0887"
             ],
             [
              0.1111111111111111,
              "#46039f"
             ],
             [
              0.2222222222222222,
              "#7201a8"
             ],
             [
              0.3333333333333333,
              "#9c179e"
             ],
             [
              0.4444444444444444,
              "#bd3786"
             ],
             [
              0.5555555555555556,
              "#d8576b"
             ],
             [
              0.6666666666666666,
              "#ed7953"
             ],
             [
              0.7777777777777778,
              "#fb9f3a"
             ],
             [
              0.8888888888888888,
              "#fdca26"
             ],
             [
              1,
              "#f0f921"
             ]
            ],
            "type": "contour"
           }
          ],
          "contourcarpet": [
           {
            "colorbar": {
             "outlinewidth": 0,
             "ticks": ""
            },
            "type": "contourcarpet"
           }
          ],
          "heatmap": [
           {
            "colorbar": {
             "outlinewidth": 0,
             "ticks": ""
            },
            "colorscale": [
             [
              0,
              "#0d0887"
             ],
             [
              0.1111111111111111,
              "#46039f"
             ],
             [
              0.2222222222222222,
              "#7201a8"
             ],
             [
              0.3333333333333333,
              "#9c179e"
             ],
             [
              0.4444444444444444,
              "#bd3786"
             ],
             [
              0.5555555555555556,
              "#d8576b"
             ],
             [
              0.6666666666666666,
              "#ed7953"
             ],
             [
              0.7777777777777778,
              "#fb9f3a"
             ],
             [
              0.8888888888888888,
              "#fdca26"
             ],
             [
              1,
              "#f0f921"
             ]
            ],
            "type": "heatmap"
           }
          ],
          "heatmapgl": [
           {
            "colorbar": {
             "outlinewidth": 0,
             "ticks": ""
            },
            "colorscale": [
             [
              0,
              "#0d0887"
             ],
             [
              0.1111111111111111,
              "#46039f"
             ],
             [
              0.2222222222222222,
              "#7201a8"
             ],
             [
              0.3333333333333333,
              "#9c179e"
             ],
             [
              0.4444444444444444,
              "#bd3786"
             ],
             [
              0.5555555555555556,
              "#d8576b"
             ],
             [
              0.6666666666666666,
              "#ed7953"
             ],
             [
              0.7777777777777778,
              "#fb9f3a"
             ],
             [
              0.8888888888888888,
              "#fdca26"
             ],
             [
              1,
              "#f0f921"
             ]
            ],
            "type": "heatmapgl"
           }
          ],
          "histogram": [
           {
            "marker": {
             "pattern": {
              "fillmode": "overlay",
              "size": 10,
              "solidity": 0.2
             }
            },
            "type": "histogram"
           }
          ],
          "histogram2d": [
           {
            "colorbar": {
             "outlinewidth": 0,
             "ticks": ""
            },
            "colorscale": [
             [
              0,
              "#0d0887"
             ],
             [
              0.1111111111111111,
              "#46039f"
             ],
             [
              0.2222222222222222,
              "#7201a8"
             ],
             [
              0.3333333333333333,
              "#9c179e"
             ],
             [
              0.4444444444444444,
              "#bd3786"
             ],
             [
              0.5555555555555556,
              "#d8576b"
             ],
             [
              0.6666666666666666,
              "#ed7953"
             ],
             [
              0.7777777777777778,
              "#fb9f3a"
             ],
             [
              0.8888888888888888,
              "#fdca26"
             ],
             [
              1,
              "#f0f921"
             ]
            ],
            "type": "histogram2d"
           }
          ],
          "histogram2dcontour": [
           {
            "colorbar": {
             "outlinewidth": 0,
             "ticks": ""
            },
            "colorscale": [
             [
              0,
              "#0d0887"
             ],
             [
              0.1111111111111111,
              "#46039f"
             ],
             [
              0.2222222222222222,
              "#7201a8"
             ],
             [
              0.3333333333333333,
              "#9c179e"
             ],
             [
              0.4444444444444444,
              "#bd3786"
             ],
             [
              0.5555555555555556,
              "#d8576b"
             ],
             [
              0.6666666666666666,
              "#ed7953"
             ],
             [
              0.7777777777777778,
              "#fb9f3a"
             ],
             [
              0.8888888888888888,
              "#fdca26"
             ],
             [
              1,
              "#f0f921"
             ]
            ],
            "type": "histogram2dcontour"
           }
          ],
          "mesh3d": [
           {
            "colorbar": {
             "outlinewidth": 0,
             "ticks": ""
            },
            "type": "mesh3d"
           }
          ],
          "parcoords": [
           {
            "line": {
             "colorbar": {
              "outlinewidth": 0,
              "ticks": ""
             }
            },
            "type": "parcoords"
           }
          ],
          "pie": [
           {
            "automargin": true,
            "type": "pie"
           }
          ],
          "scatter": [
           {
            "fillpattern": {
             "fillmode": "overlay",
             "size": 10,
             "solidity": 0.2
            },
            "type": "scatter"
           }
          ],
          "scatter3d": [
           {
            "line": {
             "colorbar": {
              "outlinewidth": 0,
              "ticks": ""
             }
            },
            "marker": {
             "colorbar": {
              "outlinewidth": 0,
              "ticks": ""
             }
            },
            "type": "scatter3d"
           }
          ],
          "scattercarpet": [
           {
            "marker": {
             "colorbar": {
              "outlinewidth": 0,
              "ticks": ""
             }
            },
            "type": "scattercarpet"
           }
          ],
          "scattergeo": [
           {
            "marker": {
             "colorbar": {
              "outlinewidth": 0,
              "ticks": ""
             }
            },
            "type": "scattergeo"
           }
          ],
          "scattergl": [
           {
            "marker": {
             "colorbar": {
              "outlinewidth": 0,
              "ticks": ""
             }
            },
            "type": "scattergl"
           }
          ],
          "scattermapbox": [
           {
            "marker": {
             "colorbar": {
              "outlinewidth": 0,
              "ticks": ""
             }
            },
            "type": "scattermapbox"
           }
          ],
          "scatterpolar": [
           {
            "marker": {
             "colorbar": {
              "outlinewidth": 0,
              "ticks": ""
             }
            },
            "type": "scatterpolar"
           }
          ],
          "scatterpolargl": [
           {
            "marker": {
             "colorbar": {
              "outlinewidth": 0,
              "ticks": ""
             }
            },
            "type": "scatterpolargl"
           }
          ],
          "scatterternary": [
           {
            "marker": {
             "colorbar": {
              "outlinewidth": 0,
              "ticks": ""
             }
            },
            "type": "scatterternary"
           }
          ],
          "surface": [
           {
            "colorbar": {
             "outlinewidth": 0,
             "ticks": ""
            },
            "colorscale": [
             [
              0,
              "#0d0887"
             ],
             [
              0.1111111111111111,
              "#46039f"
             ],
             [
              0.2222222222222222,
              "#7201a8"
             ],
             [
              0.3333333333333333,
              "#9c179e"
             ],
             [
              0.4444444444444444,
              "#bd3786"
             ],
             [
              0.5555555555555556,
              "#d8576b"
             ],
             [
              0.6666666666666666,
              "#ed7953"
             ],
             [
              0.7777777777777778,
              "#fb9f3a"
             ],
             [
              0.8888888888888888,
              "#fdca26"
             ],
             [
              1,
              "#f0f921"
             ]
            ],
            "type": "surface"
           }
          ],
          "table": [
           {
            "cells": {
             "fill": {
              "color": "#EBF0F8"
             },
             "line": {
              "color": "white"
             }
            },
            "header": {
             "fill": {
              "color": "#C8D4E3"
             },
             "line": {
              "color": "white"
             }
            },
            "type": "table"
           }
          ]
         },
         "layout": {
          "annotationdefaults": {
           "arrowcolor": "#2a3f5f",
           "arrowhead": 0,
           "arrowwidth": 1
          },
          "autotypenumbers": "strict",
          "coloraxis": {
           "colorbar": {
            "outlinewidth": 0,
            "ticks": ""
           }
          },
          "colorscale": {
           "diverging": [
            [
             0,
             "#8e0152"
            ],
            [
             0.1,
             "#c51b7d"
            ],
            [
             0.2,
             "#de77ae"
            ],
            [
             0.3,
             "#f1b6da"
            ],
            [
             0.4,
             "#fde0ef"
            ],
            [
             0.5,
             "#f7f7f7"
            ],
            [
             0.6,
             "#e6f5d0"
            ],
            [
             0.7,
             "#b8e186"
            ],
            [
             0.8,
             "#7fbc41"
            ],
            [
             0.9,
             "#4d9221"
            ],
            [
             1,
             "#276419"
            ]
           ],
           "sequential": [
            [
             0,
             "#0d0887"
            ],
            [
             0.1111111111111111,
             "#46039f"
            ],
            [
             0.2222222222222222,
             "#7201a8"
            ],
            [
             0.3333333333333333,
             "#9c179e"
            ],
            [
             0.4444444444444444,
             "#bd3786"
            ],
            [
             0.5555555555555556,
             "#d8576b"
            ],
            [
             0.6666666666666666,
             "#ed7953"
            ],
            [
             0.7777777777777778,
             "#fb9f3a"
            ],
            [
             0.8888888888888888,
             "#fdca26"
            ],
            [
             1,
             "#f0f921"
            ]
           ],
           "sequentialminus": [
            [
             0,
             "#0d0887"
            ],
            [
             0.1111111111111111,
             "#46039f"
            ],
            [
             0.2222222222222222,
             "#7201a8"
            ],
            [
             0.3333333333333333,
             "#9c179e"
            ],
            [
             0.4444444444444444,
             "#bd3786"
            ],
            [
             0.5555555555555556,
             "#d8576b"
            ],
            [
             0.6666666666666666,
             "#ed7953"
            ],
            [
             0.7777777777777778,
             "#fb9f3a"
            ],
            [
             0.8888888888888888,
             "#fdca26"
            ],
            [
             1,
             "#f0f921"
            ]
           ]
          },
          "colorway": [
           "#636efa",
           "#EF553B",
           "#00cc96",
           "#ab63fa",
           "#FFA15A",
           "#19d3f3",
           "#FF6692",
           "#B6E880",
           "#FF97FF",
           "#FECB52"
          ],
          "font": {
           "color": "#2a3f5f"
          },
          "geo": {
           "bgcolor": "white",
           "lakecolor": "white",
           "landcolor": "#E5ECF6",
           "showlakes": true,
           "showland": true,
           "subunitcolor": "white"
          },
          "hoverlabel": {
           "align": "left"
          },
          "hovermode": "closest",
          "mapbox": {
           "style": "light"
          },
          "paper_bgcolor": "white",
          "plot_bgcolor": "#E5ECF6",
          "polar": {
           "angularaxis": {
            "gridcolor": "white",
            "linecolor": "white",
            "ticks": ""
           },
           "bgcolor": "#E5ECF6",
           "radialaxis": {
            "gridcolor": "white",
            "linecolor": "white",
            "ticks": ""
           }
          },
          "scene": {
           "xaxis": {
            "backgroundcolor": "#E5ECF6",
            "gridcolor": "white",
            "gridwidth": 2,
            "linecolor": "white",
            "showbackground": true,
            "ticks": "",
            "zerolinecolor": "white"
           },
           "yaxis": {
            "backgroundcolor": "#E5ECF6",
            "gridcolor": "white",
            "gridwidth": 2,
            "linecolor": "white",
            "showbackground": true,
            "ticks": "",
            "zerolinecolor": "white"
           },
           "zaxis": {
            "backgroundcolor": "#E5ECF6",
            "gridcolor": "white",
            "gridwidth": 2,
            "linecolor": "white",
            "showbackground": true,
            "ticks": "",
            "zerolinecolor": "white"
           }
          },
          "shapedefaults": {
           "line": {
            "color": "#2a3f5f"
           }
          },
          "ternary": {
           "aaxis": {
            "gridcolor": "white",
            "linecolor": "white",
            "ticks": ""
           },
           "baxis": {
            "gridcolor": "white",
            "linecolor": "white",
            "ticks": ""
           },
           "bgcolor": "#E5ECF6",
           "caxis": {
            "gridcolor": "white",
            "linecolor": "white",
            "ticks": ""
           }
          },
          "title": {
           "x": 0.05
          },
          "xaxis": {
           "automargin": true,
           "gridcolor": "white",
           "linecolor": "white",
           "ticks": "",
           "title": {
            "standoff": 15
           },
           "zerolinecolor": "white",
           "zerolinewidth": 2
          },
          "yaxis": {
           "automargin": true,
           "gridcolor": "white",
           "linecolor": "white",
           "ticks": "",
           "title": {
            "standoff": 15
           },
           "zerolinecolor": "white",
           "zerolinewidth": 2
          }
         }
        },
        "xaxis": {
         "anchor": "y",
         "autorange": true,
         "domain": [
          0,
          1
         ],
         "range": [
          -0.5,
          2.5
         ],
         "title": {
          "text": "AnnualIncomeClass"
         },
         "type": "category"
        },
        "yaxis": {
         "anchor": "x",
         "autorange": true,
         "domain": [
          0,
          1
         ],
         "range": [
          0,
          430.5263157894737
         ],
         "title": {
          "text": "count"
         }
        }
       }
      },
      "image/png": "[encoded data removed]",
      "text/html": [
       "<div>                            <div id=\"3342cde5-12d1-4d09-8f11-0649fb93f682\" class=\"plotly-graph-div\" style=\"height:525px; width:100%;\"></div>            <script type=\"text/javascript\">                require([\"plotly\"], function(Plotly) {                    window.PLOTLYENV=window.PLOTLYENV || {};                                    if (document.getElementById(\"3342cde5-12d1-4d09-8f11-0649fb93f682\")) {                    Plotly.newPlot(                        \"3342cde5-12d1-4d09-8f11-0649fb93f682\",                        [{\"alignmentgroup\":\"True\",\"bingroup\":\"x\",\"hovertemplate\":\"FrequentFlyer=No<br>AnnualIncomeClass=%{x}<br>count=%{y}<extra></extra>\",\"legendgroup\":\"No\",\"marker\":{\"color\":\"#636efa\",\"pattern\":{\"shape\":\"\"}},\"name\":\"No\",\"offsetgroup\":\"No\",\"orientation\":\"v\",\"showlegend\":true,\"x\":[\"Middle Income\",\"Middle Income\",\"Middle Income\",\"Low Income\",\"Middle Income\",\"Low Income\",\"Low Income\",\"Low Income\",\"Middle Income\",\"Middle Income\",\"Low Income\",\"Middle Income\",\"Low Income\",\"Middle Income\",\"Middle Income\",\"Middle Income\",\"Middle Income\",\"Low Income\",\"Middle Income\",\"Low Income\",\"Middle Income\",\"Middle Income\",\"Middle Income\",\"Middle Income\",\"Low Income\",\"Middle Income\",\"Low Income\",\"Middle Income\",\"Low Income\",\"Middle Income\",\"Middle Income\",\"Middle Income\",\"Low Income\",\"Middle Income\",\"Low Income\",\"Low Income\",\"Middle Income\",\"Middle Income\",\"Middle Income\",\"Middle Income\",\"Middle Income\",\"Middle Income\",\"Low Income\",\"Low Income\",\"Middle Income\",\"Middle Income\",\"Middle Income\",\"Low Income\",\"Low Income\",\"Middle Income\",\"Low Income\",\"Middle Income\",\"Middle Income\",\"Middle Income\",\"Middle Income\",\"Low Income\",\"Middle Income\",\"Low Income\",\"Low Income\",\"Low Income\",\"Middle Income\",\"Middle Income\",\"Middle Income\",\"Low Income\",\"Middle Income\",\"Low Income\",\"Middle Income\",\"Middle Income\",\"Middle Income\",\"Middle Income\",\"Low Income\",\"Middle Income\",\"Low Income\",\"Middle Income\",\"Low Income\",\"Middle Income\",\"Low Income\",\"Middle Income\",\"Low Income\",\"Middle Income\",\"Low Income\",\"Middle Income\",\"Low Income\",\"Middle Income\",\"Middle Income\",\"Low Income\",\"Middle Income\",\"Low Income\",\"Middle Income\",\"Low Income\",\"Middle Income\",\"Low Income\",\"Middle Income\",\"Middle Income\",\"Middle Income\",\"Low Income\",\"Middle Income\",\"Low Income\",\"Middle Income\",\"Low Income\",\"Middle Income\",\"Middle Income\",\"Middle Income\",\"Low Income\",\"Low Income\",\"Middle Income\",\"Middle Income\",\"Middle Income\",\"Middle Income\",\"Middle Income\",\"Low Income\",\"Middle Income\",\"Low Income\",\"Low Income\",\"Middle Income\",\"Middle Income\",\"Middle Income\",\"Low Income\",\"Low Income\",\"Middle Income\",\"Low Income\",\"Low Income\",\"Middle Income\",\"Middle Income\",\"Middle Income\",\"Middle Income\",\"Low Income\",\"Middle Income\",\"Middle Income\",\"Low Income\",\"Middle Income\",\"Middle Income\",\"Middle Income\",\"Low Income\",\"Low Income\",\"Middle Income\",\"Low Income\",\"Middle Income\",\"Middle Income\",\"Low Income\",\"Middle Income\",\"Low Income\",\"Middle Income\",\"Low Income\",\"Middle Income\",\"Low Income\",\"Middle Income\",\"Middle Income\",\"Middle Income\",\"Middle Income\",\"Middle Income\",\"Low Income\",\"Middle Income\",\"Low Income\",\"Low Income\",\"Middle Income\",\"Middle Income\",\"Low Income\",\"Low Income\",\"Middle Income\",\"Low Income\",\"Middle Income\",\"Middle Income\",\"Middle Income\",\"Low Income\",\"Middle Income\",\"Low Income\",\"Low Income\",\"Low Income\",\"Middle Income\",\"Middle Income\",\"Middle Income\",\"Low Income\",\"Middle Income\",\"Low Income\",\"Middle Income\",\"Middle Income\",\"Middle Income\",\"Middle Income\",\"Low Income\",\"Middle Income\",\"Low Income\",\"Middle Income\",\"Low Income\",\"Low Income\",\"Middle Income\",\"Middle Income\",\"Low Income\",\"Middle Income\",\"Low Income\",\"Middle Income\",\"Middle Income\",\"Middle Income\",\"Middle Income\",\"Low Income\",\"Middle Income\",\"Low Income\",\"Middle Income\",\"Low Income\",\"Middle Income\",\"Middle Income\",\"Middle Income\",\"Middle Income\",\"Middle Income\",\"Low Income\",\"Low Income\",\"Middle Income\",\"Middle Income\",\"Middle Income\",\"Low Income\",\"Middle Income\",\"Low Income\",\"Middle Income\",\"Middle Income\",\"Middle Income\",\"Middle Income\",\"Low Income\",\"Low Income\",\"Low Income\",\"Middle Income\",\"Middle Income\",\"Middle Income\",\"Low Income\",\"Low Income\",\"Middle Income\",\"Low Income\",\"Middle Income\",\"Middle Income\",\"Middle Income\",\"Middle Income\",\"Middle Income\",\"Middle Income\",\"Low Income\",\"Middle Income\",\"Low Income\",\"Middle Income\",\"Low Income\",\"Middle Income\",\"Low Income\",\"Middle Income\",\"Low Income\",\"Middle Income\",\"Low Income\",\"Middle Income\",\"Middle Income\",\"Middle Income\",\"Low Income\",\"Middle Income\",\"Low Income\",\"Middle Income\",\"Low Income\",\"Middle Income\",\"Middle Income\",\"Middle Income\",\"Middle Income\",\"Low Income\",\"Middle Income\",\"Low Income\",\"Middle Income\",\"Low Income\",\"Low Income\",\"Middle Income\",\"Middle Income\",\"Low Income\",\"Low Income\",\"Middle Income\",\"Low Income\",\"Middle Income\",\"Middle Income\",\"Middle Income\",\"Low Income\",\"Middle Income\",\"Low Income\",\"Low Income\",\"Middle Income\",\"Middle Income\",\"Middle Income\",\"Low Income\",\"Middle Income\",\"Low Income\",\"Middle Income\",\"Low Income\",\"Middle Income\",\"Middle Income\",\"Middle Income\",\"Middle Income\",\"Low Income\",\"Middle Income\",\"Low Income\",\"Low Income\",\"Middle Income\",\"Low Income\",\"Middle Income\",\"Middle Income\",\"Low Income\",\"Middle Income\",\"Middle Income\",\"Low Income\",\"Middle Income\",\"Middle Income\",\"Low Income\",\"Middle Income\",\"Low Income\",\"Low Income\",\"Middle Income\",\"Low Income\",\"Middle Income\",\"Middle Income\",\"Middle Income\",\"Middle Income\",\"Middle Income\",\"Low Income\",\"Middle Income\",\"Low Income\",\"Low Income\",\"Middle Income\",\"Middle Income\",\"Middle Income\",\"Low Income\",\"Low Income\",\"Middle Income\",\"Low Income\",\"Middle Income\",\"Middle Income\",\"Middle Income\",\"Low Income\",\"Middle Income\",\"Low Income\",\"Low Income\",\"Low Income\",\"Middle Income\",\"Middle Income\",\"Low Income\",\"Low Income\",\"Middle Income\",\"Low Income\",\"Middle Income\",\"Middle Income\",\"Middle Income\",\"Middle Income\",\"Middle Income\",\"Low Income\",\"Middle Income\",\"Low Income\",\"Middle Income\",\"Low Income\",\"Middle Income\",\"Middle Income\",\"Middle Income\",\"Low Income\",\"Middle Income\",\"Low Income\",\"Middle Income\",\"Low Income\",\"Middle Income\",\"Middle Income\",\"Low Income\",\"Middle Income\",\"Low Income\",\"Middle Income\",\"Middle Income\",\"Middle Income\",\"Middle Income\",\"Middle Income\",\"Middle Income\",\"Low Income\",\"Middle Income\",\"Low Income\",\"Low Income\",\"Middle Income\",\"Middle Income\",\"Middle Income\",\"Low Income\",\"Low Income\",\"Low Income\",\"Low Income\",\"Middle Income\",\"Middle Income\",\"Middle Income\",\"Middle Income\",\"Low Income\",\"Middle Income\",\"Low Income\",\"Middle Income\",\"Middle Income\",\"Middle Income\",\"Low Income\",\"Low Income\",\"Middle Income\",\"Middle Income\",\"Middle Income\",\"Middle Income\",\"Middle Income\",\"Low Income\",\"Middle Income\",\"Low Income\",\"Middle Income\",\"Low Income\",\"Middle Income\",\"Middle Income\",\"Middle Income\",\"Middle Income\",\"Middle Income\",\"Low Income\",\"Middle Income\",\"Middle Income\",\"Low Income\",\"Low Income\",\"Middle Income\",\"Low Income\",\"Middle Income\",\"Low Income\",\"Middle Income\",\"Middle Income\",\"Middle Income\",\"Middle Income\",\"Low Income\",\"Middle Income\",\"Low Income\",\"Middle Income\",\"Middle Income\",\"Middle Income\",\"Low Income\",\"Low Income\",\"Low Income\",\"Middle Income\",\"Low Income\",\"Middle Income\",\"Middle Income\",\"Middle Income\",\"Low Income\",\"Middle Income\",\"Low Income\",\"Low Income\",\"Low Income\",\"Middle Income\",\"Middle Income\",\"Low Income\",\"Low Income\",\"Middle Income\",\"Low Income\",\"Middle Income\",\"Middle Income\",\"Middle Income\",\"Middle Income\",\"Middle Income\",\"Low Income\",\"Middle Income\",\"Low Income\",\"Middle Income\",\"Low Income\",\"Middle Income\",\"Middle Income\",\"Middle Income\",\"Low Income\",\"Middle Income\",\"Low Income\",\"Low Income\",\"Middle Income\",\"Middle Income\",\"Middle Income\",\"Low Income\",\"Middle Income\",\"Middle Income\",\"Low Income\",\"Middle Income\",\"Middle Income\",\"Middle Income\",\"Middle Income\",\"Low Income\",\"Middle Income\",\"Low Income\",\"Low Income\",\"Middle Income\",\"Middle Income\",\"Middle Income\",\"Low Income\",\"Low Income\",\"Middle Income\",\"Low Income\",\"Middle Income\",\"Middle Income\",\"Middle Income\",\"Middle Income\",\"Middle Income\",\"Low Income\",\"Low Income\",\"Low Income\",\"Middle Income\",\"Middle Income\",\"Middle Income\",\"Low Income\",\"Middle Income\",\"Low Income\",\"Middle Income\",\"Low Income\",\"Middle Income\",\"Middle Income\",\"Middle Income\",\"Low Income\",\"Middle Income\",\"Low Income\",\"Middle Income\",\"Low Income\",\"Middle Income\",\"Low Income\",\"Middle Income\",\"Middle Income\",\"Low Income\",\"Middle Income\",\"Middle Income\",\"Low Income\",\"Middle Income\",\"Middle Income\",\"Low Income\",\"Middle Income\",\"Low Income\",\"Middle Income\",\"Low Income\",\"Middle Income\",\"Middle Income\",\"Middle Income\",\"Low Income\",\"Middle Income\",\"Low Income\",\"Middle Income\",\"Middle Income\",\"Middle Income\",\"Middle Income\",\"Low Income\",\"Low Income\",\"Middle Income\",\"Low Income\",\"Middle Income\",\"Middle Income\",\"Middle Income\",\"Middle Income\",\"Low Income\",\"Middle Income\",\"Low Income\",\"Low Income\",\"Middle Income\",\"Middle Income\",\"Middle Income\",\"Low Income\",\"Low Income\",\"Middle Income\",\"Middle Income\",\"Low Income\",\"Middle Income\",\"Middle Income\",\"Middle Income\",\"Middle Income\",\"Low Income\",\"Low Income\",\"Middle Income\",\"Low Income\",\"Middle Income\",\"Low Income\",\"Middle Income\",\"Middle Income\",\"Low Income\",\"Middle Income\",\"Low Income\",\"Middle Income\",\"Low Income\",\"Middle Income\",\"Middle Income\",\"Middle Income\",\"Middle Income\",\"Low Income\",\"Middle Income\",\"Low Income\",\"Middle Income\",\"Middle Income\",\"Middle Income\",\"Low Income\",\"Middle Income\",\"Low Income\",\"Middle Income\",\"Low Income\",\"Low Income\",\"Middle Income\",\"Middle Income\",\"Low Income\",\"Low Income\",\"Middle Income\",\"Low Income\",\"Middle Income\",\"Middle Income\",\"Middle Income\",\"Middle Income\",\"Low Income\",\"Middle Income\",\"Low Income\",\"Low Income\",\"Low Income\",\"Middle Income\",\"Middle Income\",\"Low Income\",\"Middle Income\",\"Low Income\",\"Middle Income\",\"Low Income\",\"Middle Income\",\"Middle Income\",\"Middle Income\",\"Low Income\"],\"xaxis\":\"x\",\"yaxis\":\"y\",\"type\":\"histogram\"},{\"alignmentgroup\":\"True\",\"bingroup\":\"x\",\"hovertemplate\":\"FrequentFlyer=Yes<br>AnnualIncomeClass=%{x}<br>count=%{y}<extra></extra>\",\"legendgroup\":\"Yes\",\"marker\":{\"color\":\"#EF553B\",\"pattern\":{\"shape\":\"\"}},\"name\":\"Yes\",\"offsetgroup\":\"Yes\",\"orientation\":\"v\",\"showlegend\":true,\"x\":[\"Low Income\",\"High Income\",\"High Income\",\"Low Income\",\"Low Income\",\"High Income\",\"High Income\",\"Low Income\",\"Low Income\",\"High Income\",\"High Income\",\"Low Income\",\"Low Income\",\"High Income\",\"High Income\",\"Low Income\",\"Low Income\",\"High Income\",\"High Income\",\"Low Income\",\"Low Income\",\"High Income\",\"High Income\",\"Low Income\",\"High Income\",\"Low Income\",\"High Income\",\"Low Income\",\"High Income\",\"High Income\",\"Low Income\",\"High Income\",\"High Income\",\"Low Income\",\"Low Income\",\"High Income\",\"High Income\",\"Low Income\",\"High Income\",\"High Income\",\"Low Income\",\"High Income\",\"High Income\",\"Low Income\",\"High Income\",\"High Income\",\"Low Income\",\"Low Income\",\"High Income\",\"Low Income\",\"High Income\",\"Low Income\",\"High Income\",\"Low Income\",\"High Income\",\"Low Income\",\"High Income\",\"High Income\",\"Low Income\",\"High Income\",\"High Income\",\"Low Income\",\"Low Income\",\"High Income\",\"High Income\",\"Low Income\",\"High Income\",\"High Income\",\"Low Income\",\"High Income\",\"High Income\",\"Low Income\",\"High Income\",\"Low Income\",\"High Income\",\"Low Income\",\"High Income\",\"High Income\",\"Low Income\",\"Low Income\",\"High Income\",\"High Income\",\"Low Income\",\"Low Income\",\"High Income\",\"High Income\",\"Low Income\",\"High Income\",\"High Income\",\"Low Income\",\"Low Income\",\"High Income\",\"High Income\",\"Low Income\",\"Low Income\",\"High Income\",\"High Income\",\"Low Income\",\"Low Income\",\"High Income\",\"Low Income\",\"High Income\",\"Low Income\",\"High Income\",\"Low Income\",\"High Income\",\"Low Income\",\"High Income\",\"High Income\",\"Low Income\",\"Low Income\",\"High Income\",\"High Income\",\"Low Income\",\"High Income\",\"High Income\",\"Low Income\",\"High Income\",\"High Income\",\"Low Income\",\"High Income\",\"High Income\",\"Low Income\",\"High Income\",\"Low Income\",\"High Income\",\"Low Income\",\"High Income\",\"High Income\",\"Low Income\",\"Low Income\",\"High Income\",\"High Income\",\"Low Income\",\"High Income\",\"High Income\",\"Low Income\",\"High Income\",\"Low Income\",\"High Income\",\"Low Income\",\"High Income\",\"High Income\",\"Low Income\",\"Low Income\",\"High Income\",\"High Income\",\"Low Income\",\"High Income\",\"High Income\",\"Low Income\",\"High Income\",\"High Income\",\"Low Income\",\"High Income\",\"High Income\",\"Low Income\",\"Low Income\",\"High Income\",\"High Income\",\"Low Income\",\"High Income\",\"High Income\",\"Low Income\",\"Low Income\",\"High Income\",\"High Income\",\"Low Income\",\"Low Income\",\"High Income\",\"High Income\",\"Low Income\",\"High Income\",\"High Income\",\"Low Income\",\"High Income\",\"Low Income\",\"High Income\",\"Low Income\",\"Low Income\",\"High Income\",\"High Income\",\"Low Income\",\"Low Income\",\"High Income\",\"High Income\",\"Low Income\",\"Low Income\",\"High Income\",\"Low Income\",\"High Income\",\"Low Income\",\"High Income\",\"High Income\",\"Low Income\",\"Low Income\",\"High Income\",\"High Income\",\"Low Income\",\"Low Income\",\"High Income\",\"High Income\",\"Low Income\",\"High Income\",\"High Income\",\"Low Income\",\"High Income\",\"High Income\",\"Low Income\",\"Low Income\",\"High Income\",\"High Income\",\"Low Income\",\"Low Income\",\"High Income\",\"High Income\",\"Low Income\",\"Low Income\",\"High Income\",\"High Income\",\"Low Income\",\"Low Income\",\"High Income\",\"High Income\",\"Low Income\",\"High Income\",\"Low Income\",\"High Income\",\"Low Income\",\"High Income\",\"High Income\",\"Low Income\",\"High Income\",\"High Income\",\"Low Income\",\"High Income\",\"High Income\",\"Low Income\",\"High Income\",\"Low Income\",\"High Income\",\"Low Income\",\"Low Income\",\"High Income\",\"High Income\",\"Low Income\",\"High Income\",\"High Income\",\"Low Income\",\"Low Income\",\"High Income\",\"Low Income\",\"High Income\",\"Low Income\",\"High Income\",\"Low Income\",\"High Income\",\"Low Income\",\"High Income\",\"High Income\",\"Low Income\",\"High Income\",\"High Income\",\"Low Income\",\"High Income\",\"High Income\",\"Low Income\",\"Low Income\",\"High Income\",\"High Income\",\"Low Income\",\"High Income\",\"High Income\",\"Low Income\",\"High Income\",\"Low Income\",\"High Income\",\"Low Income\",\"High Income\",\"High Income\",\"Low Income\",\"Low Income\",\"High Income\",\"High Income\",\"Low Income\",\"High Income\"],\"xaxis\":\"x\",\"yaxis\":\"y\",\"type\":\"histogram\"},{\"alignmentgroup\":\"True\",\"bingroup\":\"x\",\"hovertemplate\":\"FrequentFlyer=No Record<br>AnnualIncomeClass=%{x}<br>count=%{y}<extra></extra>\",\"legendgroup\":\"No Record\",\"marker\":{\"color\":\"#00cc96\",\"pattern\":{\"shape\":\"\"}},\"name\":\"No Record\",\"offsetgroup\":\"No Record\",\"orientation\":\"v\",\"showlegend\":true,\"x\":[\"Middle Income\",\"Middle Income\",\"Low Income\",\"Middle Income\",\"Low Income\",\"Low Income\",\"Middle Income\",\"Middle Income\",\"Middle Income\",\"Low Income\",\"Middle Income\",\"Low Income\",\"Middle Income\",\"Low Income\",\"Middle Income\",\"Middle Income\",\"Middle Income\",\"Middle Income\",\"Low Income\",\"Middle Income\",\"Low Income\",\"Middle Income\",\"Low Income\",\"Middle Income\",\"Low Income\",\"Middle Income\",\"Middle Income\",\"Low Income\",\"Middle Income\",\"Middle Income\",\"Low Income\",\"Middle Income\",\"Middle Income\",\"Low Income\",\"Middle Income\",\"Low Income\",\"Middle Income\",\"Low Income\",\"Middle Income\",\"Low Income\",\"Middle Income\",\"Middle Income\",\"Middle Income\",\"Middle Income\",\"Middle Income\",\"Low Income\",\"Middle Income\",\"Low Income\",\"Low Income\",\"Middle Income\",\"Middle Income\",\"Middle Income\",\"Low Income\",\"Low Income\",\"Middle Income\",\"Low Income\",\"Middle Income\",\"Middle Income\",\"Middle Income\",\"Middle Income\"],\"xaxis\":\"x\",\"yaxis\":\"y\",\"type\":\"histogram\"}],                        {\"template\":{\"data\":{\"histogram2dcontour\":[{\"type\":\"histogram2dcontour\",\"colorbar\":{\"outlinewidth\":0,\"ticks\":\"\"},\"colorscale\":[[0.0,\"#0d0887\"],[0.1111111111111111,\"#46039f\"],[0.2222222222222222,\"#7201a8\"],[0.3333333333333333,\"#9c179e\"],[0.4444444444444444,\"#bd3786\"],[0.5555555555555556,\"#d8576b\"],[0.6666666666666666,\"#ed7953\"],[0.7777777777777778,\"#fb9f3a\"],[0.8888888888888888,\"#fdca26\"],[1.0,\"#f0f921\"]]}],\"choropleth\":[{\"type\":\"choropleth\",\"colorbar\":{\"outlinewidth\":0,\"ticks\":\"\"}}],\"histogram2d\":[{\"type\":\"histogram2d\",\"colorbar\":{\"outlinewidth\":0,\"ticks\":\"\"},\"colorscale\":[[0.0,\"#0d0887\"],[0.1111111111111111,\"#46039f\"],[0.2222222222222222,\"#7201a8\"],[0.3333333333333333,\"#9c179e\"],[0.4444444444444444,\"#bd3786\"],[0.5555555555555556,\"#d8576b\"],[0.6666666666666666,\"#ed7953\"],[0.7777777777777778,\"#fb9f3a\"],[0.8888888888888888,\"#fdca26\"],[1.0,\"#f0f921\"]]}],\"heatmap\":[{\"type\":\"heatmap\",\"colorbar\":{\"outlinewidth\":0,\"ticks\":\"\"},\"colorscale\":[[0.0,\"#0d0887\"],[0.1111111111111111,\"#46039f\"],[0.2222222222222222,\"#7201a8\"],[0.3333333333333333,\"#9c179e\"],[0.4444444444444444,\"#bd3786\"],[0.5555555555555556,\"#d8576b\"],[0.6666666666666666,\"#ed7953\"],[0.7777777777777778,\"#fb9f3a\"],[0.8888888888888888,\"#fdca26\"],[1.0,\"#f0f921\"]]}],\"heatmapgl\":[{\"type\":\"heatmapgl\",\"colorbar\":{\"outlinewidth\":0,\"ticks\":\"\"},\"colorscale\":[[0.0,\"#0d0887\"],[0.1111111111111111,\"#46039f\"],[0.2222222222222222,\"#7201a8\"],[0.3333333333333333,\"#9c179e\"],[0.4444444444444444,\"#bd3786\"],[0.5555555555555556,\"#d8576b\"],[0.6666666666666666,\"#ed7953\"],[0.7777777777777778,\"#fb9f3a\"],[0.8888888888888888,\"#fdca26\"],[1.0,\"#f0f921\"]]}],\"contourcarpet\":[{\"type\":\"contourcarpet\",\"colorbar\":{\"outlinewidth\":0,\"ticks\":\"\"}}],\"contour\":[{\"type\":\"contour\",\"colorbar\":{\"outlinewidth\":0,\"ticks\":\"\"},\"colorscale\":[[0.0,\"#0d0887\"],[0.1111111111111111,\"#46039f\"],[0.2222222222222222,\"#7201a8\"],[0.3333333333333333,\"#9c179e\"],[0.4444444444444444,\"#bd3786\"],[0.5555555555555556,\"#d8576b\"],[0.6666666666666666,\"#ed7953\"],[0.7777777777777778,\"#fb9f3a\"],[0.8888888888888888,\"#fdca26\"],[1.0,\"#f0f921\"]]}],\"surface\":[{\"type\":\"surface\",\"colorbar\":{\"outlinewidth\":0,\"ticks\":\"\"},\"colorscale\":[[0.0,\"#0d0887\"],[0.1111111111111111,\"#46039f\"],[0.2222222222222222,\"#7201a8\"],[0.3333333333333333,\"#9c179e\"],[0.4444444444444444,\"#bd3786\"],[0.5555555555555556,\"#d8576b\"],[0.6666666666666666,\"#ed7953\"],[0.7777777777777778,\"#fb9f3a\"],[0.8888888888888888,\"#fdca26\"],[1.0,\"#f0f921\"]]}],\"mesh3d\":[{\"type\":\"mesh3d\",\"colorbar\":{\"outlinewidth\":0,\"ticks\":\"\"}}],\"scatter\":[{\"fillpattern\":{\"fillmode\":\"overlay\",\"size\":10,\"solidity\":0.2},\"type\":\"scatter\"}],\"parcoords\":[{\"type\":\"parcoords\",\"line\":{\"colorbar\":{\"outlinewidth\":0,\"ticks\":\"\"}}}],\"scatterpolargl\":[{\"type\":\"scatterpolargl\",\"marker\":{\"colorbar\":{\"outlinewidth\":0,\"ticks\":\"\"}}}],\"bar\":[{\"error_x\":{\"color\":\"#2a3f5f\"},\"error_y\":{\"color\":\"#2a3f5f\"},\"marker\":{\"line\":{\"color\":\"#E5ECF6\",\"width\":0.5},\"pattern\":{\"fillmode\":\"overlay\",\"size\":10,\"solidity\":0.2}},\"type\":\"bar\"}],\"scattergeo\":[{\"type\":\"scattergeo\",\"marker\":{\"colorbar\":{\"outlinewidth\":0,\"ticks\":\"\"}}}],\"scatterpolar\":[{\"type\":\"scatterpolar\",\"marker\":{\"colorbar\":{\"outlinewidth\":0,\"ticks\":\"\"}}}],\"histogram\":[{\"marker\":{\"pattern\":{\"fillmode\":\"overlay\",\"size\":10,\"solidity\":0.2}},\"type\":\"histogram\"}],\"scattergl\":[{\"type\":\"scattergl\",\"marker\":{\"colorbar\":{\"outlinewidth\":0,\"ticks\":\"\"}}}],\"scatter3d\":[{\"type\":\"scatter3d\",\"line\":{\"colorbar\":{\"outlinewidth\":0,\"ticks\":\"\"}},\"marker\":{\"colorbar\":{\"outlinewidth\":0,\"ticks\":\"\"}}}],\"scattermapbox\":[{\"type\":\"scattermapbox\",\"marker\":{\"colorbar\":{\"outlinewidth\":0,\"ticks\":\"\"}}}],\"scatterternary\":[{\"type\":\"scatterternary\",\"marker\":{\"colorbar\":{\"outlinewidth\":0,\"ticks\":\"\"}}}],\"scattercarpet\":[{\"type\":\"scattercarpet\",\"marker\":{\"colorbar\":{\"outlinewidth\":0,\"ticks\":\"\"}}}],\"carpet\":[{\"aaxis\":{\"endlinecolor\":\"#2a3f5f\",\"gridcolor\":\"white\",\"linecolor\":\"white\",\"minorgridcolor\":\"white\",\"startlinecolor\":\"#2a3f5f\"},\"baxis\":{\"endlinecolor\":\"#2a3f5f\",\"gridcolor\":\"white\",\"linecolor\":\"white\",\"minorgridcolor\":\"white\",\"startlinecolor\":\"#2a3f5f\"},\"type\":\"carpet\"}],\"table\":[{\"cells\":{\"fill\":{\"color\":\"#EBF0F8\"},\"line\":{\"color\":\"white\"}},\"header\":{\"fill\":{\"color\":\"#C8D4E3\"},\"line\":{\"color\":\"white\"}},\"type\":\"table\"}],\"barpolar\":[{\"marker\":{\"line\":{\"color\":\"#E5ECF6\",\"width\":0.5},\"pattern\":{\"fillmode\":\"overlay\",\"size\":10,\"solidity\":0.2}},\"type\":\"barpolar\"}],\"pie\":[{\"automargin\":true,\"type\":\"pie\"}]},\"layout\":{\"autotypenumbers\":\"strict\",\"colorway\":[\"#636efa\",\"#EF553B\",\"#00cc96\",\"#ab63fa\",\"#FFA15A\",\"#19d3f3\",\"#FF6692\",\"#B6E880\",\"#FF97FF\",\"#FECB52\"],\"font\":{\"color\":\"#2a3f5f\"},\"hovermode\":\"closest\",\"hoverlabel\":{\"align\":\"left\"},\"paper_bgcolor\":\"white\",\"plot_bgcolor\":\"#E5ECF6\",\"polar\":{\"bgcolor\":\"#E5ECF6\",\"angularaxis\":{\"gridcolor\":\"white\",\"linecolor\":\"white\",\"ticks\":\"\"},\"radialaxis\":{\"gridcolor\":\"white\",\"linecolor\":\"white\",\"ticks\":\"\"}},\"ternary\":{\"bgcolor\":\"#E5ECF6\",\"aaxis\":{\"gridcolor\":\"white\",\"linecolor\":\"white\",\"ticks\":\"\"},\"baxis\":{\"gridcolor\":\"white\",\"linecolor\":\"white\",\"ticks\":\"\"},\"caxis\":{\"gridcolor\":\"white\",\"linecolor\":\"white\",\"ticks\":\"\"}},\"coloraxis\":{\"colorbar\":{\"outlinewidth\":0,\"ticks\":\"\"}},\"colorscale\":{\"sequential\":[[0.0,\"#0d0887\"],[0.1111111111111111,\"#46039f\"],[0.2222222222222222,\"#7201a8\"],[0.3333333333333333,\"#9c179e\"],[0.4444444444444444,\"#bd3786\"],[0.5555555555555556,\"#d8576b\"],[0.6666666666666666,\"#ed7953\"],[0.7777777777777778,\"#fb9f3a\"],[0.8888888888888888,\"#fdca26\"],[1.0,\"#f0f921\"]],\"sequentialminus\":[[0.0,\"#0d0887\"],[0.1111111111111111,\"#46039f\"],[0.2222222222222222,\"#7201a8\"],[0.3333333333333333,\"#9c179e\"],[0.4444444444444444,\"#bd3786\"],[0.5555555555555556,\"#d8576b\"],[0.6666666666666666,\"#ed7953\"],[0.7777777777777778,\"#fb9f3a\"],[0.8888888888888888,\"#fdca26\"],[1.0,\"#f0f921\"]],\"diverging\":[[0,\"#8e0152\"],[0.1,\"#c51b7d\"],[0.2,\"#de77ae\"],[0.3,\"#f1b6da\"],[0.4,\"#fde0ef\"],[0.5,\"#f7f7f7\"],[0.6,\"#e6f5d0\"],[0.7,\"#b8e186\"],[0.8,\"#7fbc41\"],[0.9,\"#4d9221\"],[1,\"#276419\"]]},\"xaxis\":{\"gridcolor\":\"white\",\"linecolor\":\"white\",\"ticks\":\"\",\"title\":{\"standoff\":15},\"zerolinecolor\":\"white\",\"automargin\":true,\"zerolinewidth\":2},\"yaxis\":{\"gridcolor\":\"white\",\"linecolor\":\"white\",\"ticks\":\"\",\"title\":{\"standoff\":15},\"zerolinecolor\":\"white\",\"automargin\":true,\"zerolinewidth\":2},\"scene\":{\"xaxis\":{\"backgroundcolor\":\"#E5ECF6\",\"gridcolor\":\"white\",\"linecolor\":\"white\",\"showbackground\":true,\"ticks\":\"\",\"zerolinecolor\":\"white\",\"gridwidth\":2},\"yaxis\":{\"backgroundcolor\":\"#E5ECF6\",\"gridcolor\":\"white\",\"linecolor\":\"white\",\"showbackground\":true,\"ticks\":\"\",\"zerolinecolor\":\"white\",\"gridwidth\":2},\"zaxis\":{\"backgroundcolor\":\"#E5ECF6\",\"gridcolor\":\"white\",\"linecolor\":\"white\",\"showbackground\":true,\"ticks\":\"\",\"zerolinecolor\":\"white\",\"gridwidth\":2}},\"shapedefaults\":{\"line\":{\"color\":\"#2a3f5f\"}},\"annotationdefaults\":{\"arrowcolor\":\"#2a3f5f\",\"arrowhead\":0,\"arrowwidth\":1},\"geo\":{\"bgcolor\":\"white\",\"landcolor\":\"#E5ECF6\",\"subunitcolor\":\"white\",\"showland\":true,\"showlakes\":true,\"lakecolor\":\"white\"},\"title\":{\"x\":0.05},\"mapbox\":{\"style\":\"light\"}}},\"xaxis\":{\"anchor\":\"y\",\"domain\":[0.0,1.0],\"title\":{\"text\":\"AnnualIncomeClass\"}},\"yaxis\":{\"anchor\":\"x\",\"domain\":[0.0,1.0],\"title\":{\"text\":\"count\"}},\"legend\":{\"title\":{\"text\":\"FrequentFlyer\"},\"tracegroupgap\":0},\"margin\":{\"t\":60},\"barmode\":\"relative\"},                        {\"responsive\": true}                    ).then(function(){\n",
       "                            \n",
       "var gd = document.getElementById('3342cde5-12d1-4d09-8f11-0649fb93f682');\n",
       "var x = new MutationObserver(function (mutations, observer) {{\n",
       "        var display = window.getComputedStyle(gd).display;\n",
       "        if (!display || display === 'none') {{\n",
       "            console.log([gd, 'removed!']);\n",
       "            Plotly.purge(gd);\n",
       "            observer.disconnect();\n",
       "        }}\n",
       "}});\n",
       "\n",
       "// Listen for the removal of the full notebook cells\n",
       "var notebookContainer = gd.closest('#notebook-container');\n",
       "if (notebookContainer) {{\n",
       "    x.observe(notebookContainer, {childList: true});\n",
       "}}\n",
       "\n",
       "// Listen for the clearing of the current output cell\n",
       "var outputEl = gd.closest('.output');\n",
       "if (outputEl) {{\n",
       "    x.observe(outputEl, {childList: true});\n",
       "}}\n",
       "\n",
       "                        })                };                });            </script>        </div>"
      ]
     },
     "metadata": {},
     "output_type": "display_data"
    }
   ],
   "source": [
    "fig = px.histogram(data,x='AnnualIncomeClass',color='FrequentFlyer')\n",
    "fig.show()"
   ]
  },
  {
   "cell_type": "code",
   "execution_count": 20,
   "id": "bdad41d7-8712-4bfb-954d-d45477f7ef22",
   "metadata": {},
   "outputs": [
    {
     "data": {
      "text/plain": [
       "ServicesOpted\n",
       "1    404\n",
       "2    176\n",
       "3    124\n",
       "4    117\n",
       "5     69\n",
       "6     64\n",
       "Name: count, dtype: int64"
      ]
     },
     "execution_count": 20,
     "metadata": {},
     "output_type": "execute_result"
    }
   ],
   "source": [
    "data['ServicesOpted'].value_counts()"
   ]
  },
  {
   "cell_type": "code",
   "execution_count": 21,
   "id": "608dc1a6-bfb7-4bd6-abee-4ec6e57540e2",
   "metadata": {},
   "outputs": [
    {
     "data": {
      "application/vnd.plotly.v1+json": {
       "config": {
        "plotlyServerURL": "https://plot.ly"
       },
       "data": [
        {
         "alignmentgroup": "True",
         "bingroup": "x",
         "hovertemplate": "ServicesOpted=6<br>AnnualIncomeClass=%{x}<br>count=%{y}<extra></extra>",
         "legendgroup": "6",
         "marker": {
          "color": "#636efa",
          "pattern": {
           "shape": ""
          }
         },
         "name": "6",
         "offsetgroup": "6",
         "orientation": "v",
         "showlegend": true,
         "type": "histogram",
         "x": [
          "Middle Income",
          "Low Income",
          "Middle Income",
          "High Income",
          "Middle Income",
          "Middle Income",
          "Middle Income",
          "High Income",
          "Low Income",
          "Middle Income",
          "Middle Income",
          "High Income",
          "Middle Income",
          "Middle Income",
          "Middle Income",
          "High Income",
          "Middle Income",
          "Middle Income",
          "Middle Income",
          "High Income",
          "Middle Income",
          "Middle Income",
          "Low Income",
          "High Income",
          "Middle Income",
          "Middle Income",
          "Middle Income",
          "High Income",
          "Middle Income",
          "Low Income",
          "Middle Income",
          "High Income",
          "Middle Income",
          "Middle Income",
          "Middle Income",
          "High Income",
          "Low Income",
          "Middle Income",
          "Middle Income",
          "High Income",
          "Middle Income",
          "Middle Income",
          "Middle Income",
          "High Income",
          "Middle Income",
          "Middle Income",
          "Middle Income",
          "High Income",
          "Middle Income",
          "Middle Income",
          "Low Income",
          "High Income",
          "Middle Income",
          "Middle Income",
          "Middle Income",
          "High Income",
          "Middle Income",
          "Low Income",
          "Middle Income",
          "High Income",
          "Middle Income",
          "Middle Income",
          "Middle Income",
          "High Income"
         ],
         "xaxis": "x",
         "yaxis": "y"
        },
        {
         "alignmentgroup": "True",
         "bingroup": "x",
         "hovertemplate": "ServicesOpted=5<br>AnnualIncomeClass=%{x}<br>count=%{y}<extra></extra>",
         "legendgroup": "5",
         "marker": {
          "color": "#EF553B",
          "pattern": {
           "shape": ""
          }
         },
         "name": "5",
         "offsetgroup": "5",
         "orientation": "v",
         "showlegend": true,
         "type": "histogram",
         "x": [
          "Low Income",
          "Middle Income",
          "Middle Income",
          "Low Income",
          "High Income",
          "Middle Income",
          "Low Income",
          "Low Income",
          "Low Income",
          "Middle Income",
          "Middle Income",
          "Low Income",
          "Middle Income",
          "Low Income",
          "Low Income",
          "High Income",
          "Middle Income",
          "Low Income",
          "Middle Income",
          "High Income",
          "Low Income",
          "Middle Income",
          "Low Income",
          "Middle Income",
          "Middle Income",
          "Low Income",
          "High Income",
          "Middle Income",
          "Low Income",
          "Middle Income",
          "High Income",
          "Low Income",
          "Middle Income",
          "Low Income",
          "Low Income",
          "Middle Income",
          "Low Income",
          "High Income",
          "Middle Income",
          "Low Income",
          "Middle Income",
          "High Income",
          "Low Income",
          "Middle Income",
          "Middle Income",
          "Low Income",
          "Low Income",
          "Middle Income",
          "Low Income",
          "High Income",
          "Low Income",
          "Middle Income",
          "High Income",
          "Low Income",
          "Middle Income",
          "Middle Income",
          "Low Income",
          "Middle Income",
          "Middle Income",
          "Low Income",
          "High Income",
          "Middle Income",
          "Low Income",
          "Middle Income",
          "Low Income",
          "Low Income",
          "Middle Income",
          "Low Income",
          "Middle Income"
         ],
         "xaxis": "x",
         "yaxis": "y"
        },
        {
         "alignmentgroup": "True",
         "bingroup": "x",
         "hovertemplate": "ServicesOpted=3<br>AnnualIncomeClass=%{x}<br>count=%{y}<extra></extra>",
         "legendgroup": "3",
         "marker": {
          "color": "#00cc96",
          "pattern": {
           "shape": ""
          }
         },
         "name": "3",
         "offsetgroup": "3",
         "orientation": "v",
         "showlegend": true,
         "type": "histogram",
         "x": [
          "Middle Income",
          "Low Income",
          "Middle Income",
          "Middle Income",
          "Middle Income",
          "Middle Income",
          "Low Income",
          "Middle Income",
          "Middle Income",
          "Middle Income",
          "Middle Income",
          "Middle Income",
          "Middle Income",
          "Middle Income",
          "Middle Income",
          "Middle Income",
          "Middle Income",
          "Low Income",
          "Middle Income",
          "Middle Income",
          "Middle Income",
          "Middle Income",
          "Low Income",
          "Middle Income",
          "Middle Income",
          "Middle Income",
          "Middle Income",
          "Middle Income",
          "Low Income",
          "Middle Income",
          "Middle Income",
          "Middle Income",
          "Middle Income",
          "Low Income",
          "Middle Income",
          "Middle Income",
          "Middle Income",
          "Middle Income",
          "Middle Income",
          "Low Income",
          "Middle Income",
          "Middle Income",
          "Middle Income",
          "Middle Income",
          "Low Income",
          "Middle Income",
          "Middle Income",
          "Middle Income",
          "Middle Income",
          "Middle Income",
          "Low Income",
          "Middle Income",
          "Middle Income",
          "Middle Income",
          "Middle Income",
          "Low Income",
          "Middle Income",
          "Middle Income",
          "Middle Income",
          "Middle Income",
          "Middle Income",
          "Low Income",
          "Middle Income",
          "Middle Income",
          "Middle Income",
          "Middle Income",
          "Middle Income",
          "Low Income",
          "Middle Income",
          "Middle Income",
          "Middle Income",
          "Middle Income",
          "Middle Income",
          "Low Income",
          "Middle Income",
          "Middle Income",
          "Middle Income",
          "Middle Income",
          "Low Income",
          "Middle Income",
          "Middle Income",
          "Middle Income",
          "Middle Income",
          "Middle Income",
          "Middle Income",
          "Middle Income",
          "Middle Income",
          "Middle Income",
          "Middle Income",
          "Low Income",
          "Middle Income",
          "Middle Income",
          "Middle Income",
          "Middle Income",
          "Low Income",
          "Middle Income",
          "Middle Income",
          "Middle Income",
          "Middle Income",
          "Middle Income",
          "Low Income",
          "Middle Income",
          "Middle Income",
          "Middle Income",
          "Middle Income",
          "Low Income",
          "Middle Income",
          "Middle Income",
          "Middle Income",
          "Middle Income",
          "Middle Income",
          "Low Income",
          "Middle Income",
          "Middle Income",
          "Middle Income",
          "Middle Income",
          "Low Income",
          "Middle Income",
          "Middle Income",
          "Middle Income",
          "Middle Income",
          "Middle Income",
          "Low Income",
          "Middle Income"
         ],
         "xaxis": "x",
         "yaxis": "y"
        },
        {
         "alignmentgroup": "True",
         "bingroup": "x",
         "hovertemplate": "ServicesOpted=2<br>AnnualIncomeClass=%{x}<br>count=%{y}<extra></extra>",
         "legendgroup": "2",
         "marker": {
          "color": "#ab63fa",
          "pattern": {
           "shape": ""
          }
         },
         "name": "2",
         "offsetgroup": "2",
         "orientation": "v",
         "showlegend": true,
         "type": "histogram",
         "x": [
          "Middle Income",
          "Low Income",
          "Middle Income",
          "Low Income",
          "Middle Income",
          "Low Income",
          "Middle Income",
          "Middle Income",
          "Low Income",
          "Middle Income",
          "Middle Income",
          "Middle Income",
          "Middle Income",
          "Low Income",
          "Low Income",
          "Middle Income",
          "Low Income",
          "Middle Income",
          "Low Income",
          "Low Income",
          "Middle Income",
          "Low Income",
          "Middle Income",
          "Middle Income",
          "Low Income",
          "Middle Income",
          "Middle Income",
          "Low Income",
          "Low Income",
          "Middle Income",
          "Low Income",
          "Middle Income",
          "Low Income",
          "Middle Income",
          "Low Income",
          "Middle Income",
          "Low Income",
          "Middle Income",
          "Middle Income",
          "Low Income",
          "Middle Income",
          "Middle Income",
          "Middle Income",
          "Middle Income",
          "Low Income",
          "Middle Income",
          "Low Income",
          "Low Income",
          "Middle Income",
          "Low Income",
          "Low Income",
          "Middle Income",
          "Low Income",
          "Middle Income",
          "Low Income",
          "Middle Income",
          "Middle Income",
          "Middle Income",
          "Low Income",
          "Low Income",
          "Middle Income",
          "Low Income",
          "Low Income",
          "Middle Income",
          "Low Income",
          "Low Income",
          "Middle Income",
          "Low Income",
          "Middle Income",
          "Low Income",
          "Middle Income",
          "Middle Income",
          "Middle Income",
          "Middle Income",
          "Low Income",
          "Low Income",
          "Middle Income",
          "Low Income",
          "Middle Income",
          "Low Income",
          "Middle Income",
          "Low Income",
          "Low Income",
          "Middle Income",
          "Middle Income",
          "Low Income",
          "Middle Income",
          "Middle Income",
          "Middle Income",
          "Middle Income",
          "Low Income",
          "Low Income",
          "Low Income",
          "Middle Income",
          "Low Income",
          "Middle Income",
          "Low Income",
          "Low Income",
          "Middle Income",
          "Low Income",
          "Middle Income",
          "Middle Income",
          "Middle Income",
          "Middle Income",
          "Middle Income",
          "Low Income",
          "Low Income",
          "Middle Income",
          "Low Income",
          "Middle Income",
          "Low Income",
          "Low Income",
          "Low Income",
          "Middle Income",
          "Low Income",
          "Middle Income",
          "Middle Income",
          "Low Income",
          "Middle Income",
          "Middle Income",
          "Middle Income",
          "Low Income",
          "Low Income",
          "Middle Income",
          "Low Income",
          "Low Income",
          "Middle Income",
          "Low Income",
          "Low Income",
          "Middle Income",
          "Middle Income",
          "Middle Income",
          "Low Income",
          "Middle Income",
          "Middle Income",
          "Middle Income",
          "Low Income",
          "Low Income",
          "Middle Income",
          "Low Income",
          "Middle Income",
          "Low Income",
          "Middle Income",
          "Low Income",
          "Low Income",
          "Middle Income",
          "Low Income",
          "Middle Income",
          "Low Income",
          "Middle Income",
          "Middle Income",
          "Middle Income",
          "Low Income",
          "Low Income",
          "Middle Income",
          "Low Income",
          "Middle Income",
          "Low Income",
          "Middle Income",
          "Middle Income",
          "Low Income",
          "Middle Income",
          "Middle Income",
          "Low Income",
          "Middle Income",
          "Middle Income",
          "Middle Income",
          "Middle Income",
          "Low Income",
          "Low Income",
          "Middle Income",
          "Low Income",
          "Middle Income",
          "Low Income",
          "Low Income",
          "Middle Income"
         ],
         "xaxis": "x",
         "yaxis": "y"
        },
        {
         "alignmentgroup": "True",
         "bingroup": "x",
         "hovertemplate": "ServicesOpted=1<br>AnnualIncomeClass=%{x}<br>count=%{y}<extra></extra>",
         "legendgroup": "1",
         "marker": {
          "color": "#FFA15A",
          "pattern": {
           "shape": ""
          }
         },
         "name": "1",
         "offsetgroup": "1",
         "orientation": "v",
         "showlegend": true,
         "type": "histogram",
         "x": [
          "Low Income",
          "High Income",
          "High Income",
          "Low Income",
          "Middle Income",
          "Low Income",
          "High Income",
          "Middle Income",
          "High Income",
          "Low Income",
          "Middle Income",
          "Low Income",
          "Low Income",
          "High Income",
          "High Income",
          "Low Income",
          "Low Income",
          "Middle Income",
          "Low Income",
          "Low Income",
          "Low Income",
          "Middle Income",
          "High Income",
          "Low Income",
          "Low Income",
          "Low Income",
          "High Income",
          "Low Income",
          "Middle Income",
          "Low Income",
          "High Income",
          "Low Income",
          "High Income",
          "Low Income",
          "Middle Income",
          "Low Income",
          "Low Income",
          "High Income",
          "High Income",
          "Low Income",
          "Middle Income",
          "Low Income",
          "High Income",
          "Middle Income",
          "Low Income",
          "Middle Income",
          "Low Income",
          "Low Income",
          "High Income",
          "Middle Income",
          "High Income",
          "Low Income",
          "Low Income",
          "Middle Income",
          "High Income",
          "Low Income",
          "Low Income",
          "Low Income",
          "High Income",
          "Middle Income",
          "High Income",
          "Low Income",
          "Low Income",
          "Low Income",
          "High Income",
          "Low Income",
          "Middle Income",
          "High Income",
          "Low Income",
          "Low Income",
          "Middle Income",
          "Low Income",
          "Low Income",
          "High Income",
          "High Income",
          "Low Income",
          "Low Income",
          "High Income",
          "Middle Income",
          "High Income",
          "Low Income",
          "Middle Income",
          "Low Income",
          "High Income",
          "Middle Income",
          "High Income",
          "Low Income",
          "Low Income",
          "Low Income",
          "High Income",
          "Low Income",
          "Low Income",
          "Low Income",
          "High Income",
          "Low Income",
          "Middle Income",
          "Low Income",
          "Low Income",
          "High Income",
          "Middle Income",
          "Low Income",
          "Low Income",
          "High Income",
          "Low Income",
          "High Income",
          "Low Income",
          "Middle Income",
          "Low Income",
          "Low Income",
          "High Income",
          "Low Income",
          "Middle Income",
          "Low Income",
          "High Income",
          "High Income",
          "Middle Income",
          "Low Income",
          "Low Income",
          "High Income",
          "Middle Income",
          "Low Income",
          "Low Income",
          "Low Income",
          "Middle Income",
          "High Income",
          "Low Income",
          "Low Income",
          "Low Income",
          "High Income",
          "Middle Income",
          "High Income",
          "Low Income",
          "Middle Income",
          "Low Income",
          "High Income",
          "Middle Income",
          "Low Income",
          "Middle Income",
          "Low Income",
          "High Income",
          "High Income",
          "Low Income",
          "Middle Income",
          "Low Income",
          "Low Income",
          "High Income",
          "Low Income",
          "Middle Income",
          "High Income",
          "Middle Income",
          "High Income",
          "Low Income",
          "Low Income",
          "Low Income",
          "Middle Income",
          "High Income",
          "Low Income",
          "Low Income",
          "Low Income",
          "High Income",
          "Low Income",
          "Low Income",
          "Low Income",
          "High Income",
          "High Income",
          "Low Income",
          "Middle Income",
          "Low Income",
          "Low Income",
          "High Income",
          "Middle Income",
          "Low Income",
          "Middle Income",
          "Low Income",
          "High Income",
          "Low Income",
          "Low Income",
          "Low Income",
          "Low Income",
          "High Income",
          "High Income",
          "Middle Income",
          "Low Income",
          "High Income",
          "Middle Income",
          "High Income",
          "Low Income",
          "Middle Income",
          "Low Income",
          "Low Income",
          "High Income",
          "High Income",
          "Low Income",
          "Low Income",
          "Middle Income",
          "Low Income",
          "Low Income",
          "High Income",
          "Middle Income",
          "High Income",
          "Low Income",
          "Low Income",
          "Low Income",
          "High Income",
          "Middle Income",
          "Low Income",
          "Middle Income",
          "Low Income",
          "High Income",
          "Low Income",
          "High Income",
          "Low Income",
          "Middle Income",
          "Low Income",
          "High Income",
          "High Income",
          "Low Income",
          "Middle Income",
          "Low Income",
          "Middle Income",
          "Low Income",
          "Middle Income",
          "Low Income",
          "Low Income",
          "High Income",
          "High Income",
          "Low Income",
          "Low Income",
          "Middle Income",
          "High Income",
          "Low Income",
          "Low Income",
          "Low Income",
          "High Income",
          "Middle Income",
          "High Income",
          "Low Income",
          "Middle Income",
          "Low Income",
          "Low Income",
          "High Income",
          "Low Income",
          "Middle Income",
          "Low Income",
          "High Income",
          "Low Income",
          "Middle Income",
          "Low Income",
          "Low Income",
          "High Income",
          "High Income",
          "Low Income",
          "Low Income",
          "High Income",
          "Middle Income",
          "High Income",
          "Low Income",
          "Low Income",
          "Low Income",
          "High Income",
          "Middle Income",
          "High Income",
          "Low Income",
          "Low Income",
          "High Income",
          "Low Income",
          "Low Income",
          "Low Income",
          "High Income",
          "Middle Income",
          "Low Income",
          "Middle Income",
          "Low Income",
          "Low Income",
          "High Income",
          "Middle Income",
          "Low Income",
          "Low Income",
          "High Income",
          "Low Income",
          "High Income",
          "Low Income",
          "Middle Income",
          "Low Income",
          "Low Income",
          "High Income",
          "Low Income",
          "Middle Income",
          "Low Income",
          "High Income",
          "High Income",
          "Low Income",
          "Middle Income",
          "Low Income",
          "Low Income",
          "High Income",
          "Middle Income",
          "Low Income",
          "Low Income",
          "Low Income",
          "Middle Income",
          "High Income",
          "Low Income",
          "Low Income",
          "Low Income",
          "High Income",
          "Middle Income",
          "Low Income",
          "Middle Income",
          "Low Income",
          "Low Income",
          "High Income",
          "Middle Income",
          "Middle Income",
          "Low Income",
          "High Income",
          "High Income",
          "Low Income",
          "Middle Income",
          "Low Income",
          "Low Income",
          "High Income",
          "Low Income",
          "Low Income",
          "High Income",
          "Middle Income",
          "High Income",
          "Low Income",
          "Low Income",
          "High Income",
          "Middle Income",
          "High Income",
          "Low Income",
          "Low Income",
          "Low Income",
          "Middle Income",
          "High Income",
          "Low Income",
          "Low Income",
          "Low Income",
          "High Income",
          "High Income",
          "Low Income",
          "Middle Income",
          "Low Income",
          "High Income",
          "Middle Income",
          "Low Income",
          "Middle Income",
          "Low Income",
          "Low Income",
          "High Income",
          "Low Income",
          "Low Income",
          "Low Income",
          "High Income",
          "High Income",
          "Low Income",
          "Middle Income",
          "Low Income",
          "High Income",
          "Middle Income",
          "High Income",
          "Low Income",
          "Middle Income",
          "Low Income",
          "Low Income",
          "High Income",
          "High Income",
          "Low Income",
          "Low Income",
          "Low Income",
          "Middle Income",
          "Low Income",
          "Low Income",
          "Low Income",
          "High Income",
          "Middle Income",
          "High Income",
          "Low Income",
          "Low Income",
          "High Income",
          "Middle Income",
          "Low Income",
          "Middle Income",
          "Low Income",
          "High Income",
          "Low Income",
          "High Income",
          "Low Income",
          "Low Income",
          "Low Income",
          "High Income",
          "High Income",
          "Low Income",
          "Middle Income",
          "Low Income",
          "High Income",
          "Middle Income",
          "Low Income",
          "Middle Income",
          "Low Income",
          "Low Income",
          "High Income"
         ],
         "xaxis": "x",
         "yaxis": "y"
        },
        {
         "alignmentgroup": "True",
         "bingroup": "x",
         "hovertemplate": "ServicesOpted=4<br>AnnualIncomeClass=%{x}<br>count=%{y}<extra></extra>",
         "legendgroup": "4",
         "marker": {
          "color": "#19d3f3",
          "pattern": {
           "shape": ""
          }
         },
         "name": "4",
         "offsetgroup": "4",
         "orientation": "v",
         "showlegend": true,
         "type": "histogram",
         "x": [
          "Middle Income",
          "Low Income",
          "Middle Income",
          "Low Income",
          "High Income",
          "Middle Income",
          "Low Income",
          "Middle Income",
          "High Income",
          "Low Income",
          "Middle Income",
          "Low Income",
          "Middle Income",
          "Middle Income",
          "High Income",
          "Middle Income",
          "Low Income",
          "Middle Income",
          "High Income",
          "Low Income",
          "Middle Income",
          "Middle Income",
          "Low Income",
          "Middle Income",
          "Low Income",
          "Middle Income",
          "Low Income",
          "Middle Income",
          "High Income",
          "Low Income",
          "Middle Income",
          "Middle Income",
          "Low Income",
          "Middle Income",
          "Middle Income",
          "Low Income",
          "High Income",
          "Low Income",
          "Middle Income",
          "High Income",
          "Low Income",
          "Middle Income",
          "Middle Income",
          "Low Income",
          "Middle Income",
          "Middle Income",
          "Low Income",
          "High Income",
          "Middle Income",
          "Middle Income",
          "Low Income",
          "Middle Income",
          "Middle Income",
          "Low Income",
          "Middle Income",
          "Middle Income",
          "Low Income",
          "High Income",
          "Middle Income",
          "Low Income",
          "High Income",
          "Low Income",
          "Middle Income",
          "Low Income",
          "Middle Income",
          "Middle Income",
          "Low Income",
          "High Income",
          "Middle Income",
          "Low Income",
          "Middle Income",
          "Low Income",
          "Middle Income",
          "Middle Income",
          "Low Income",
          "Middle Income",
          "Low Income",
          "High Income",
          "Middle Income",
          "Low Income",
          "Middle Income",
          "High Income",
          "Middle Income",
          "Middle Income",
          "Low Income",
          "Middle Income",
          "Middle Income",
          "Low Income",
          "High Income",
          "Low Income",
          "Middle Income",
          "High Income",
          "Low Income",
          "Middle Income",
          "Low Income",
          "Middle Income",
          "Middle Income",
          "Low Income",
          "High Income",
          "Middle Income",
          "Low Income",
          "Middle Income",
          "Low Income",
          "Middle Income",
          "Low Income",
          "Middle Income",
          "Middle Income",
          "Low Income",
          "High Income",
          "Middle Income",
          "Low Income",
          "Middle Income",
          "High Income",
          "Low Income",
          "Middle Income",
          "Middle Income",
          "Middle Income"
         ],
         "xaxis": "x",
         "yaxis": "y"
        }
       ],
       "layout": {
        "autosize": true,
        "barmode": "relative",
        "legend": {
         "title": {
          "text": "ServicesOpted"
         },
         "tracegroupgap": 0
        },
        "margin": {
         "t": 60
        },
        "template": {
         "data": {
          "bar": [
           {
            "error_x": {
             "color": "#2a3f5f"
            },
            "error_y": {
             "color": "#2a3f5f"
            },
            "marker": {
             "line": {
              "color": "#E5ECF6",
              "width": 0.5
             },
             "pattern": {
              "fillmode": "overlay",
              "size": 10,
              "solidity": 0.2
             }
            },
            "type": "bar"
           }
          ],
          "barpolar": [
           {
            "marker": {
             "line": {
              "color": "#E5ECF6",
              "width": 0.5
             },
             "pattern": {
              "fillmode": "overlay",
              "size": 10,
              "solidity": 0.2
             }
            },
            "type": "barpolar"
           }
          ],
          "carpet": [
           {
            "aaxis": {
             "endlinecolor": "#2a3f5f",
             "gridcolor": "white",
             "linecolor": "white",
             "minorgridcolor": "white",
             "startlinecolor": "#2a3f5f"
            },
            "baxis": {
             "endlinecolor": "#2a3f5f",
             "gridcolor": "white",
             "linecolor": "white",
             "minorgridcolor": "white",
             "startlinecolor": "#2a3f5f"
            },
            "type": "carpet"
           }
          ],
          "choropleth": [
           {
            "colorbar": {
             "outlinewidth": 0,
             "ticks": ""
            },
            "type": "choropleth"
           }
          ],
          "contour": [
           {
            "colorbar": {
             "outlinewidth": 0,
             "ticks": ""
            },
            "colorscale": [
             [
              0,
              "#0d0887"
             ],
             [
              0.1111111111111111,
              "#46039f"
             ],
             [
              0.2222222222222222,
              "#7201a8"
             ],
             [
              0.3333333333333333,
              "#9c179e"
             ],
             [
              0.4444444444444444,
              "#bd3786"
             ],
             [
              0.5555555555555556,
              "#d8576b"
             ],
             [
              0.6666666666666666,
              "#ed7953"
             ],
             [
              0.7777777777777778,
              "#fb9f3a"
             ],
             [
              0.8888888888888888,
              "#fdca26"
             ],
             [
              1,
              "#f0f921"
             ]
            ],
            "type": "contour"
           }
          ],
          "contourcarpet": [
           {
            "colorbar": {
             "outlinewidth": 0,
             "ticks": ""
            },
            "type": "contourcarpet"
           }
          ],
          "heatmap": [
           {
            "colorbar": {
             "outlinewidth": 0,
             "ticks": ""
            },
            "colorscale": [
             [
              0,
              "#0d0887"
             ],
             [
              0.1111111111111111,
              "#46039f"
             ],
             [
              0.2222222222222222,
              "#7201a8"
             ],
             [
              0.3333333333333333,
              "#9c179e"
             ],
             [
              0.4444444444444444,
              "#bd3786"
             ],
             [
              0.5555555555555556,
              "#d8576b"
             ],
             [
              0.6666666666666666,
              "#ed7953"
             ],
             [
              0.7777777777777778,
              "#fb9f3a"
             ],
             [
              0.8888888888888888,
              "#fdca26"
             ],
             [
              1,
              "#f0f921"
             ]
            ],
            "type": "heatmap"
           }
          ],
          "heatmapgl": [
           {
            "colorbar": {
             "outlinewidth": 0,
             "ticks": ""
            },
            "colorscale": [
             [
              0,
              "#0d0887"
             ],
             [
              0.1111111111111111,
              "#46039f"
             ],
             [
              0.2222222222222222,
              "#7201a8"
             ],
             [
              0.3333333333333333,
              "#9c179e"
             ],
             [
              0.4444444444444444,
              "#bd3786"
             ],
             [
              0.5555555555555556,
              "#d8576b"
             ],
             [
              0.6666666666666666,
              "#ed7953"
             ],
             [
              0.7777777777777778,
              "#fb9f3a"
             ],
             [
              0.8888888888888888,
              "#fdca26"
             ],
             [
              1,
              "#f0f921"
             ]
            ],
            "type": "heatmapgl"
           }
          ],
          "histogram": [
           {
            "marker": {
             "pattern": {
              "fillmode": "overlay",
              "size": 10,
              "solidity": 0.2
             }
            },
            "type": "histogram"
           }
          ],
          "histogram2d": [
           {
            "colorbar": {
             "outlinewidth": 0,
             "ticks": ""
            },
            "colorscale": [
             [
              0,
              "#0d0887"
             ],
             [
              0.1111111111111111,
              "#46039f"
             ],
             [
              0.2222222222222222,
              "#7201a8"
             ],
             [
              0.3333333333333333,
              "#9c179e"
             ],
             [
              0.4444444444444444,
              "#bd3786"
             ],
             [
              0.5555555555555556,
              "#d8576b"
             ],
             [
              0.6666666666666666,
              "#ed7953"
             ],
             [
              0.7777777777777778,
              "#fb9f3a"
             ],
             [
              0.8888888888888888,
              "#fdca26"
             ],
             [
              1,
              "#f0f921"
             ]
            ],
            "type": "histogram2d"
           }
          ],
          "histogram2dcontour": [
           {
            "colorbar": {
             "outlinewidth": 0,
             "ticks": ""
            },
            "colorscale": [
             [
              0,
              "#0d0887"
             ],
             [
              0.1111111111111111,
              "#46039f"
             ],
             [
              0.2222222222222222,
              "#7201a8"
             ],
             [
              0.3333333333333333,
              "#9c179e"
             ],
             [
              0.4444444444444444,
              "#bd3786"
             ],
             [
              0.5555555555555556,
              "#d8576b"
             ],
             [
              0.6666666666666666,
              "#ed7953"
             ],
             [
              0.7777777777777778,
              "#fb9f3a"
             ],
             [
              0.8888888888888888,
              "#fdca26"
             ],
             [
              1,
              "#f0f921"
             ]
            ],
            "type": "histogram2dcontour"
           }
          ],
          "mesh3d": [
           {
            "colorbar": {
             "outlinewidth": 0,
             "ticks": ""
            },
            "type": "mesh3d"
           }
          ],
          "parcoords": [
           {
            "line": {
             "colorbar": {
              "outlinewidth": 0,
              "ticks": ""
             }
            },
            "type": "parcoords"
           }
          ],
          "pie": [
           {
            "automargin": true,
            "type": "pie"
           }
          ],
          "scatter": [
           {
            "fillpattern": {
             "fillmode": "overlay",
             "size": 10,
             "solidity": 0.2
            },
            "type": "scatter"
           }
          ],
          "scatter3d": [
           {
            "line": {
             "colorbar": {
              "outlinewidth": 0,
              "ticks": ""
             }
            },
            "marker": {
             "colorbar": {
              "outlinewidth": 0,
              "ticks": ""
             }
            },
            "type": "scatter3d"
           }
          ],
          "scattercarpet": [
           {
            "marker": {
             "colorbar": {
              "outlinewidth": 0,
              "ticks": ""
             }
            },
            "type": "scattercarpet"
           }
          ],
          "scattergeo": [
           {
            "marker": {
             "colorbar": {
              "outlinewidth": 0,
              "ticks": ""
             }
            },
            "type": "scattergeo"
           }
          ],
          "scattergl": [
           {
            "marker": {
             "colorbar": {
              "outlinewidth": 0,
              "ticks": ""
             }
            },
            "type": "scattergl"
           }
          ],
          "scattermapbox": [
           {
            "marker": {
             "colorbar": {
              "outlinewidth": 0,
              "ticks": ""
             }
            },
            "type": "scattermapbox"
           }
          ],
          "scatterpolar": [
           {
            "marker": {
             "colorbar": {
              "outlinewidth": 0,
              "ticks": ""
             }
            },
            "type": "scatterpolar"
           }
          ],
          "scatterpolargl": [
           {
            "marker": {
             "colorbar": {
              "outlinewidth": 0,
              "ticks": ""
             }
            },
            "type": "scatterpolargl"
           }
          ],
          "scatterternary": [
           {
            "marker": {
             "colorbar": {
              "outlinewidth": 0,
              "ticks": ""
             }
            },
            "type": "scatterternary"
           }
          ],
          "surface": [
           {
            "colorbar": {
             "outlinewidth": 0,
             "ticks": ""
            },
            "colorscale": [
             [
              0,
              "#0d0887"
             ],
             [
              0.1111111111111111,
              "#46039f"
             ],
             [
              0.2222222222222222,
              "#7201a8"
             ],
             [
              0.3333333333333333,
              "#9c179e"
             ],
             [
              0.4444444444444444,
              "#bd3786"
             ],
             [
              0.5555555555555556,
              "#d8576b"
             ],
             [
              0.6666666666666666,
              "#ed7953"
             ],
             [
              0.7777777777777778,
              "#fb9f3a"
             ],
             [
              0.8888888888888888,
              "#fdca26"
             ],
             [
              1,
              "#f0f921"
             ]
            ],
            "type": "surface"
           }
          ],
          "table": [
           {
            "cells": {
             "fill": {
              "color": "#EBF0F8"
             },
             "line": {
              "color": "white"
             }
            },
            "header": {
             "fill": {
              "color": "#C8D4E3"
             },
             "line": {
              "color": "white"
             }
            },
            "type": "table"
           }
          ]
         },
         "layout": {
          "annotationdefaults": {
           "arrowcolor": "#2a3f5f",
           "arrowhead": 0,
           "arrowwidth": 1
          },
          "autotypenumbers": "strict",
          "coloraxis": {
           "colorbar": {
            "outlinewidth": 0,
            "ticks": ""
           }
          },
          "colorscale": {
           "diverging": [
            [
             0,
             "#8e0152"
            ],
            [
             0.1,
             "#c51b7d"
            ],
            [
             0.2,
             "#de77ae"
            ],
            [
             0.3,
             "#f1b6da"
            ],
            [
             0.4,
             "#fde0ef"
            ],
            [
             0.5,
             "#f7f7f7"
            ],
            [
             0.6,
             "#e6f5d0"
            ],
            [
             0.7,
             "#b8e186"
            ],
            [
             0.8,
             "#7fbc41"
            ],
            [
             0.9,
             "#4d9221"
            ],
            [
             1,
             "#276419"
            ]
           ],
           "sequential": [
            [
             0,
             "#0d0887"
            ],
            [
             0.1111111111111111,
             "#46039f"
            ],
            [
             0.2222222222222222,
             "#7201a8"
            ],
            [
             0.3333333333333333,
             "#9c179e"
            ],
            [
             0.4444444444444444,
             "#bd3786"
            ],
            [
             0.5555555555555556,
             "#d8576b"
            ],
            [
             0.6666666666666666,
             "#ed7953"
            ],
            [
             0.7777777777777778,
             "#fb9f3a"
            ],
            [
             0.8888888888888888,
             "#fdca26"
            ],
            [
             1,
             "#f0f921"
            ]
           ],
           "sequentialminus": [
            [
             0,
             "#0d0887"
            ],
            [
             0.1111111111111111,
             "#46039f"
            ],
            [
             0.2222222222222222,
             "#7201a8"
            ],
            [
             0.3333333333333333,
             "#9c179e"
            ],
            [
             0.4444444444444444,
             "#bd3786"
            ],
            [
             0.5555555555555556,
             "#d8576b"
            ],
            [
             0.6666666666666666,
             "#ed7953"
            ],
            [
             0.7777777777777778,
             "#fb9f3a"
            ],
            [
             0.8888888888888888,
             "#fdca26"
            ],
            [
             1,
             "#f0f921"
            ]
           ]
          },
          "colorway": [
           "#636efa",
           "#EF553B",
           "#00cc96",
           "#ab63fa",
           "#FFA15A",
           "#19d3f3",
           "#FF6692",
           "#B6E880",
           "#FF97FF",
           "#FECB52"
          ],
          "font": {
           "color": "#2a3f5f"
          },
          "geo": {
           "bgcolor": "white",
           "lakecolor": "white",
           "landcolor": "#E5ECF6",
           "showlakes": true,
           "showland": true,
           "subunitcolor": "white"
          },
          "hoverlabel": {
           "align": "left"
          },
          "hovermode": "closest",
          "mapbox": {
           "style": "light"
          },
          "paper_bgcolor": "white",
          "plot_bgcolor": "#E5ECF6",
          "polar": {
           "angularaxis": {
            "gridcolor": "white",
            "linecolor": "white",
            "ticks": ""
           },
           "bgcolor": "#E5ECF6",
           "radialaxis": {
            "gridcolor": "white",
            "linecolor": "white",
            "ticks": ""
           }
          },
          "scene": {
           "xaxis": {
            "backgroundcolor": "#E5ECF6",
            "gridcolor": "white",
            "gridwidth": 2,
            "linecolor": "white",
            "showbackground": true,
            "ticks": "",
            "zerolinecolor": "white"
           },
           "yaxis": {
            "backgroundcolor": "#E5ECF6",
            "gridcolor": "white",
            "gridwidth": 2,
            "linecolor": "white",
            "showbackground": true,
            "ticks": "",
            "zerolinecolor": "white"
           },
           "zaxis": {
            "backgroundcolor": "#E5ECF6",
            "gridcolor": "white",
            "gridwidth": 2,
            "linecolor": "white",
            "showbackground": true,
            "ticks": "",
            "zerolinecolor": "white"
           }
          },
          "shapedefaults": {
           "line": {
            "color": "#2a3f5f"
           }
          },
          "ternary": {
           "aaxis": {
            "gridcolor": "white",
            "linecolor": "white",
            "ticks": ""
           },
           "baxis": {
            "gridcolor": "white",
            "linecolor": "white",
            "ticks": ""
           },
           "bgcolor": "#E5ECF6",
           "caxis": {
            "gridcolor": "white",
            "linecolor": "white",
            "ticks": ""
           }
          },
          "title": {
           "x": 0.05
          },
          "xaxis": {
           "automargin": true,
           "gridcolor": "white",
           "linecolor": "white",
           "ticks": "",
           "title": {
            "standoff": 15
           },
           "zerolinecolor": "white",
           "zerolinewidth": 2
          },
          "yaxis": {
           "automargin": true,
           "gridcolor": "white",
           "linecolor": "white",
           "ticks": "",
           "title": {
            "standoff": 15
           },
           "zerolinecolor": "white",
           "zerolinewidth": 2
          }
         }
        },
        "xaxis": {
         "anchor": "y",
         "autorange": true,
         "domain": [
          0,
          1
         ],
         "range": [
          -0.5,
          2.5
         ],
         "title": {
          "text": "AnnualIncomeClass"
         },
         "type": "category"
        },
        "yaxis": {
         "anchor": "x",
         "autorange": true,
         "domain": [
          0,
          1
         ],
         "range": [
          0,
          430.5263157894737
         ],
         "title": {
          "text": "count"
         }
        }
       }
      },
      "image/png": "[encoded data removed]",
      "text/html": [
       "<div>                            <div id=\"59fbb489-1acb-4b3a-8535-2da7bbcfdf82\" class=\"plotly-graph-div\" style=\"height:525px; width:100%;\"></div>            <script type=\"text/javascript\">                require([\"plotly\"], function(Plotly) {                    window.PLOTLYENV=window.PLOTLYENV || {};                                    if (document.getElementById(\"59fbb489-1acb-4b3a-8535-2da7bbcfdf82\")) {                    Plotly.newPlot(                        \"59fbb489-1acb-4b3a-8535-2da7bbcfdf82\",                        [{\"alignmentgroup\":\"True\",\"bingroup\":\"x\",\"hovertemplate\":\"ServicesOpted=6<br>AnnualIncomeClass=%{x}<br>count=%{y}<extra></extra>\",\"legendgroup\":\"6\",\"marker\":{\"color\":\"#636efa\",\"pattern\":{\"shape\":\"\"}},\"name\":\"6\",\"offsetgroup\":\"6\",\"orientation\":\"v\",\"showlegend\":true,\"x\":[\"Middle Income\",\"Low Income\",\"Middle Income\",\"High Income\",\"Middle Income\",\"Middle Income\",\"Middle Income\",\"High Income\",\"Low Income\",\"Middle Income\",\"Middle Income\",\"High Income\",\"Middle Income\",\"Middle Income\",\"Middle Income\",\"High Income\",\"Middle Income\",\"Middle Income\",\"Middle Income\",\"High Income\",\"Middle Income\",\"Middle Income\",\"Low Income\",\"High Income\",\"Middle Income\",\"Middle Income\",\"Middle Income\",\"High Income\",\"Middle Income\",\"Low Income\",\"Middle Income\",\"High Income\",\"Middle Income\",\"Middle Income\",\"Middle Income\",\"High Income\",\"Low Income\",\"Middle Income\",\"Middle Income\",\"High Income\",\"Middle Income\",\"Middle Income\",\"Middle Income\",\"High Income\",\"Middle Income\",\"Middle Income\",\"Middle Income\",\"High Income\",\"Middle Income\",\"Middle Income\",\"Low Income\",\"High Income\",\"Middle Income\",\"Middle Income\",\"Middle Income\",\"High Income\",\"Middle Income\",\"Low Income\",\"Middle Income\",\"High Income\",\"Middle Income\",\"Middle Income\",\"Middle Income\",\"High Income\"],\"xaxis\":\"x\",\"yaxis\":\"y\",\"type\":\"histogram\"},{\"alignmentgroup\":\"True\",\"bingroup\":\"x\",\"hovertemplate\":\"ServicesOpted=5<br>AnnualIncomeClass=%{x}<br>count=%{y}<extra></extra>\",\"legendgroup\":\"5\",\"marker\":{\"color\":\"#EF553B\",\"pattern\":{\"shape\":\"\"}},\"name\":\"5\",\"offsetgroup\":\"5\",\"orientation\":\"v\",\"showlegend\":true,\"x\":[\"Low Income\",\"Middle Income\",\"Middle Income\",\"Low Income\",\"High Income\",\"Middle Income\",\"Low Income\",\"Low Income\",\"Low Income\",\"Middle Income\",\"Middle Income\",\"Low Income\",\"Middle Income\",\"Low Income\",\"Low Income\",\"High Income\",\"Middle Income\",\"Low Income\",\"Middle Income\",\"High Income\",\"Low Income\",\"Middle Income\",\"Low Income\",\"Middle Income\",\"Middle Income\",\"Low Income\",\"High Income\",\"Middle Income\",\"Low Income\",\"Middle Income\",\"High Income\",\"Low Income\",\"Middle Income\",\"Low Income\",\"Low Income\",\"Middle Income\",\"Low Income\",\"High Income\",\"Middle Income\",\"Low Income\",\"Middle Income\",\"High Income\",\"Low Income\",\"Middle Income\",\"Middle Income\",\"Low Income\",\"Low Income\",\"Middle Income\",\"Low Income\",\"High Income\",\"Low Income\",\"Middle Income\",\"High Income\",\"Low Income\",\"Middle Income\",\"Middle Income\",\"Low Income\",\"Middle Income\",\"Middle Income\",\"Low Income\",\"High Income\",\"Middle Income\",\"Low Income\",\"Middle Income\",\"Low Income\",\"Low Income\",\"Middle Income\",\"Low Income\",\"Middle Income\"],\"xaxis\":\"x\",\"yaxis\":\"y\",\"type\":\"histogram\"},{\"alignmentgroup\":\"True\",\"bingroup\":\"x\",\"hovertemplate\":\"ServicesOpted=3<br>AnnualIncomeClass=%{x}<br>count=%{y}<extra></extra>\",\"legendgroup\":\"3\",\"marker\":{\"color\":\"#00cc96\",\"pattern\":{\"shape\":\"\"}},\"name\":\"3\",\"offsetgroup\":\"3\",\"orientation\":\"v\",\"showlegend\":true,\"x\":[\"Middle Income\",\"Low Income\",\"Middle Income\",\"Middle Income\",\"Middle Income\",\"Middle Income\",\"Low Income\",\"Middle Income\",\"Middle Income\",\"Middle Income\",\"Middle Income\",\"Middle Income\",\"Middle Income\",\"Middle Income\",\"Middle Income\",\"Middle Income\",\"Middle Income\",\"Low Income\",\"Middle Income\",\"Middle Income\",\"Middle Income\",\"Middle Income\",\"Low Income\",\"Middle Income\",\"Middle Income\",\"Middle Income\",\"Middle Income\",\"Middle Income\",\"Low Income\",\"Middle Income\",\"Middle Income\",\"Middle Income\",\"Middle Income\",\"Low Income\",\"Middle Income\",\"Middle Income\",\"Middle Income\",\"Middle Income\",\"Middle Income\",\"Low Income\",\"Middle Income\",\"Middle Income\",\"Middle Income\",\"Middle Income\",\"Low Income\",\"Middle Income\",\"Middle Income\",\"Middle Income\",\"Middle Income\",\"Middle Income\",\"Low Income\",\"Middle Income\",\"Middle Income\",\"Middle Income\",\"Middle Income\",\"Low Income\",\"Middle Income\",\"Middle Income\",\"Middle Income\",\"Middle Income\",\"Middle Income\",\"Low Income\",\"Middle Income\",\"Middle Income\",\"Middle Income\",\"Middle Income\",\"Middle Income\",\"Low Income\",\"Middle Income\",\"Middle Income\",\"Middle Income\",\"Middle Income\",\"Middle Income\",\"Low Income\",\"Middle Income\",\"Middle Income\",\"Middle Income\",\"Middle Income\",\"Low Income\",\"Middle Income\",\"Middle Income\",\"Middle Income\",\"Middle Income\",\"Middle Income\",\"Middle Income\",\"Middle Income\",\"Middle Income\",\"Middle Income\",\"Middle Income\",\"Low Income\",\"Middle Income\",\"Middle Income\",\"Middle Income\",\"Middle Income\",\"Low Income\",\"Middle Income\",\"Middle Income\",\"Middle Income\",\"Middle Income\",\"Middle Income\",\"Low Income\",\"Middle Income\",\"Middle Income\",\"Middle Income\",\"Middle Income\",\"Low Income\",\"Middle Income\",\"Middle Income\",\"Middle Income\",\"Middle Income\",\"Middle Income\",\"Low Income\",\"Middle Income\",\"Middle Income\",\"Middle Income\",\"Middle Income\",\"Low Income\",\"Middle Income\",\"Middle Income\",\"Middle Income\",\"Middle Income\",\"Middle Income\",\"Low Income\",\"Middle Income\"],\"xaxis\":\"x\",\"yaxis\":\"y\",\"type\":\"histogram\"},{\"alignmentgroup\":\"True\",\"bingroup\":\"x\",\"hovertemplate\":\"ServicesOpted=2<br>AnnualIncomeClass=%{x}<br>count=%{y}<extra></extra>\",\"legendgroup\":\"2\",\"marker\":{\"color\":\"#ab63fa\",\"pattern\":{\"shape\":\"\"}},\"name\":\"2\",\"offsetgroup\":\"2\",\"orientation\":\"v\",\"showlegend\":true,\"x\":[\"Middle Income\",\"Low Income\",\"Middle Income\",\"Low Income\",\"Middle Income\",\"Low Income\",\"Middle Income\",\"Middle Income\",\"Low Income\",\"Middle Income\",\"Middle Income\",\"Middle Income\",\"Middle Income\",\"Low Income\",\"Low Income\",\"Middle Income\",\"Low Income\",\"Middle Income\",\"Low Income\",\"Low Income\",\"Middle Income\",\"Low Income\",\"Middle Income\",\"Middle Income\",\"Low Income\",\"Middle Income\",\"Middle Income\",\"Low Income\",\"Low Income\",\"Middle Income\",\"Low Income\",\"Middle Income\",\"Low Income\",\"Middle Income\",\"Low Income\",\"Middle Income\",\"Low Income\",\"Middle Income\",\"Middle Income\",\"Low Income\",\"Middle Income\",\"Middle Income\",\"Middle Income\",\"Middle Income\",\"Low Income\",\"Middle Income\",\"Low Income\",\"Low Income\",\"Middle Income\",\"Low Income\",\"Low Income\",\"Middle Income\",\"Low Income\",\"Middle Income\",\"Low Income\",\"Middle Income\",\"Middle Income\",\"Middle Income\",\"Low Income\",\"Low Income\",\"Middle Income\",\"Low Income\",\"Low Income\",\"Middle Income\",\"Low Income\",\"Low Income\",\"Middle Income\",\"Low Income\",\"Middle Income\",\"Low Income\",\"Middle Income\",\"Middle Income\",\"Middle Income\",\"Middle Income\",\"Low Income\",\"Low Income\",\"Middle Income\",\"Low Income\",\"Middle Income\",\"Low Income\",\"Middle Income\",\"Low Income\",\"Low Income\",\"Middle Income\",\"Middle Income\",\"Low Income\",\"Middle Income\",\"Middle Income\",\"Middle Income\",\"Middle Income\",\"Low Income\",\"Low Income\",\"Low Income\",\"Middle Income\",\"Low Income\",\"Middle Income\",\"Low Income\",\"Low Income\",\"Middle Income\",\"Low Income\",\"Middle Income\",\"Middle Income\",\"Middle Income\",\"Middle Income\",\"Middle Income\",\"Low Income\",\"Low Income\",\"Middle Income\",\"Low Income\",\"Middle Income\",\"Low Income\",\"Low Income\",\"Low Income\",\"Middle Income\",\"Low Income\",\"Middle Income\",\"Middle Income\",\"Low Income\",\"Middle Income\",\"Middle Income\",\"Middle Income\",\"Low Income\",\"Low Income\",\"Middle Income\",\"Low Income\",\"Low Income\",\"Middle Income\",\"Low Income\",\"Low Income\",\"Middle Income\",\"Middle Income\",\"Middle Income\",\"Low Income\",\"Middle Income\",\"Middle Income\",\"Middle Income\",\"Low Income\",\"Low Income\",\"Middle Income\",\"Low Income\",\"Middle Income\",\"Low Income\",\"Middle Income\",\"Low Income\",\"Low Income\",\"Middle Income\",\"Low Income\",\"Middle Income\",\"Low Income\",\"Middle Income\",\"Middle Income\",\"Middle Income\",\"Low Income\",\"Low Income\",\"Middle Income\",\"Low Income\",\"Middle Income\",\"Low Income\",\"Middle Income\",\"Middle Income\",\"Low Income\",\"Middle Income\",\"Middle Income\",\"Low Income\",\"Middle Income\",\"Middle Income\",\"Middle Income\",\"Middle Income\",\"Low Income\",\"Low Income\",\"Middle Income\",\"Low Income\",\"Middle Income\",\"Low Income\",\"Low Income\",\"Middle Income\"],\"xaxis\":\"x\",\"yaxis\":\"y\",\"type\":\"histogram\"},{\"alignmentgroup\":\"True\",\"bingroup\":\"x\",\"hovertemplate\":\"ServicesOpted=1<br>AnnualIncomeClass=%{x}<br>count=%{y}<extra></extra>\",\"legendgroup\":\"1\",\"marker\":{\"color\":\"#FFA15A\",\"pattern\":{\"shape\":\"\"}},\"name\":\"1\",\"offsetgroup\":\"1\",\"orientation\":\"v\",\"showlegend\":true,\"x\":[\"Low Income\",\"High Income\",\"High Income\",\"Low Income\",\"Middle Income\",\"Low Income\",\"High Income\",\"Middle Income\",\"High Income\",\"Low Income\",\"Middle Income\",\"Low Income\",\"Low Income\",\"High Income\",\"High Income\",\"Low Income\",\"Low Income\",\"Middle Income\",\"Low Income\",\"Low Income\",\"Low Income\",\"Middle Income\",\"High Income\",\"Low Income\",\"Low Income\",\"Low Income\",\"High Income\",\"Low Income\",\"Middle Income\",\"Low Income\",\"High Income\",\"Low Income\",\"High Income\",\"Low Income\",\"Middle Income\",\"Low Income\",\"Low Income\",\"High Income\",\"High Income\",\"Low Income\",\"Middle Income\",\"Low Income\",\"High Income\",\"Middle Income\",\"Low Income\",\"Middle Income\",\"Low Income\",\"Low Income\",\"High Income\",\"Middle Income\",\"High Income\",\"Low Income\",\"Low Income\",\"Middle Income\",\"High Income\",\"Low Income\",\"Low Income\",\"Low Income\",\"High Income\",\"Middle Income\",\"High Income\",\"Low Income\",\"Low Income\",\"Low Income\",\"High Income\",\"Low Income\",\"Middle Income\",\"High Income\",\"Low Income\",\"Low Income\",\"Middle Income\",\"Low Income\",\"Low Income\",\"High Income\",\"High Income\",\"Low Income\",\"Low Income\",\"High Income\",\"Middle Income\",\"High Income\",\"Low Income\",\"Middle Income\",\"Low Income\",\"High Income\",\"Middle Income\",\"High Income\",\"Low Income\",\"Low Income\",\"Low Income\",\"High Income\",\"Low Income\",\"Low Income\",\"Low Income\",\"High Income\",\"Low Income\",\"Middle Income\",\"Low Income\",\"Low Income\",\"High Income\",\"Middle Income\",\"Low Income\",\"Low Income\",\"High Income\",\"Low Income\",\"High Income\",\"Low Income\",\"Middle Income\",\"Low Income\",\"Low Income\",\"High Income\",\"Low Income\",\"Middle Income\",\"Low Income\",\"High Income\",\"High Income\",\"Middle Income\",\"Low Income\",\"Low Income\",\"High Income\",\"Middle Income\",\"Low Income\",\"Low Income\",\"Low Income\",\"Middle Income\",\"High Income\",\"Low Income\",\"Low Income\",\"Low Income\",\"High Income\",\"Middle Income\",\"High Income\",\"Low Income\",\"Middle Income\",\"Low Income\",\"High Income\",\"Middle Income\",\"Low Income\",\"Middle Income\",\"Low Income\",\"High Income\",\"High Income\",\"Low Income\",\"Middle Income\",\"Low Income\",\"Low Income\",\"High Income\",\"Low Income\",\"Middle Income\",\"High Income\",\"Middle Income\",\"High Income\",\"Low Income\",\"Low Income\",\"Low Income\",\"Middle Income\",\"High Income\",\"Low Income\",\"Low Income\",\"Low Income\",\"High Income\",\"Low Income\",\"Low Income\",\"Low Income\",\"High Income\",\"High Income\",\"Low Income\",\"Middle Income\",\"Low Income\",\"Low Income\",\"High Income\",\"Middle Income\",\"Low Income\",\"Middle Income\",\"Low Income\",\"High Income\",\"Low Income\",\"Low Income\",\"Low Income\",\"Low Income\",\"High Income\",\"High Income\",\"Middle Income\",\"Low Income\",\"High Income\",\"Middle Income\",\"High Income\",\"Low Income\",\"Middle Income\",\"Low Income\",\"Low Income\",\"High Income\",\"High Income\",\"Low Income\",\"Low Income\",\"Middle Income\",\"Low Income\",\"Low Income\",\"High Income\",\"Middle Income\",\"High Income\",\"Low Income\",\"Low Income\",\"Low Income\",\"High Income\",\"Middle Income\",\"Low Income\",\"Middle Income\",\"Low Income\",\"High Income\",\"Low Income\",\"High Income\",\"Low Income\",\"Middle Income\",\"Low Income\",\"High Income\",\"High Income\",\"Low Income\",\"Middle Income\",\"Low Income\",\"Middle Income\",\"Low Income\",\"Middle Income\",\"Low Income\",\"Low Income\",\"High Income\",\"High Income\",\"Low Income\",\"Low Income\",\"Middle Income\",\"High Income\",\"Low Income\",\"Low Income\",\"Low Income\",\"High Income\",\"Middle Income\",\"High Income\",\"Low Income\",\"Middle Income\",\"Low Income\",\"Low Income\",\"High Income\",\"Low Income\",\"Middle Income\",\"Low Income\",\"High Income\",\"Low Income\",\"Middle Income\",\"Low Income\",\"Low Income\",\"High Income\",\"High Income\",\"Low Income\",\"Low Income\",\"High Income\",\"Middle Income\",\"High Income\",\"Low Income\",\"Low Income\",\"Low Income\",\"High Income\",\"Middle Income\",\"High Income\",\"Low Income\",\"Low Income\",\"High Income\",\"Low Income\",\"Low Income\",\"Low Income\",\"High Income\",\"Middle Income\",\"Low Income\",\"Middle Income\",\"Low Income\",\"Low Income\",\"High Income\",\"Middle Income\",\"Low Income\",\"Low Income\",\"High Income\",\"Low Income\",\"High Income\",\"Low Income\",\"Middle Income\",\"Low Income\",\"Low Income\",\"High Income\",\"Low Income\",\"Middle Income\",\"Low Income\",\"High Income\",\"High Income\",\"Low Income\",\"Middle Income\",\"Low Income\",\"Low Income\",\"High Income\",\"Middle Income\",\"Low Income\",\"Low Income\",\"Low Income\",\"Middle Income\",\"High Income\",\"Low Income\",\"Low Income\",\"Low Income\",\"High Income\",\"Middle Income\",\"Low Income\",\"Middle Income\",\"Low Income\",\"Low Income\",\"High Income\",\"Middle Income\",\"Middle Income\",\"Low Income\",\"High Income\",\"High Income\",\"Low Income\",\"Middle Income\",\"Low Income\",\"Low Income\",\"High Income\",\"Low Income\",\"Low Income\",\"High Income\",\"Middle Income\",\"High Income\",\"Low Income\",\"Low Income\",\"High Income\",\"Middle Income\",\"High Income\",\"Low Income\",\"Low Income\",\"Low Income\",\"Middle Income\",\"High Income\",\"Low Income\",\"Low Income\",\"Low Income\",\"High Income\",\"High Income\",\"Low Income\",\"Middle Income\",\"Low Income\",\"High Income\",\"Middle Income\",\"Low Income\",\"Middle Income\",\"Low Income\",\"Low Income\",\"High Income\",\"Low Income\",\"Low Income\",\"Low Income\",\"High Income\",\"High Income\",\"Low Income\",\"Middle Income\",\"Low Income\",\"High Income\",\"Middle Income\",\"High Income\",\"Low Income\",\"Middle Income\",\"Low Income\",\"Low Income\",\"High Income\",\"High Income\",\"Low Income\",\"Low Income\",\"Low Income\",\"Middle Income\",\"Low Income\",\"Low Income\",\"Low Income\",\"High Income\",\"Middle Income\",\"High Income\",\"Low Income\",\"Low Income\",\"High Income\",\"Middle Income\",\"Low Income\",\"Middle Income\",\"Low Income\",\"High Income\",\"Low Income\",\"High Income\",\"Low Income\",\"Low Income\",\"Low Income\",\"High Income\",\"High Income\",\"Low Income\",\"Middle Income\",\"Low Income\",\"High Income\",\"Middle Income\",\"Low Income\",\"Middle Income\",\"Low Income\",\"Low Income\",\"High Income\"],\"xaxis\":\"x\",\"yaxis\":\"y\",\"type\":\"histogram\"},{\"alignmentgroup\":\"True\",\"bingroup\":\"x\",\"hovertemplate\":\"ServicesOpted=4<br>AnnualIncomeClass=%{x}<br>count=%{y}<extra></extra>\",\"legendgroup\":\"4\",\"marker\":{\"color\":\"#19d3f3\",\"pattern\":{\"shape\":\"\"}},\"name\":\"4\",\"offsetgroup\":\"4\",\"orientation\":\"v\",\"showlegend\":true,\"x\":[\"Middle Income\",\"Low Income\",\"Middle Income\",\"Low Income\",\"High Income\",\"Middle Income\",\"Low Income\",\"Middle Income\",\"High Income\",\"Low Income\",\"Middle Income\",\"Low Income\",\"Middle Income\",\"Middle Income\",\"High Income\",\"Middle Income\",\"Low Income\",\"Middle Income\",\"High Income\",\"Low Income\",\"Middle Income\",\"Middle Income\",\"Low Income\",\"Middle Income\",\"Low Income\",\"Middle Income\",\"Low Income\",\"Middle Income\",\"High Income\",\"Low Income\",\"Middle Income\",\"Middle Income\",\"Low Income\",\"Middle Income\",\"Middle Income\",\"Low Income\",\"High Income\",\"Low Income\",\"Middle Income\",\"High Income\",\"Low Income\",\"Middle Income\",\"Middle Income\",\"Low Income\",\"Middle Income\",\"Middle Income\",\"Low Income\",\"High Income\",\"Middle Income\",\"Middle Income\",\"Low Income\",\"Middle Income\",\"Middle Income\",\"Low Income\",\"Middle Income\",\"Middle Income\",\"Low Income\",\"High Income\",\"Middle Income\",\"Low Income\",\"High Income\",\"Low Income\",\"Middle Income\",\"Low Income\",\"Middle Income\",\"Middle Income\",\"Low Income\",\"High Income\",\"Middle Income\",\"Low Income\",\"Middle Income\",\"Low Income\",\"Middle Income\",\"Middle Income\",\"Low Income\",\"Middle Income\",\"Low Income\",\"High Income\",\"Middle Income\",\"Low Income\",\"Middle Income\",\"High Income\",\"Middle Income\",\"Middle Income\",\"Low Income\",\"Middle Income\",\"Middle Income\",\"Low Income\",\"High Income\",\"Low Income\",\"Middle Income\",\"High Income\",\"Low Income\",\"Middle Income\",\"Low Income\",\"Middle Income\",\"Middle Income\",\"Low Income\",\"High Income\",\"Middle Income\",\"Low Income\",\"Middle Income\",\"Low Income\",\"Middle Income\",\"Low Income\",\"Middle Income\",\"Middle Income\",\"Low Income\",\"High Income\",\"Middle Income\",\"Low Income\",\"Middle Income\",\"High Income\",\"Low Income\",\"Middle Income\",\"Middle Income\",\"Middle Income\"],\"xaxis\":\"x\",\"yaxis\":\"y\",\"type\":\"histogram\"}],                        {\"template\":{\"data\":{\"histogram2dcontour\":[{\"type\":\"histogram2dcontour\",\"colorbar\":{\"outlinewidth\":0,\"ticks\":\"\"},\"colorscale\":[[0.0,\"#0d0887\"],[0.1111111111111111,\"#46039f\"],[0.2222222222222222,\"#7201a8\"],[0.3333333333333333,\"#9c179e\"],[0.4444444444444444,\"#bd3786\"],[0.5555555555555556,\"#d8576b\"],[0.6666666666666666,\"#ed7953\"],[0.7777777777777778,\"#fb9f3a\"],[0.8888888888888888,\"#fdca26\"],[1.0,\"#f0f921\"]]}],\"choropleth\":[{\"type\":\"choropleth\",\"colorbar\":{\"outlinewidth\":0,\"ticks\":\"\"}}],\"histogram2d\":[{\"type\":\"histogram2d\",\"colorbar\":{\"outlinewidth\":0,\"ticks\":\"\"},\"colorscale\":[[0.0,\"#0d0887\"],[0.1111111111111111,\"#46039f\"],[0.2222222222222222,\"#7201a8\"],[0.3333333333333333,\"#9c179e\"],[0.4444444444444444,\"#bd3786\"],[0.5555555555555556,\"#d8576b\"],[0.6666666666666666,\"#ed7953\"],[0.7777777777777778,\"#fb9f3a\"],[0.8888888888888888,\"#fdca26\"],[1.0,\"#f0f921\"]]}],\"heatmap\":[{\"type\":\"heatmap\",\"colorbar\":{\"outlinewidth\":0,\"ticks\":\"\"},\"colorscale\":[[0.0,\"#0d0887\"],[0.1111111111111111,\"#46039f\"],[0.2222222222222222,\"#7201a8\"],[0.3333333333333333,\"#9c179e\"],[0.4444444444444444,\"#bd3786\"],[0.5555555555555556,\"#d8576b\"],[0.6666666666666666,\"#ed7953\"],[0.7777777777777778,\"#fb9f3a\"],[0.8888888888888888,\"#fdca26\"],[1.0,\"#f0f921\"]]}],\"heatmapgl\":[{\"type\":\"heatmapgl\",\"colorbar\":{\"outlinewidth\":0,\"ticks\":\"\"},\"colorscale\":[[0.0,\"#0d0887\"],[0.1111111111111111,\"#46039f\"],[0.2222222222222222,\"#7201a8\"],[0.3333333333333333,\"#9c179e\"],[0.4444444444444444,\"#bd3786\"],[0.5555555555555556,\"#d8576b\"],[0.6666666666666666,\"#ed7953\"],[0.7777777777777778,\"#fb9f3a\"],[0.8888888888888888,\"#fdca26\"],[1.0,\"#f0f921\"]]}],\"contourcarpet\":[{\"type\":\"contourcarpet\",\"colorbar\":{\"outlinewidth\":0,\"ticks\":\"\"}}],\"contour\":[{\"type\":\"contour\",\"colorbar\":{\"outlinewidth\":0,\"ticks\":\"\"},\"colorscale\":[[0.0,\"#0d0887\"],[0.1111111111111111,\"#46039f\"],[0.2222222222222222,\"#7201a8\"],[0.3333333333333333,\"#9c179e\"],[0.4444444444444444,\"#bd3786\"],[0.5555555555555556,\"#d8576b\"],[0.6666666666666666,\"#ed7953\"],[0.7777777777777778,\"#fb9f3a\"],[0.8888888888888888,\"#fdca26\"],[1.0,\"#f0f921\"]]}],\"surface\":[{\"type\":\"surface\",\"colorbar\":{\"outlinewidth\":0,\"ticks\":\"\"},\"colorscale\":[[0.0,\"#0d0887\"],[0.1111111111111111,\"#46039f\"],[0.2222222222222222,\"#7201a8\"],[0.3333333333333333,\"#9c179e\"],[0.4444444444444444,\"#bd3786\"],[0.5555555555555556,\"#d8576b\"],[0.6666666666666666,\"#ed7953\"],[0.7777777777777778,\"#fb9f3a\"],[0.8888888888888888,\"#fdca26\"],[1.0,\"#f0f921\"]]}],\"mesh3d\":[{\"type\":\"mesh3d\",\"colorbar\":{\"outlinewidth\":0,\"ticks\":\"\"}}],\"scatter\":[{\"fillpattern\":{\"fillmode\":\"overlay\",\"size\":10,\"solidity\":0.2},\"type\":\"scatter\"}],\"parcoords\":[{\"type\":\"parcoords\",\"line\":{\"colorbar\":{\"outlinewidth\":0,\"ticks\":\"\"}}}],\"scatterpolargl\":[{\"type\":\"scatterpolargl\",\"marker\":{\"colorbar\":{\"outlinewidth\":0,\"ticks\":\"\"}}}],\"bar\":[{\"error_x\":{\"color\":\"#2a3f5f\"},\"error_y\":{\"color\":\"#2a3f5f\"},\"marker\":{\"line\":{\"color\":\"#E5ECF6\",\"width\":0.5},\"pattern\":{\"fillmode\":\"overlay\",\"size\":10,\"solidity\":0.2}},\"type\":\"bar\"}],\"scattergeo\":[{\"type\":\"scattergeo\",\"marker\":{\"colorbar\":{\"outlinewidth\":0,\"ticks\":\"\"}}}],\"scatterpolar\":[{\"type\":\"scatterpolar\",\"marker\":{\"colorbar\":{\"outlinewidth\":0,\"ticks\":\"\"}}}],\"histogram\":[{\"marker\":{\"pattern\":{\"fillmode\":\"overlay\",\"size\":10,\"solidity\":0.2}},\"type\":\"histogram\"}],\"scattergl\":[{\"type\":\"scattergl\",\"marker\":{\"colorbar\":{\"outlinewidth\":0,\"ticks\":\"\"}}}],\"scatter3d\":[{\"type\":\"scatter3d\",\"line\":{\"colorbar\":{\"outlinewidth\":0,\"ticks\":\"\"}},\"marker\":{\"colorbar\":{\"outlinewidth\":0,\"ticks\":\"\"}}}],\"scattermapbox\":[{\"type\":\"scattermapbox\",\"marker\":{\"colorbar\":{\"outlinewidth\":0,\"ticks\":\"\"}}}],\"scatterternary\":[{\"type\":\"scatterternary\",\"marker\":{\"colorbar\":{\"outlinewidth\":0,\"ticks\":\"\"}}}],\"scattercarpet\":[{\"type\":\"scattercarpet\",\"marker\":{\"colorbar\":{\"outlinewidth\":0,\"ticks\":\"\"}}}],\"carpet\":[{\"aaxis\":{\"endlinecolor\":\"#2a3f5f\",\"gridcolor\":\"white\",\"linecolor\":\"white\",\"minorgridcolor\":\"white\",\"startlinecolor\":\"#2a3f5f\"},\"baxis\":{\"endlinecolor\":\"#2a3f5f\",\"gridcolor\":\"white\",\"linecolor\":\"white\",\"minorgridcolor\":\"white\",\"startlinecolor\":\"#2a3f5f\"},\"type\":\"carpet\"}],\"table\":[{\"cells\":{\"fill\":{\"color\":\"#EBF0F8\"},\"line\":{\"color\":\"white\"}},\"header\":{\"fill\":{\"color\":\"#C8D4E3\"},\"line\":{\"color\":\"white\"}},\"type\":\"table\"}],\"barpolar\":[{\"marker\":{\"line\":{\"color\":\"#E5ECF6\",\"width\":0.5},\"pattern\":{\"fillmode\":\"overlay\",\"size\":10,\"solidity\":0.2}},\"type\":\"barpolar\"}],\"pie\":[{\"automargin\":true,\"type\":\"pie\"}]},\"layout\":{\"autotypenumbers\":\"strict\",\"colorway\":[\"#636efa\",\"#EF553B\",\"#00cc96\",\"#ab63fa\",\"#FFA15A\",\"#19d3f3\",\"#FF6692\",\"#B6E880\",\"#FF97FF\",\"#FECB52\"],\"font\":{\"color\":\"#2a3f5f\"},\"hovermode\":\"closest\",\"hoverlabel\":{\"align\":\"left\"},\"paper_bgcolor\":\"white\",\"plot_bgcolor\":\"#E5ECF6\",\"polar\":{\"bgcolor\":\"#E5ECF6\",\"angularaxis\":{\"gridcolor\":\"white\",\"linecolor\":\"white\",\"ticks\":\"\"},\"radialaxis\":{\"gridcolor\":\"white\",\"linecolor\":\"white\",\"ticks\":\"\"}},\"ternary\":{\"bgcolor\":\"#E5ECF6\",\"aaxis\":{\"gridcolor\":\"white\",\"linecolor\":\"white\",\"ticks\":\"\"},\"baxis\":{\"gridcolor\":\"white\",\"linecolor\":\"white\",\"ticks\":\"\"},\"caxis\":{\"gridcolor\":\"white\",\"linecolor\":\"white\",\"ticks\":\"\"}},\"coloraxis\":{\"colorbar\":{\"outlinewidth\":0,\"ticks\":\"\"}},\"colorscale\":{\"sequential\":[[0.0,\"#0d0887\"],[0.1111111111111111,\"#46039f\"],[0.2222222222222222,\"#7201a8\"],[0.3333333333333333,\"#9c179e\"],[0.4444444444444444,\"#bd3786\"],[0.5555555555555556,\"#d8576b\"],[0.6666666666666666,\"#ed7953\"],[0.7777777777777778,\"#fb9f3a\"],[0.8888888888888888,\"#fdca26\"],[1.0,\"#f0f921\"]],\"sequentialminus\":[[0.0,\"#0d0887\"],[0.1111111111111111,\"#46039f\"],[0.2222222222222222,\"#7201a8\"],[0.3333333333333333,\"#9c179e\"],[0.4444444444444444,\"#bd3786\"],[0.5555555555555556,\"#d8576b\"],[0.6666666666666666,\"#ed7953\"],[0.7777777777777778,\"#fb9f3a\"],[0.8888888888888888,\"#fdca26\"],[1.0,\"#f0f921\"]],\"diverging\":[[0,\"#8e0152\"],[0.1,\"#c51b7d\"],[0.2,\"#de77ae\"],[0.3,\"#f1b6da\"],[0.4,\"#fde0ef\"],[0.5,\"#f7f7f7\"],[0.6,\"#e6f5d0\"],[0.7,\"#b8e186\"],[0.8,\"#7fbc41\"],[0.9,\"#4d9221\"],[1,\"#276419\"]]},\"xaxis\":{\"gridcolor\":\"white\",\"linecolor\":\"white\",\"ticks\":\"\",\"title\":{\"standoff\":15},\"zerolinecolor\":\"white\",\"automargin\":true,\"zerolinewidth\":2},\"yaxis\":{\"gridcolor\":\"white\",\"linecolor\":\"white\",\"ticks\":\"\",\"title\":{\"standoff\":15},\"zerolinecolor\":\"white\",\"automargin\":true,\"zerolinewidth\":2},\"scene\":{\"xaxis\":{\"backgroundcolor\":\"#E5ECF6\",\"gridcolor\":\"white\",\"linecolor\":\"white\",\"showbackground\":true,\"ticks\":\"\",\"zerolinecolor\":\"white\",\"gridwidth\":2},\"yaxis\":{\"backgroundcolor\":\"#E5ECF6\",\"gridcolor\":\"white\",\"linecolor\":\"white\",\"showbackground\":true,\"ticks\":\"\",\"zerolinecolor\":\"white\",\"gridwidth\":2},\"zaxis\":{\"backgroundcolor\":\"#E5ECF6\",\"gridcolor\":\"white\",\"linecolor\":\"white\",\"showbackground\":true,\"ticks\":\"\",\"zerolinecolor\":\"white\",\"gridwidth\":2}},\"shapedefaults\":{\"line\":{\"color\":\"#2a3f5f\"}},\"annotationdefaults\":{\"arrowcolor\":\"#2a3f5f\",\"arrowhead\":0,\"arrowwidth\":1},\"geo\":{\"bgcolor\":\"white\",\"landcolor\":\"#E5ECF6\",\"subunitcolor\":\"white\",\"showland\":true,\"showlakes\":true,\"lakecolor\":\"white\"},\"title\":{\"x\":0.05},\"mapbox\":{\"style\":\"light\"}}},\"xaxis\":{\"anchor\":\"y\",\"domain\":[0.0,1.0],\"title\":{\"text\":\"AnnualIncomeClass\"}},\"yaxis\":{\"anchor\":\"x\",\"domain\":[0.0,1.0],\"title\":{\"text\":\"count\"}},\"legend\":{\"title\":{\"text\":\"ServicesOpted\"},\"tracegroupgap\":0},\"margin\":{\"t\":60},\"barmode\":\"relative\"},                        {\"responsive\": true}                    ).then(function(){\n",
       "                            \n",
       "var gd = document.getElementById('59fbb489-1acb-4b3a-8535-2da7bbcfdf82');\n",
       "var x = new MutationObserver(function (mutations, observer) {{\n",
       "        var display = window.getComputedStyle(gd).display;\n",
       "        if (!display || display === 'none') {{\n",
       "            console.log([gd, 'removed!']);\n",
       "            Plotly.purge(gd);\n",
       "            observer.disconnect();\n",
       "        }}\n",
       "}});\n",
       "\n",
       "// Listen for the removal of the full notebook cells\n",
       "var notebookContainer = gd.closest('#notebook-container');\n",
       "if (notebookContainer) {{\n",
       "    x.observe(notebookContainer, {childList: true});\n",
       "}}\n",
       "\n",
       "// Listen for the clearing of the current output cell\n",
       "var outputEl = gd.closest('.output');\n",
       "if (outputEl) {{\n",
       "    x.observe(outputEl, {childList: true});\n",
       "}}\n",
       "\n",
       "                        })                };                });            </script>        </div>"
      ]
     },
     "metadata": {},
     "output_type": "display_data"
    }
   ],
   "source": [
    "fig = px.histogram(data,x='AnnualIncomeClass',color='ServicesOpted')\n",
    "fig.show()"
   ]
  },
  {
   "cell_type": "code",
   "execution_count": 22,
   "id": "67c077ff-7ce4-4a1b-bff4-b0ef2e626963",
   "metadata": {},
   "outputs": [
    {
     "data": {
      "application/vnd.plotly.v1+json": {
       "config": {
        "plotlyServerURL": "https://plot.ly"
       },
       "data": [
        {
         "alignmentgroup": "True",
         "bingroup": "x",
         "hovertemplate": "BookedHotelOrNot=Yes<br>AnnualIncomeClass=%{x}<br>count=%{y}<extra></extra>",
         "legendgroup": "Yes",
         "marker": {
          "color": "#636efa",
          "pattern": {
           "shape": ""
          }
         },
         "name": "Yes",
         "offsetgroup": "Yes",
         "orientation": "v",
         "showlegend": true,
         "type": "histogram",
         "x": [
          "Middle Income",
          "High Income",
          "Middle Income",
          "Low Income",
          "Low Income",
          "Middle Income",
          "Low Income",
          "Low Income",
          "Middle Income",
          "Middle Income",
          "Middle Income",
          "Low Income",
          "Middle Income",
          "Middle Income",
          "Low Income",
          "Low Income",
          "Middle Income",
          "High Income",
          "Middle Income",
          "Low Income",
          "Middle Income",
          "Low Income",
          "Middle Income",
          "Middle Income",
          "Low Income",
          "High Income",
          "Middle Income",
          "Low Income",
          "Middle Income",
          "Middle Income",
          "Low Income",
          "Middle Income",
          "Middle Income",
          "Low Income",
          "Low Income",
          "Middle Income",
          "Middle Income",
          "Middle Income",
          "Low Income",
          "Middle Income",
          "Middle Income",
          "High Income",
          "Middle Income",
          "Middle Income",
          "Low Income",
          "Middle Income",
          "Low Income",
          "Low Income",
          "High Income",
          "Middle Income",
          "Middle Income",
          "Low Income",
          "Middle Income",
          "Middle Income",
          "Low Income",
          "Middle Income",
          "Middle Income",
          "Middle Income",
          "Low Income",
          "Middle Income",
          "Middle Income",
          "Low Income",
          "Middle Income",
          "Low Income",
          "Low Income",
          "High Income",
          "Middle Income",
          "Middle Income",
          "Middle Income",
          "Low Income",
          "Low Income",
          "Middle Income",
          "High Income",
          "Middle Income",
          "Low Income",
          "Middle Income",
          "Middle Income",
          "Middle Income",
          "Middle Income",
          "Low Income",
          "Low Income",
          "Low Income",
          "Middle Income",
          "Middle Income",
          "Middle Income",
          "Low Income",
          "Middle Income",
          "Middle Income",
          "High Income",
          "Middle Income",
          "Middle Income",
          "Low Income",
          "Middle Income",
          "Low Income",
          "Middle Income",
          "High Income",
          "Low Income",
          "Middle Income",
          "Low Income",
          "Middle Income",
          "Middle Income",
          "Low Income",
          "Middle Income",
          "Low Income",
          "Middle Income",
          "Low Income",
          "Middle Income",
          "Middle Income",
          "Middle Income",
          "Middle Income",
          "Low Income",
          "Middle Income",
          "High Income",
          "Low Income",
          "Middle Income",
          "Middle Income",
          "Low Income",
          "Middle Income",
          "Middle Income",
          "Low Income",
          "High Income",
          "Middle Income",
          "Low Income",
          "Middle Income",
          "Middle Income",
          "Middle Income",
          "Middle Income",
          "Middle Income",
          "Low Income",
          "Low Income",
          "Low Income",
          "Middle Income",
          "Middle Income",
          "Low Income",
          "Middle Income",
          "Low Income",
          "High Income",
          "Middle Income",
          "Middle Income",
          "Low Income",
          "Middle Income",
          "Low Income",
          "Middle Income",
          "High Income",
          "Middle Income",
          "Middle Income",
          "Low Income",
          "Low Income",
          "Middle Income",
          "Low Income",
          "Middle Income",
          "Middle Income",
          "Middle Income",
          "Low Income",
          "Middle Income",
          "Middle Income",
          "Middle Income",
          "Middle Income",
          "Low Income",
          "Middle Income",
          "High Income",
          "Middle Income",
          "Middle Income",
          "Low Income",
          "Low Income",
          "Middle Income",
          "Middle Income",
          "Low Income",
          "High Income",
          "Middle Income",
          "Low Income",
          "Middle Income",
          "Low Income",
          "Middle Income",
          "Middle Income",
          "Middle Income",
          "Low Income",
          "Low Income",
          "Middle Income",
          "Middle Income",
          "Low Income",
          "Low Income",
          "Middle Income",
          "Middle Income",
          "High Income",
          "Middle Income",
          "Low Income",
          "Low Income",
          "Middle Income",
          "Low Income",
          "Middle Income",
          "High Income",
          "Middle Income",
          "Middle Income",
          "Low Income",
          "Middle Income",
          "Middle Income",
          "Low Income",
          "Low Income",
          "Middle Income",
          "Middle Income",
          "Low Income",
          "Middle Income",
          "Low Income",
          "Middle Income",
          "Middle Income",
          "Low Income",
          "Middle Income",
          "High Income",
          "Middle Income",
          "Middle Income",
          "Middle Income",
          "Low Income",
          "Middle Income",
          "Low Income",
          "Low Income",
          "High Income",
          "Middle Income",
          "Low Income",
          "Middle Income",
          "Middle Income",
          "Middle Income",
          "Middle Income",
          "Middle Income",
          "Low Income",
          "Low Income",
          "Middle Income",
          "Low Income",
          "Middle Income",
          "Low Income",
          "Low Income",
          "Middle Income",
          "High Income",
          "Middle Income",
          "Middle Income",
          "Middle Income",
          "Low Income",
          "Middle Income",
          "High Income",
          "Middle Income",
          "Middle Income",
          "Low Income",
          "Middle Income",
          "Middle Income",
          "Low Income",
          "Middle Income",
          "Middle Income",
          "Low Income",
          "Low Income",
          "Middle Income",
          "Middle Income",
          "Middle Income",
          "Middle Income",
          "Low Income",
          "Middle Income",
          "High Income",
          "Middle Income",
          "Middle Income",
          "Middle Income",
          "Low Income",
          "Middle Income",
          "Middle Income",
          "Low Income",
          "High Income",
          "Low Income",
          "Low Income",
          "Middle Income",
          "Middle Income",
          "Middle Income",
          "Low Income",
          "Middle Income",
          "Low Income",
          "Low Income",
          "Middle Income",
          "Middle Income",
          "Middle Income",
          "Low Income",
          "Middle Income",
          "Middle Income",
          "High Income",
          "Low Income",
          "Middle Income",
          "Low Income",
          "Middle Income",
          "Low Income",
          "Middle Income",
          "High Income",
          "Middle Income",
          "Middle Income",
          "Low Income",
          "Middle Income",
          "Middle Income",
          "Low Income",
          "Middle Income",
          "Middle Income",
          "Middle Income",
          "Low Income",
          "Low Income",
          "Middle Income",
          "Middle Income",
          "Middle Income",
          "Low Income",
          "Middle Income",
          "High Income",
          "Middle Income",
          "Middle Income",
          "Middle Income",
          "Low Income",
          "Middle Income",
          "Low Income",
          "High Income",
          "Middle Income",
          "Low Income",
          "Low Income",
          "Middle Income",
          "Middle Income",
          "Middle Income",
          "Middle Income",
          "Low Income",
          "Low Income",
          "Middle Income",
          "Middle Income",
          "Middle Income",
          "Low Income",
          "Middle Income",
          "Middle Income",
          "High Income",
          "Middle Income",
          "Middle Income",
          "Low Income",
          "Low Income",
          "Low Income",
          "Middle Income",
          "High Income",
          "Middle Income",
          "Low Income",
          "Low Income",
          "Middle Income",
          "Low Income",
          "Low Income",
          "Middle Income",
          "Middle Income",
          "Middle Income",
          "Low Income",
          "Middle Income",
          "Middle Income",
          "Middle Income",
          "Low Income",
          "Low Income",
          "Middle Income",
          "High Income",
          "Middle Income",
          "Low Income",
          "Middle Income",
          "Low Income",
          "Middle Income",
          "Middle Income",
          "Low Income",
          "High Income",
          "Middle Income",
          "Low Income",
          "Middle Income",
          "Middle Income",
          "Low Income",
          "Middle Income",
          "Middle Income",
          "Low Income",
          "Low Income",
          "Middle Income",
          "Middle Income",
          "Middle Income",
          "Low Income",
          "Middle Income",
          "Middle Income",
          "High Income",
          "Middle Income",
          "Middle Income",
          "Low Income"
         ],
         "xaxis": "x",
         "yaxis": "y"
        },
        {
         "alignmentgroup": "True",
         "bingroup": "x",
         "hovertemplate": "BookedHotelOrNot=No<br>AnnualIncomeClass=%{x}<br>count=%{y}<extra></extra>",
         "legendgroup": "No",
         "marker": {
          "color": "#EF553B",
          "pattern": {
           "shape": ""
          }
         },
         "name": "No",
         "offsetgroup": "No",
         "orientation": "v",
         "showlegend": true,
         "type": "histogram",
         "x": [
          "Low Income",
          "Middle Income",
          "Middle Income",
          "Low Income",
          "Low Income",
          "High Income",
          "Middle Income",
          "Low Income",
          "Middle Income",
          "High Income",
          "Low Income",
          "High Income",
          "Low Income",
          "Middle Income",
          "Middle Income",
          "Middle Income",
          "Low Income",
          "High Income",
          "Low Income",
          "Middle Income",
          "High Income",
          "Low Income",
          "Low Income",
          "Middle Income",
          "Middle Income",
          "High Income",
          "Low Income",
          "Middle Income",
          "Low Income",
          "Middle Income",
          "Low Income",
          "Middle Income",
          "Low Income",
          "High Income",
          "High Income",
          "Low Income",
          "Middle Income",
          "Low Income",
          "Middle Income",
          "Middle Income",
          "Low Income",
          "Middle Income",
          "High Income",
          "Low Income",
          "Low Income",
          "Middle Income",
          "Low Income",
          "High Income",
          "Low Income",
          "High Income",
          "Low Income",
          "Middle Income",
          "Middle Income",
          "Middle Income",
          "High Income",
          "Low Income",
          "Low Income",
          "High Income",
          "Low Income",
          "Low Income",
          "Middle Income",
          "Low Income",
          "High Income",
          "Low Income",
          "Low Income",
          "Middle Income",
          "Low Income",
          "Middle Income",
          "High Income",
          "Middle Income",
          "High Income",
          "Low Income",
          "Middle Income",
          "Low Income",
          "Middle Income",
          "Middle Income",
          "Low Income",
          "Low Income",
          "High Income",
          "Middle Income",
          "Low Income",
          "Low Income",
          "High Income",
          "Low Income",
          "High Income",
          "Low Income",
          "Middle Income",
          "Middle Income",
          "Middle Income",
          "Low Income",
          "High Income",
          "Low Income",
          "High Income",
          "Low Income",
          "Low Income",
          "Middle Income",
          "Middle Income",
          "High Income",
          "Low Income",
          "Middle Income",
          "Low Income",
          "Middle Income",
          "Low Income",
          "Middle Income",
          "Low Income",
          "High Income",
          "High Income",
          "Low Income",
          "Middle Income",
          "Low Income",
          "Middle Income",
          "Low Income",
          "Low Income",
          "Low Income",
          "Middle Income",
          "High Income",
          "Middle Income",
          "Low Income",
          "Middle Income",
          "Low Income",
          "High Income",
          "Low Income",
          "High Income",
          "Low Income",
          "Middle Income",
          "Middle Income",
          "Middle Income",
          "High Income",
          "Low Income",
          "Middle Income",
          "High Income",
          "Low Income",
          "Low Income",
          "Low Income",
          "Middle Income",
          "High Income",
          "Low Income",
          "Low Income",
          "Middle Income",
          "Low Income",
          "Middle Income",
          "High Income",
          "Middle Income",
          "High Income",
          "Low Income",
          "Low Income",
          "Low Income",
          "Middle Income",
          "Middle Income",
          "Low Income",
          "Low Income",
          "High Income",
          "Middle Income",
          "Low Income",
          "Middle Income",
          "High Income",
          "Low Income",
          "High Income",
          "Low Income",
          "Middle Income",
          "Middle Income",
          "Low Income",
          "Low Income",
          "High Income",
          "Low Income",
          "High Income",
          "Low Income",
          "Low Income",
          "Middle Income",
          "Middle Income",
          "High Income",
          "Low Income",
          "Middle Income",
          "Low Income",
          "Middle Income",
          "Low Income",
          "Middle Income",
          "Low Income",
          "High Income",
          "High Income",
          "Low Income",
          "Middle Income",
          "Low Income",
          "Low Income",
          "Middle Income",
          "Low Income",
          "Middle Income",
          "High Income",
          "Middle Income",
          "Low Income",
          "Middle Income",
          "Low Income",
          "High Income",
          "Low Income",
          "High Income",
          "Low Income",
          "Low Income",
          "Middle Income",
          "Middle Income",
          "High Income",
          "Low Income",
          "Middle Income",
          "High Income",
          "Low Income",
          "Low Income",
          "Middle Income",
          "Middle Income",
          "High Income",
          "Low Income",
          "Low Income",
          "Middle Income",
          "Low Income",
          "Low Income",
          "High Income",
          "Middle Income",
          "High Income",
          "Low Income",
          "Middle Income",
          "Low Income",
          "Middle Income",
          "Middle Income",
          "Low Income",
          "Low Income",
          "High Income",
          "Middle Income",
          "Low Income",
          "Middle Income",
          "High Income",
          "Low Income",
          "High Income",
          "Low Income",
          "Middle Income",
          "Low Income",
          "Middle Income",
          "Low Income",
          "High Income",
          "Low Income",
          "High Income",
          "Low Income",
          "Low Income",
          "Middle Income",
          "Middle Income",
          "High Income",
          "Low Income",
          "Middle Income",
          "Low Income",
          "Low Income",
          "Low Income",
          "Middle Income",
          "Low Income",
          "High Income",
          "High Income",
          "Low Income",
          "Middle Income",
          "Low Income",
          "Middle Income",
          "Middle Income",
          "Low Income",
          "Low Income",
          "High Income",
          "Middle Income",
          "Low Income",
          "Middle Income",
          "Low Income",
          "High Income",
          "Low Income",
          "High Income",
          "Low Income",
          "Middle Income",
          "Middle Income",
          "Middle Income",
          "High Income",
          "Low Income",
          "Middle Income",
          "High Income",
          "Low Income",
          "Low Income",
          "Middle Income",
          "Middle Income",
          "High Income",
          "Low Income",
          "Low Income",
          "Middle Income",
          "Low Income",
          "Middle Income",
          "High Income",
          "Middle Income",
          "High Income",
          "Low Income",
          "Middle Income",
          "Low Income",
          "Middle Income",
          "Middle Income",
          "Low Income",
          "Low Income",
          "High Income",
          "Low Income",
          "Low Income",
          "Middle Income",
          "High Income",
          "Low Income",
          "High Income",
          "Low Income",
          "Middle Income",
          "Middle Income",
          "Middle Income",
          "Low Income",
          "High Income",
          "Low Income",
          "High Income",
          "Low Income",
          "Low Income",
          "Middle Income",
          "Low Income",
          "High Income",
          "Low Income",
          "Middle Income",
          "Low Income",
          "Middle Income",
          "Low Income",
          "Middle Income",
          "Low Income",
          "High Income",
          "High Income",
          "Low Income",
          "Middle Income",
          "Low Income",
          "Middle Income",
          "Middle Income",
          "Low Income",
          "Middle Income",
          "High Income",
          "Middle Income",
          "Low Income",
          "Low Income",
          "Low Income",
          "High Income",
          "Low Income",
          "High Income",
          "Low Income",
          "Middle Income",
          "Middle Income",
          "Middle Income",
          "High Income",
          "Low Income",
          "Middle Income",
          "High Income",
          "Low Income",
          "Low Income",
          "Middle Income",
          "Middle Income",
          "High Income",
          "Low Income",
          "Low Income",
          "Middle Income",
          "Low Income",
          "Middle Income",
          "Low Income",
          "High Income",
          "Low Income",
          "High Income",
          "Low Income",
          "Middle Income",
          "Low Income",
          "Middle Income",
          "Low Income",
          "Low Income",
          "Low Income",
          "High Income",
          "Middle Income",
          "Low Income",
          "Middle Income",
          "High Income",
          "Low Income",
          "High Income",
          "Low Income",
          "Middle Income",
          "Middle Income",
          "Middle Income",
          "Low Income",
          "High Income",
          "Low Income",
          "High Income",
          "Low Income",
          "Low Income",
          "Low Income",
          "Middle Income",
          "High Income",
          "Low Income",
          "Middle Income",
          "Low Income",
          "Middle Income",
          "Low Income",
          "Middle Income",
          "Low Income",
          "High Income",
          "High Income",
          "Low Income",
          "Low Income",
          "Low Income",
          "Middle Income",
          "Middle Income",
          "Low Income",
          "Middle Income",
          "High Income",
          "Middle Income",
          "Low Income",
          "Middle Income",
          "Low Income",
          "High Income",
          "Low Income",
          "High Income",
          "Low Income",
          "Middle Income",
          "Middle Income",
          "Low Income",
          "High Income",
          "Low Income",
          "Middle Income",
          "High Income",
          "Low Income",
          "Low Income",
          "Middle Income",
          "Middle Income",
          "High Income",
          "Low Income",
          "Low Income",
          "Middle Income",
          "Low Income",
          "Middle Income",
          "High Income",
          "Middle Income",
          "High Income",
          "Low Income",
          "Middle Income",
          "Low Income",
          "Low Income",
          "Middle Income",
          "Low Income",
          "Low Income",
          "High Income",
          "Middle Income",
          "Low Income",
          "Middle Income",
          "High Income",
          "Low Income",
          "High Income",
          "Low Income",
          "Low Income",
          "Middle Income",
          "Middle Income",
          "Low Income",
          "High Income",
          "Low Income",
          "High Income",
          "Low Income",
          "Low Income",
          "Middle Income",
          "Middle Income",
          "High Income",
          "Low Income",
          "Low Income",
          "Low Income",
          "Middle Income",
          "Low Income",
          "Low Income",
          "Low Income",
          "High Income",
          "Middle Income",
          "High Income",
          "Low Income",
          "Middle Income",
          "Low Income",
          "Middle Income",
          "Middle Income",
          "Low Income",
          "Middle Income",
          "High Income",
          "Middle Income",
          "Low Income",
          "Middle Income",
          "Low Income",
          "High Income",
          "Low Income",
          "High Income",
          "Low Income",
          "Middle Income",
          "Low Income",
          "Middle Income",
          "High Income",
          "Low Income",
          "Middle Income",
          "High Income",
          "Low Income",
          "Low Income",
          "Middle Income",
          "Middle Income",
          "High Income",
          "Low Income",
          "Low Income",
          "Low Income",
          "Low Income",
          "Middle Income",
          "High Income",
          "Middle Income",
          "High Income",
          "Low Income",
          "Middle Income",
          "Low Income",
          "Middle Income",
          "Middle Income",
          "Low Income",
          "Low Income",
          "High Income",
          "Middle Income",
          "Low Income",
          "Middle Income",
          "High Income",
          "Low Income",
          "High Income",
          "Low Income",
          "Middle Income",
          "Middle Income",
          "Middle Income",
          "Low Income",
          "High Income",
          "Low Income",
          "High Income",
          "Low Income",
          "Low Income",
          "Middle Income",
          "Middle Income",
          "High Income",
          "Low Income",
          "Middle Income",
          "Low Income",
          "Middle Income",
          "Low Income",
          "Middle Income",
          "Low Income",
          "High Income",
          "High Income",
          "Low Income",
          "Middle Income",
          "Low Income",
          "Middle Income",
          "Middle Income",
          "Low Income",
          "Middle Income",
          "High Income",
          "Low Income",
          "Low Income",
          "Middle Income",
          "Low Income",
          "High Income",
          "Low Income",
          "High Income",
          "Low Income",
          "Middle Income",
          "Middle Income",
          "Middle Income",
          "High Income",
          "Low Income",
          "Low Income",
          "High Income",
          "Low Income",
          "Low Income",
          "Middle Income",
          "Low Income",
          "High Income",
          "Low Income",
          "Low Income",
          "Middle Income",
          "Low Income",
          "Middle Income",
          "High Income"
         ],
         "xaxis": "x",
         "yaxis": "y"
        }
       ],
       "layout": {
        "autosize": true,
        "barmode": "relative",
        "legend": {
         "title": {
          "text": "BookedHotelOrNot"
         },
         "tracegroupgap": 0
        },
        "margin": {
         "t": 60
        },
        "template": {
         "data": {
          "bar": [
           {
            "error_x": {
             "color": "#2a3f5f"
            },
            "error_y": {
             "color": "#2a3f5f"
            },
            "marker": {
             "line": {
              "color": "#E5ECF6",
              "width": 0.5
             },
             "pattern": {
              "fillmode": "overlay",
              "size": 10,
              "solidity": 0.2
             }
            },
            "type": "bar"
           }
          ],
          "barpolar": [
           {
            "marker": {
             "line": {
              "color": "#E5ECF6",
              "width": 0.5
             },
             "pattern": {
              "fillmode": "overlay",
              "size": 10,
              "solidity": 0.2
             }
            },
            "type": "barpolar"
           }
          ],
          "carpet": [
           {
            "aaxis": {
             "endlinecolor": "#2a3f5f",
             "gridcolor": "white",
             "linecolor": "white",
             "minorgridcolor": "white",
             "startlinecolor": "#2a3f5f"
            },
            "baxis": {
             "endlinecolor": "#2a3f5f",
             "gridcolor": "white",
             "linecolor": "white",
             "minorgridcolor": "white",
             "startlinecolor": "#2a3f5f"
            },
            "type": "carpet"
           }
          ],
          "choropleth": [
           {
            "colorbar": {
             "outlinewidth": 0,
             "ticks": ""
            },
            "type": "choropleth"
           }
          ],
          "contour": [
           {
            "colorbar": {
             "outlinewidth": 0,
             "ticks": ""
            },
            "colorscale": [
             [
              0,
              "#0d0887"
             ],
             [
              0.1111111111111111,
              "#46039f"
             ],
             [
              0.2222222222222222,
              "#7201a8"
             ],
             [
              0.3333333333333333,
              "#9c179e"
             ],
             [
              0.4444444444444444,
              "#bd3786"
             ],
             [
              0.5555555555555556,
              "#d8576b"
             ],
             [
              0.6666666666666666,
              "#ed7953"
             ],
             [
              0.7777777777777778,
              "#fb9f3a"
             ],
             [
              0.8888888888888888,
              "#fdca26"
             ],
             [
              1,
              "#f0f921"
             ]
            ],
            "type": "contour"
           }
          ],
          "contourcarpet": [
           {
            "colorbar": {
             "outlinewidth": 0,
             "ticks": ""
            },
            "type": "contourcarpet"
           }
          ],
          "heatmap": [
           {
            "colorbar": {
             "outlinewidth": 0,
             "ticks": ""
            },
            "colorscale": [
             [
              0,
              "#0d0887"
             ],
             [
              0.1111111111111111,
              "#46039f"
             ],
             [
              0.2222222222222222,
              "#7201a8"
             ],
             [
              0.3333333333333333,
              "#9c179e"
             ],
             [
              0.4444444444444444,
              "#bd3786"
             ],
             [
              0.5555555555555556,
              "#d8576b"
             ],
             [
              0.6666666666666666,
              "#ed7953"
             ],
             [
              0.7777777777777778,
              "#fb9f3a"
             ],
             [
              0.8888888888888888,
              "#fdca26"
             ],
             [
              1,
              "#f0f921"
             ]
            ],
            "type": "heatmap"
           }
          ],
          "heatmapgl": [
           {
            "colorbar": {
             "outlinewidth": 0,
             "ticks": ""
            },
            "colorscale": [
             [
              0,
              "#0d0887"
             ],
             [
              0.1111111111111111,
              "#46039f"
             ],
             [
              0.2222222222222222,
              "#7201a8"
             ],
             [
              0.3333333333333333,
              "#9c179e"
             ],
             [
              0.4444444444444444,
              "#bd3786"
             ],
             [
              0.5555555555555556,
              "#d8576b"
             ],
             [
              0.6666666666666666,
              "#ed7953"
             ],
             [
              0.7777777777777778,
              "#fb9f3a"
             ],
             [
              0.8888888888888888,
              "#fdca26"
             ],
             [
              1,
              "#f0f921"
             ]
            ],
            "type": "heatmapgl"
           }
          ],
          "histogram": [
           {
            "marker": {
             "pattern": {
              "fillmode": "overlay",
              "size": 10,
              "solidity": 0.2
             }
            },
            "type": "histogram"
           }
          ],
          "histogram2d": [
           {
            "colorbar": {
             "outlinewidth": 0,
             "ticks": ""
            },
            "colorscale": [
             [
              0,
              "#0d0887"
             ],
             [
              0.1111111111111111,
              "#46039f"
             ],
             [
              0.2222222222222222,
              "#7201a8"
             ],
             [
              0.3333333333333333,
              "#9c179e"
             ],
             [
              0.4444444444444444,
              "#bd3786"
             ],
             [
              0.5555555555555556,
              "#d8576b"
             ],
             [
              0.6666666666666666,
              "#ed7953"
             ],
             [
              0.7777777777777778,
              "#fb9f3a"
             ],
             [
              0.8888888888888888,
              "#fdca26"
             ],
             [
              1,
              "#f0f921"
             ]
            ],
            "type": "histogram2d"
           }
          ],
          "histogram2dcontour": [
           {
            "colorbar": {
             "outlinewidth": 0,
             "ticks": ""
            },
            "colorscale": [
             [
              0,
              "#0d0887"
             ],
             [
              0.1111111111111111,
              "#46039f"
             ],
             [
              0.2222222222222222,
              "#7201a8"
             ],
             [
              0.3333333333333333,
              "#9c179e"
             ],
             [
              0.4444444444444444,
              "#bd3786"
             ],
             [
              0.5555555555555556,
              "#d8576b"
             ],
             [
              0.6666666666666666,
              "#ed7953"
             ],
             [
              0.7777777777777778,
              "#fb9f3a"
             ],
             [
              0.8888888888888888,
              "#fdca26"
             ],
             [
              1,
              "#f0f921"
             ]
            ],
            "type": "histogram2dcontour"
           }
          ],
          "mesh3d": [
           {
            "colorbar": {
             "outlinewidth": 0,
             "ticks": ""
            },
            "type": "mesh3d"
           }
          ],
          "parcoords": [
           {
            "line": {
             "colorbar": {
              "outlinewidth": 0,
              "ticks": ""
             }
            },
            "type": "parcoords"
           }
          ],
          "pie": [
           {
            "automargin": true,
            "type": "pie"
           }
          ],
          "scatter": [
           {
            "fillpattern": {
             "fillmode": "overlay",
             "size": 10,
             "solidity": 0.2
            },
            "type": "scatter"
           }
          ],
          "scatter3d": [
           {
            "line": {
             "colorbar": {
              "outlinewidth": 0,
              "ticks": ""
             }
            },
            "marker": {
             "colorbar": {
              "outlinewidth": 0,
              "ticks": ""
             }
            },
            "type": "scatter3d"
           }
          ],
          "scattercarpet": [
           {
            "marker": {
             "colorbar": {
              "outlinewidth": 0,
              "ticks": ""
             }
            },
            "type": "scattercarpet"
           }
          ],
          "scattergeo": [
           {
            "marker": {
             "colorbar": {
              "outlinewidth": 0,
              "ticks": ""
             }
            },
            "type": "scattergeo"
           }
          ],
          "scattergl": [
           {
            "marker": {
             "colorbar": {
              "outlinewidth": 0,
              "ticks": ""
             }
            },
            "type": "scattergl"
           }
          ],
          "scattermapbox": [
           {
            "marker": {
             "colorbar": {
              "outlinewidth": 0,
              "ticks": ""
             }
            },
            "type": "scattermapbox"
           }
          ],
          "scatterpolar": [
           {
            "marker": {
             "colorbar": {
              "outlinewidth": 0,
              "ticks": ""
             }
            },
            "type": "scatterpolar"
           }
          ],
          "scatterpolargl": [
           {
            "marker": {
             "colorbar": {
              "outlinewidth": 0,
              "ticks": ""
             }
            },
            "type": "scatterpolargl"
           }
          ],
          "scatterternary": [
           {
            "marker": {
             "colorbar": {
              "outlinewidth": 0,
              "ticks": ""
             }
            },
            "type": "scatterternary"
           }
          ],
          "surface": [
           {
            "colorbar": {
             "outlinewidth": 0,
             "ticks": ""
            },
            "colorscale": [
             [
              0,
              "#0d0887"
             ],
             [
              0.1111111111111111,
              "#46039f"
             ],
             [
              0.2222222222222222,
              "#7201a8"
             ],
             [
              0.3333333333333333,
              "#9c179e"
             ],
             [
              0.4444444444444444,
              "#bd3786"
             ],
             [
              0.5555555555555556,
              "#d8576b"
             ],
             [
              0.6666666666666666,
              "#ed7953"
             ],
             [
              0.7777777777777778,
              "#fb9f3a"
             ],
             [
              0.8888888888888888,
              "#fdca26"
             ],
             [
              1,
              "#f0f921"
             ]
            ],
            "type": "surface"
           }
          ],
          "table": [
           {
            "cells": {
             "fill": {
              "color": "#EBF0F8"
             },
             "line": {
              "color": "white"
             }
            },
            "header": {
             "fill": {
              "color": "#C8D4E3"
             },
             "line": {
              "color": "white"
             }
            },
            "type": "table"
           }
          ]
         },
         "layout": {
          "annotationdefaults": {
           "arrowcolor": "#2a3f5f",
           "arrowhead": 0,
           "arrowwidth": 1
          },
          "autotypenumbers": "strict",
          "coloraxis": {
           "colorbar": {
            "outlinewidth": 0,
            "ticks": ""
           }
          },
          "colorscale": {
           "diverging": [
            [
             0,
             "#8e0152"
            ],
            [
             0.1,
             "#c51b7d"
            ],
            [
             0.2,
             "#de77ae"
            ],
            [
             0.3,
             "#f1b6da"
            ],
            [
             0.4,
             "#fde0ef"
            ],
            [
             0.5,
             "#f7f7f7"
            ],
            [
             0.6,
             "#e6f5d0"
            ],
            [
             0.7,
             "#b8e186"
            ],
            [
             0.8,
             "#7fbc41"
            ],
            [
             0.9,
             "#4d9221"
            ],
            [
             1,
             "#276419"
            ]
           ],
           "sequential": [
            [
             0,
             "#0d0887"
            ],
            [
             0.1111111111111111,
             "#46039f"
            ],
            [
             0.2222222222222222,
             "#7201a8"
            ],
            [
             0.3333333333333333,
             "#9c179e"
            ],
            [
             0.4444444444444444,
             "#bd3786"
            ],
            [
             0.5555555555555556,
             "#d8576b"
            ],
            [
             0.6666666666666666,
             "#ed7953"
            ],
            [
             0.7777777777777778,
             "#fb9f3a"
            ],
            [
             0.8888888888888888,
             "#fdca26"
            ],
            [
             1,
             "#f0f921"
            ]
           ],
           "sequentialminus": [
            [
             0,
             "#0d0887"
            ],
            [
             0.1111111111111111,
             "#46039f"
            ],
            [
             0.2222222222222222,
             "#7201a8"
            ],
            [
             0.3333333333333333,
             "#9c179e"
            ],
            [
             0.4444444444444444,
             "#bd3786"
            ],
            [
             0.5555555555555556,
             "#d8576b"
            ],
            [
             0.6666666666666666,
             "#ed7953"
            ],
            [
             0.7777777777777778,
             "#fb9f3a"
            ],
            [
             0.8888888888888888,
             "#fdca26"
            ],
            [
             1,
             "#f0f921"
            ]
           ]
          },
          "colorway": [
           "#636efa",
           "#EF553B",
           "#00cc96",
           "#ab63fa",
           "#FFA15A",
           "#19d3f3",
           "#FF6692",
           "#B6E880",
           "#FF97FF",
           "#FECB52"
          ],
          "font": {
           "color": "#2a3f5f"
          },
          "geo": {
           "bgcolor": "white",
           "lakecolor": "white",
           "landcolor": "#E5ECF6",
           "showlakes": true,
           "showland": true,
           "subunitcolor": "white"
          },
          "hoverlabel": {
           "align": "left"
          },
          "hovermode": "closest",
          "mapbox": {
           "style": "light"
          },
          "paper_bgcolor": "white",
          "plot_bgcolor": "#E5ECF6",
          "polar": {
           "angularaxis": {
            "gridcolor": "white",
            "linecolor": "white",
            "ticks": ""
           },
           "bgcolor": "#E5ECF6",
           "radialaxis": {
            "gridcolor": "white",
            "linecolor": "white",
            "ticks": ""
           }
          },
          "scene": {
           "xaxis": {
            "backgroundcolor": "#E5ECF6",
            "gridcolor": "white",
            "gridwidth": 2,
            "linecolor": "white",
            "showbackground": true,
            "ticks": "",
            "zerolinecolor": "white"
           },
           "yaxis": {
            "backgroundcolor": "#E5ECF6",
            "gridcolor": "white",
            "gridwidth": 2,
            "linecolor": "white",
            "showbackground": true,
            "ticks": "",
            "zerolinecolor": "white"
           },
           "zaxis": {
            "backgroundcolor": "#E5ECF6",
            "gridcolor": "white",
            "gridwidth": 2,
            "linecolor": "white",
            "showbackground": true,
            "ticks": "",
            "zerolinecolor": "white"
           }
          },
          "shapedefaults": {
           "line": {
            "color": "#2a3f5f"
           }
          },
          "ternary": {
           "aaxis": {
            "gridcolor": "white",
            "linecolor": "white",
            "ticks": ""
           },
           "baxis": {
            "gridcolor": "white",
            "linecolor": "white",
            "ticks": ""
           },
           "bgcolor": "#E5ECF6",
           "caxis": {
            "gridcolor": "white",
            "linecolor": "white",
            "ticks": ""
           }
          },
          "title": {
           "x": 0.05
          },
          "xaxis": {
           "automargin": true,
           "gridcolor": "white",
           "linecolor": "white",
           "ticks": "",
           "title": {
            "standoff": 15
           },
           "zerolinecolor": "white",
           "zerolinewidth": 2
          },
          "yaxis": {
           "automargin": true,
           "gridcolor": "white",
           "linecolor": "white",
           "ticks": "",
           "title": {
            "standoff": 15
           },
           "zerolinecolor": "white",
           "zerolinewidth": 2
          }
         }
        },
        "xaxis": {
         "anchor": "y",
         "autorange": true,
         "domain": [
          0,
          1
         ],
         "range": [
          -0.5,
          2.5
         ],
         "title": {
          "text": "AnnualIncomeClass"
         },
         "type": "category"
        },
        "yaxis": {
         "anchor": "x",
         "autorange": true,
         "domain": [
          0,
          1
         ],
         "range": [
          0,
          430.5263157894737
         ],
         "title": {
          "text": "count"
         }
        }
       }
      },
      "image/png": "[encoded data removed]",
      "text/html": [
       "<div>                            <div id=\"29967f9b-cf20-4de8-bd1b-7faf0e6ac581\" class=\"plotly-graph-div\" style=\"height:525px; width:100%;\"></div>            <script type=\"text/javascript\">                require([\"plotly\"], function(Plotly) {                    window.PLOTLYENV=window.PLOTLYENV || {};                                    if (document.getElementById(\"29967f9b-cf20-4de8-bd1b-7faf0e6ac581\")) {                    Plotly.newPlot(                        \"29967f9b-cf20-4de8-bd1b-7faf0e6ac581\",                        [{\"alignmentgroup\":\"True\",\"bingroup\":\"x\",\"hovertemplate\":\"BookedHotelOrNot=Yes<br>AnnualIncomeClass=%{x}<br>count=%{y}<extra></extra>\",\"legendgroup\":\"Yes\",\"marker\":{\"color\":\"#636efa\",\"pattern\":{\"shape\":\"\"}},\"name\":\"Yes\",\"offsetgroup\":\"Yes\",\"orientation\":\"v\",\"showlegend\":true,\"x\":[\"Middle Income\",\"High Income\",\"Middle Income\",\"Low Income\",\"Low Income\",\"Middle Income\",\"Low Income\",\"Low Income\",\"Middle Income\",\"Middle Income\",\"Middle Income\",\"Low Income\",\"Middle Income\",\"Middle Income\",\"Low Income\",\"Low Income\",\"Middle Income\",\"High Income\",\"Middle Income\",\"Low Income\",\"Middle Income\",\"Low Income\",\"Middle Income\",\"Middle Income\",\"Low Income\",\"High Income\",\"Middle Income\",\"Low Income\",\"Middle Income\",\"Middle Income\",\"Low Income\",\"Middle Income\",\"Middle Income\",\"Low Income\",\"Low Income\",\"Middle Income\",\"Middle Income\",\"Middle Income\",\"Low Income\",\"Middle Income\",\"Middle Income\",\"High Income\",\"Middle Income\",\"Middle Income\",\"Low Income\",\"Middle Income\",\"Low Income\",\"Low Income\",\"High Income\",\"Middle Income\",\"Middle Income\",\"Low Income\",\"Middle Income\",\"Middle Income\",\"Low Income\",\"Middle Income\",\"Middle Income\",\"Middle Income\",\"Low Income\",\"Middle Income\",\"Middle Income\",\"Low Income\",\"Middle Income\",\"Low Income\",\"Low Income\",\"High Income\",\"Middle Income\",\"Middle Income\",\"Middle Income\",\"Low Income\",\"Low Income\",\"Middle Income\",\"High Income\",\"Middle Income\",\"Low Income\",\"Middle Income\",\"Middle Income\",\"Middle Income\",\"Middle Income\",\"Low Income\",\"Low Income\",\"Low Income\",\"Middle Income\",\"Middle Income\",\"Middle Income\",\"Low Income\",\"Middle Income\",\"Middle Income\",\"High Income\",\"Middle Income\",\"Middle Income\",\"Low Income\",\"Middle Income\",\"Low Income\",\"Middle Income\",\"High Income\",\"Low Income\",\"Middle Income\",\"Low Income\",\"Middle Income\",\"Middle Income\",\"Low Income\",\"Middle Income\",\"Low Income\",\"Middle Income\",\"Low Income\",\"Middle Income\",\"Middle Income\",\"Middle Income\",\"Middle Income\",\"Low Income\",\"Middle Income\",\"High Income\",\"Low Income\",\"Middle Income\",\"Middle Income\",\"Low Income\",\"Middle Income\",\"Middle Income\",\"Low Income\",\"High Income\",\"Middle Income\",\"Low Income\",\"Middle Income\",\"Middle Income\",\"Middle Income\",\"Middle Income\",\"Middle Income\",\"Low Income\",\"Low Income\",\"Low Income\",\"Middle Income\",\"Middle Income\",\"Low Income\",\"Middle Income\",\"Low Income\",\"High Income\",\"Middle Income\",\"Middle Income\",\"Low Income\",\"Middle Income\",\"Low Income\",\"Middle Income\",\"High Income\",\"Middle Income\",\"Middle Income\",\"Low Income\",\"Low Income\",\"Middle Income\",\"Low Income\",\"Middle Income\",\"Middle Income\",\"Middle Income\",\"Low Income\",\"Middle Income\",\"Middle Income\",\"Middle Income\",\"Middle Income\",\"Low Income\",\"Middle Income\",\"High Income\",\"Middle Income\",\"Middle Income\",\"Low Income\",\"Low Income\",\"Middle Income\",\"Middle Income\",\"Low Income\",\"High Income\",\"Middle Income\",\"Low Income\",\"Middle Income\",\"Low Income\",\"Middle Income\",\"Middle Income\",\"Middle Income\",\"Low Income\",\"Low Income\",\"Middle Income\",\"Middle Income\",\"Low Income\",\"Low Income\",\"Middle Income\",\"Middle Income\",\"High Income\",\"Middle Income\",\"Low Income\",\"Low Income\",\"Middle Income\",\"Low Income\",\"Middle Income\",\"High Income\",\"Middle Income\",\"Middle Income\",\"Low Income\",\"Middle Income\",\"Middle Income\",\"Low Income\",\"Low Income\",\"Middle Income\",\"Middle Income\",\"Low Income\",\"Middle Income\",\"Low Income\",\"Middle Income\",\"Middle Income\",\"Low Income\",\"Middle Income\",\"High Income\",\"Middle Income\",\"Middle Income\",\"Middle Income\",\"Low Income\",\"Middle Income\",\"Low Income\",\"Low Income\",\"High Income\",\"Middle Income\",\"Low Income\",\"Middle Income\",\"Middle Income\",\"Middle Income\",\"Middle Income\",\"Middle Income\",\"Low Income\",\"Low Income\",\"Middle Income\",\"Low Income\",\"Middle Income\",\"Low Income\",\"Low Income\",\"Middle Income\",\"High Income\",\"Middle Income\",\"Middle Income\",\"Middle Income\",\"Low Income\",\"Middle Income\",\"High Income\",\"Middle Income\",\"Middle Income\",\"Low Income\",\"Middle Income\",\"Middle Income\",\"Low Income\",\"Middle Income\",\"Middle Income\",\"Low Income\",\"Low Income\",\"Middle Income\",\"Middle Income\",\"Middle Income\",\"Middle Income\",\"Low Income\",\"Middle Income\",\"High Income\",\"Middle Income\",\"Middle Income\",\"Middle Income\",\"Low Income\",\"Middle Income\",\"Middle Income\",\"Low Income\",\"High Income\",\"Low Income\",\"Low Income\",\"Middle Income\",\"Middle Income\",\"Middle Income\",\"Low Income\",\"Middle Income\",\"Low Income\",\"Low Income\",\"Middle Income\",\"Middle Income\",\"Middle Income\",\"Low Income\",\"Middle Income\",\"Middle Income\",\"High Income\",\"Low Income\",\"Middle Income\",\"Low Income\",\"Middle Income\",\"Low Income\",\"Middle Income\",\"High Income\",\"Middle Income\",\"Middle Income\",\"Low Income\",\"Middle Income\",\"Middle Income\",\"Low Income\",\"Middle Income\",\"Middle Income\",\"Middle Income\",\"Low Income\",\"Low Income\",\"Middle Income\",\"Middle Income\",\"Middle Income\",\"Low Income\",\"Middle Income\",\"High Income\",\"Middle Income\",\"Middle Income\",\"Middle Income\",\"Low Income\",\"Middle Income\",\"Low Income\",\"High Income\",\"Middle Income\",\"Low Income\",\"Low Income\",\"Middle Income\",\"Middle Income\",\"Middle Income\",\"Middle Income\",\"Low Income\",\"Low Income\",\"Middle Income\",\"Middle Income\",\"Middle Income\",\"Low Income\",\"Middle Income\",\"Middle Income\",\"High Income\",\"Middle Income\",\"Middle Income\",\"Low Income\",\"Low Income\",\"Low Income\",\"Middle Income\",\"High Income\",\"Middle Income\",\"Low Income\",\"Low Income\",\"Middle Income\",\"Low Income\",\"Low Income\",\"Middle Income\",\"Middle Income\",\"Middle Income\",\"Low Income\",\"Middle Income\",\"Middle Income\",\"Middle Income\",\"Low Income\",\"Low Income\",\"Middle Income\",\"High Income\",\"Middle Income\",\"Low Income\",\"Middle Income\",\"Low Income\",\"Middle Income\",\"Middle Income\",\"Low Income\",\"High Income\",\"Middle Income\",\"Low Income\",\"Middle Income\",\"Middle Income\",\"Low Income\",\"Middle Income\",\"Middle Income\",\"Low Income\",\"Low Income\",\"Middle Income\",\"Middle Income\",\"Middle Income\",\"Low Income\",\"Middle Income\",\"Middle Income\",\"High Income\",\"Middle Income\",\"Middle Income\",\"Low Income\"],\"xaxis\":\"x\",\"yaxis\":\"y\",\"type\":\"histogram\"},{\"alignmentgroup\":\"True\",\"bingroup\":\"x\",\"hovertemplate\":\"BookedHotelOrNot=No<br>AnnualIncomeClass=%{x}<br>count=%{y}<extra></extra>\",\"legendgroup\":\"No\",\"marker\":{\"color\":\"#EF553B\",\"pattern\":{\"shape\":\"\"}},\"name\":\"No\",\"offsetgroup\":\"No\",\"orientation\":\"v\",\"showlegend\":true,\"x\":[\"Low Income\",\"Middle Income\",\"Middle Income\",\"Low Income\",\"Low Income\",\"High Income\",\"Middle Income\",\"Low Income\",\"Middle Income\",\"High Income\",\"Low Income\",\"High Income\",\"Low Income\",\"Middle Income\",\"Middle Income\",\"Middle Income\",\"Low Income\",\"High Income\",\"Low Income\",\"Middle Income\",\"High Income\",\"Low Income\",\"Low Income\",\"Middle Income\",\"Middle Income\",\"High Income\",\"Low Income\",\"Middle Income\",\"Low Income\",\"Middle Income\",\"Low Income\",\"Middle Income\",\"Low Income\",\"High Income\",\"High Income\",\"Low Income\",\"Middle Income\",\"Low Income\",\"Middle Income\",\"Middle Income\",\"Low Income\",\"Middle Income\",\"High Income\",\"Low Income\",\"Low Income\",\"Middle Income\",\"Low Income\",\"High Income\",\"Low Income\",\"High Income\",\"Low Income\",\"Middle Income\",\"Middle Income\",\"Middle Income\",\"High Income\",\"Low Income\",\"Low Income\",\"High Income\",\"Low Income\",\"Low Income\",\"Middle Income\",\"Low Income\",\"High Income\",\"Low Income\",\"Low Income\",\"Middle Income\",\"Low Income\",\"Middle Income\",\"High Income\",\"Middle Income\",\"High Income\",\"Low Income\",\"Middle Income\",\"Low Income\",\"Middle Income\",\"Middle Income\",\"Low Income\",\"Low Income\",\"High Income\",\"Middle Income\",\"Low Income\",\"Low Income\",\"High Income\",\"Low Income\",\"High Income\",\"Low Income\",\"Middle Income\",\"Middle Income\",\"Middle Income\",\"Low Income\",\"High Income\",\"Low Income\",\"High Income\",\"Low Income\",\"Low Income\",\"Middle Income\",\"Middle Income\",\"High Income\",\"Low Income\",\"Middle Income\",\"Low Income\",\"Middle Income\",\"Low Income\",\"Middle Income\",\"Low Income\",\"High Income\",\"High Income\",\"Low Income\",\"Middle Income\",\"Low Income\",\"Middle Income\",\"Low Income\",\"Low Income\",\"Low Income\",\"Middle Income\",\"High Income\",\"Middle Income\",\"Low Income\",\"Middle Income\",\"Low Income\",\"High Income\",\"Low Income\",\"High Income\",\"Low Income\",\"Middle Income\",\"Middle Income\",\"Middle Income\",\"High Income\",\"Low Income\",\"Middle Income\",\"High Income\",\"Low Income\",\"Low Income\",\"Low Income\",\"Middle Income\",\"High Income\",\"Low Income\",\"Low Income\",\"Middle Income\",\"Low Income\",\"Middle Income\",\"High Income\",\"Middle Income\",\"High Income\",\"Low Income\",\"Low Income\",\"Low Income\",\"Middle Income\",\"Middle Income\",\"Low Income\",\"Low Income\",\"High Income\",\"Middle Income\",\"Low Income\",\"Middle Income\",\"High Income\",\"Low Income\",\"High Income\",\"Low Income\",\"Middle Income\",\"Middle Income\",\"Low Income\",\"Low Income\",\"High Income\",\"Low Income\",\"High Income\",\"Low Income\",\"Low Income\",\"Middle Income\",\"Middle Income\",\"High Income\",\"Low Income\",\"Middle Income\",\"Low Income\",\"Middle Income\",\"Low Income\",\"Middle Income\",\"Low Income\",\"High Income\",\"High Income\",\"Low Income\",\"Middle Income\",\"Low Income\",\"Low Income\",\"Middle Income\",\"Low Income\",\"Middle Income\",\"High Income\",\"Middle Income\",\"Low Income\",\"Middle Income\",\"Low Income\",\"High Income\",\"Low Income\",\"High Income\",\"Low Income\",\"Low Income\",\"Middle Income\",\"Middle Income\",\"High Income\",\"Low Income\",\"Middle Income\",\"High Income\",\"Low Income\",\"Low Income\",\"Middle Income\",\"Middle Income\",\"High Income\",\"Low Income\",\"Low Income\",\"Middle Income\",\"Low Income\",\"Low Income\",\"High Income\",\"Middle Income\",\"High Income\",\"Low Income\",\"Middle Income\",\"Low Income\",\"Middle Income\",\"Middle Income\",\"Low Income\",\"Low Income\",\"High Income\",\"Middle Income\",\"Low Income\",\"Middle Income\",\"High Income\",\"Low Income\",\"High Income\",\"Low Income\",\"Middle Income\",\"Low Income\",\"Middle Income\",\"Low Income\",\"High Income\",\"Low Income\",\"High Income\",\"Low Income\",\"Low Income\",\"Middle Income\",\"Middle Income\",\"High Income\",\"Low Income\",\"Middle Income\",\"Low Income\",\"Low Income\",\"Low Income\",\"Middle Income\",\"Low Income\",\"High Income\",\"High Income\",\"Low Income\",\"Middle Income\",\"Low Income\",\"Middle Income\",\"Middle Income\",\"Low Income\",\"Low Income\",\"High Income\",\"Middle Income\",\"Low Income\",\"Middle Income\",\"Low Income\",\"High Income\",\"Low Income\",\"High Income\",\"Low Income\",\"Middle Income\",\"Middle Income\",\"Middle Income\",\"High Income\",\"Low Income\",\"Middle Income\",\"High Income\",\"Low Income\",\"Low Income\",\"Middle Income\",\"Middle Income\",\"High Income\",\"Low Income\",\"Low Income\",\"Middle Income\",\"Low Income\",\"Middle Income\",\"High Income\",\"Middle Income\",\"High Income\",\"Low Income\",\"Middle Income\",\"Low Income\",\"Middle Income\",\"Middle Income\",\"Low Income\",\"Low Income\",\"High Income\",\"Low Income\",\"Low Income\",\"Middle Income\",\"High Income\",\"Low Income\",\"High Income\",\"Low Income\",\"Middle Income\",\"Middle Income\",\"Middle Income\",\"Low Income\",\"High Income\",\"Low Income\",\"High Income\",\"Low Income\",\"Low Income\",\"Middle Income\",\"Low Income\",\"High Income\",\"Low Income\",\"Middle Income\",\"Low Income\",\"Middle Income\",\"Low Income\",\"Middle Income\",\"Low Income\",\"High Income\",\"High Income\",\"Low Income\",\"Middle Income\",\"Low Income\",\"Middle Income\",\"Middle Income\",\"Low Income\",\"Middle Income\",\"High Income\",\"Middle Income\",\"Low Income\",\"Low Income\",\"Low Income\",\"High Income\",\"Low Income\",\"High Income\",\"Low Income\",\"Middle Income\",\"Middle Income\",\"Middle Income\",\"High Income\",\"Low Income\",\"Middle Income\",\"High Income\",\"Low Income\",\"Low Income\",\"Middle Income\",\"Middle Income\",\"High Income\",\"Low Income\",\"Low Income\",\"Middle Income\",\"Low Income\",\"Middle Income\",\"Low Income\",\"High Income\",\"Low Income\",\"High Income\",\"Low Income\",\"Middle Income\",\"Low Income\",\"Middle Income\",\"Low Income\",\"Low Income\",\"Low Income\",\"High Income\",\"Middle Income\",\"Low Income\",\"Middle Income\",\"High Income\",\"Low Income\",\"High Income\",\"Low Income\",\"Middle Income\",\"Middle Income\",\"Middle Income\",\"Low Income\",\"High Income\",\"Low Income\",\"High Income\",\"Low Income\",\"Low Income\",\"Low Income\",\"Middle Income\",\"High Income\",\"Low Income\",\"Middle Income\",\"Low Income\",\"Middle Income\",\"Low Income\",\"Middle Income\",\"Low Income\",\"High Income\",\"High Income\",\"Low Income\",\"Low Income\",\"Low Income\",\"Middle Income\",\"Middle Income\",\"Low Income\",\"Middle Income\",\"High Income\",\"Middle Income\",\"Low Income\",\"Middle Income\",\"Low Income\",\"High Income\",\"Low Income\",\"High Income\",\"Low Income\",\"Middle Income\",\"Middle Income\",\"Low Income\",\"High Income\",\"Low Income\",\"Middle Income\",\"High Income\",\"Low Income\",\"Low Income\",\"Middle Income\",\"Middle Income\",\"High Income\",\"Low Income\",\"Low Income\",\"Middle Income\",\"Low Income\",\"Middle Income\",\"High Income\",\"Middle Income\",\"High Income\",\"Low Income\",\"Middle Income\",\"Low Income\",\"Low Income\",\"Middle Income\",\"Low Income\",\"Low Income\",\"High Income\",\"Middle Income\",\"Low Income\",\"Middle Income\",\"High Income\",\"Low Income\",\"High Income\",\"Low Income\",\"Low Income\",\"Middle Income\",\"Middle Income\",\"Low Income\",\"High Income\",\"Low Income\",\"High Income\",\"Low Income\",\"Low Income\",\"Middle Income\",\"Middle Income\",\"High Income\",\"Low Income\",\"Low Income\",\"Low Income\",\"Middle Income\",\"Low Income\",\"Low Income\",\"Low Income\",\"High Income\",\"Middle Income\",\"High Income\",\"Low Income\",\"Middle Income\",\"Low Income\",\"Middle Income\",\"Middle Income\",\"Low Income\",\"Middle Income\",\"High Income\",\"Middle Income\",\"Low Income\",\"Middle Income\",\"Low Income\",\"High Income\",\"Low Income\",\"High Income\",\"Low Income\",\"Middle Income\",\"Low Income\",\"Middle Income\",\"High Income\",\"Low Income\",\"Middle Income\",\"High Income\",\"Low Income\",\"Low Income\",\"Middle Income\",\"Middle Income\",\"High Income\",\"Low Income\",\"Low Income\",\"Low Income\",\"Low Income\",\"Middle Income\",\"High Income\",\"Middle Income\",\"High Income\",\"Low Income\",\"Middle Income\",\"Low Income\",\"Middle Income\",\"Middle Income\",\"Low Income\",\"Low Income\",\"High Income\",\"Middle Income\",\"Low Income\",\"Middle Income\",\"High Income\",\"Low Income\",\"High Income\",\"Low Income\",\"Middle Income\",\"Middle Income\",\"Middle Income\",\"Low Income\",\"High Income\",\"Low Income\",\"High Income\",\"Low Income\",\"Low Income\",\"Middle Income\",\"Middle Income\",\"High Income\",\"Low Income\",\"Middle Income\",\"Low Income\",\"Middle Income\",\"Low Income\",\"Middle Income\",\"Low Income\",\"High Income\",\"High Income\",\"Low Income\",\"Middle Income\",\"Low Income\",\"Middle Income\",\"Middle Income\",\"Low Income\",\"Middle Income\",\"High Income\",\"Low Income\",\"Low Income\",\"Middle Income\",\"Low Income\",\"High Income\",\"Low Income\",\"High Income\",\"Low Income\",\"Middle Income\",\"Middle Income\",\"Middle Income\",\"High Income\",\"Low Income\",\"Low Income\",\"High Income\",\"Low Income\",\"Low Income\",\"Middle Income\",\"Low Income\",\"High Income\",\"Low Income\",\"Low Income\",\"Middle Income\",\"Low Income\",\"Middle Income\",\"High Income\"],\"xaxis\":\"x\",\"yaxis\":\"y\",\"type\":\"histogram\"}],                        {\"template\":{\"data\":{\"histogram2dcontour\":[{\"type\":\"histogram2dcontour\",\"colorbar\":{\"outlinewidth\":0,\"ticks\":\"\"},\"colorscale\":[[0.0,\"#0d0887\"],[0.1111111111111111,\"#46039f\"],[0.2222222222222222,\"#7201a8\"],[0.3333333333333333,\"#9c179e\"],[0.4444444444444444,\"#bd3786\"],[0.5555555555555556,\"#d8576b\"],[0.6666666666666666,\"#ed7953\"],[0.7777777777777778,\"#fb9f3a\"],[0.8888888888888888,\"#fdca26\"],[1.0,\"#f0f921\"]]}],\"choropleth\":[{\"type\":\"choropleth\",\"colorbar\":{\"outlinewidth\":0,\"ticks\":\"\"}}],\"histogram2d\":[{\"type\":\"histogram2d\",\"colorbar\":{\"outlinewidth\":0,\"ticks\":\"\"},\"colorscale\":[[0.0,\"#0d0887\"],[0.1111111111111111,\"#46039f\"],[0.2222222222222222,\"#7201a8\"],[0.3333333333333333,\"#9c179e\"],[0.4444444444444444,\"#bd3786\"],[0.5555555555555556,\"#d8576b\"],[0.6666666666666666,\"#ed7953\"],[0.7777777777777778,\"#fb9f3a\"],[0.8888888888888888,\"#fdca26\"],[1.0,\"#f0f921\"]]}],\"heatmap\":[{\"type\":\"heatmap\",\"colorbar\":{\"outlinewidth\":0,\"ticks\":\"\"},\"colorscale\":[[0.0,\"#0d0887\"],[0.1111111111111111,\"#46039f\"],[0.2222222222222222,\"#7201a8\"],[0.3333333333333333,\"#9c179e\"],[0.4444444444444444,\"#bd3786\"],[0.5555555555555556,\"#d8576b\"],[0.6666666666666666,\"#ed7953\"],[0.7777777777777778,\"#fb9f3a\"],[0.8888888888888888,\"#fdca26\"],[1.0,\"#f0f921\"]]}],\"heatmapgl\":[{\"type\":\"heatmapgl\",\"colorbar\":{\"outlinewidth\":0,\"ticks\":\"\"},\"colorscale\":[[0.0,\"#0d0887\"],[0.1111111111111111,\"#46039f\"],[0.2222222222222222,\"#7201a8\"],[0.3333333333333333,\"#9c179e\"],[0.4444444444444444,\"#bd3786\"],[0.5555555555555556,\"#d8576b\"],[0.6666666666666666,\"#ed7953\"],[0.7777777777777778,\"#fb9f3a\"],[0.8888888888888888,\"#fdca26\"],[1.0,\"#f0f921\"]]}],\"contourcarpet\":[{\"type\":\"contourcarpet\",\"colorbar\":{\"outlinewidth\":0,\"ticks\":\"\"}}],\"contour\":[{\"type\":\"contour\",\"colorbar\":{\"outlinewidth\":0,\"ticks\":\"\"},\"colorscale\":[[0.0,\"#0d0887\"],[0.1111111111111111,\"#46039f\"],[0.2222222222222222,\"#7201a8\"],[0.3333333333333333,\"#9c179e\"],[0.4444444444444444,\"#bd3786\"],[0.5555555555555556,\"#d8576b\"],[0.6666666666666666,\"#ed7953\"],[0.7777777777777778,\"#fb9f3a\"],[0.8888888888888888,\"#fdca26\"],[1.0,\"#f0f921\"]]}],\"surface\":[{\"type\":\"surface\",\"colorbar\":{\"outlinewidth\":0,\"ticks\":\"\"},\"colorscale\":[[0.0,\"#0d0887\"],[0.1111111111111111,\"#46039f\"],[0.2222222222222222,\"#7201a8\"],[0.3333333333333333,\"#9c179e\"],[0.4444444444444444,\"#bd3786\"],[0.5555555555555556,\"#d8576b\"],[0.6666666666666666,\"#ed7953\"],[0.7777777777777778,\"#fb9f3a\"],[0.8888888888888888,\"#fdca26\"],[1.0,\"#f0f921\"]]}],\"mesh3d\":[{\"type\":\"mesh3d\",\"colorbar\":{\"outlinewidth\":0,\"ticks\":\"\"}}],\"scatter\":[{\"fillpattern\":{\"fillmode\":\"overlay\",\"size\":10,\"solidity\":0.2},\"type\":\"scatter\"}],\"parcoords\":[{\"type\":\"parcoords\",\"line\":{\"colorbar\":{\"outlinewidth\":0,\"ticks\":\"\"}}}],\"scatterpolargl\":[{\"type\":\"scatterpolargl\",\"marker\":{\"colorbar\":{\"outlinewidth\":0,\"ticks\":\"\"}}}],\"bar\":[{\"error_x\":{\"color\":\"#2a3f5f\"},\"error_y\":{\"color\":\"#2a3f5f\"},\"marker\":{\"line\":{\"color\":\"#E5ECF6\",\"width\":0.5},\"pattern\":{\"fillmode\":\"overlay\",\"size\":10,\"solidity\":0.2}},\"type\":\"bar\"}],\"scattergeo\":[{\"type\":\"scattergeo\",\"marker\":{\"colorbar\":{\"outlinewidth\":0,\"ticks\":\"\"}}}],\"scatterpolar\":[{\"type\":\"scatterpolar\",\"marker\":{\"colorbar\":{\"outlinewidth\":0,\"ticks\":\"\"}}}],\"histogram\":[{\"marker\":{\"pattern\":{\"fillmode\":\"overlay\",\"size\":10,\"solidity\":0.2}},\"type\":\"histogram\"}],\"scattergl\":[{\"type\":\"scattergl\",\"marker\":{\"colorbar\":{\"outlinewidth\":0,\"ticks\":\"\"}}}],\"scatter3d\":[{\"type\":\"scatter3d\",\"line\":{\"colorbar\":{\"outlinewidth\":0,\"ticks\":\"\"}},\"marker\":{\"colorbar\":{\"outlinewidth\":0,\"ticks\":\"\"}}}],\"scattermapbox\":[{\"type\":\"scattermapbox\",\"marker\":{\"colorbar\":{\"outlinewidth\":0,\"ticks\":\"\"}}}],\"scatterternary\":[{\"type\":\"scatterternary\",\"marker\":{\"colorbar\":{\"outlinewidth\":0,\"ticks\":\"\"}}}],\"scattercarpet\":[{\"type\":\"scattercarpet\",\"marker\":{\"colorbar\":{\"outlinewidth\":0,\"ticks\":\"\"}}}],\"carpet\":[{\"aaxis\":{\"endlinecolor\":\"#2a3f5f\",\"gridcolor\":\"white\",\"linecolor\":\"white\",\"minorgridcolor\":\"white\",\"startlinecolor\":\"#2a3f5f\"},\"baxis\":{\"endlinecolor\":\"#2a3f5f\",\"gridcolor\":\"white\",\"linecolor\":\"white\",\"minorgridcolor\":\"white\",\"startlinecolor\":\"#2a3f5f\"},\"type\":\"carpet\"}],\"table\":[{\"cells\":{\"fill\":{\"color\":\"#EBF0F8\"},\"line\":{\"color\":\"white\"}},\"header\":{\"fill\":{\"color\":\"#C8D4E3\"},\"line\":{\"color\":\"white\"}},\"type\":\"table\"}],\"barpolar\":[{\"marker\":{\"line\":{\"color\":\"#E5ECF6\",\"width\":0.5},\"pattern\":{\"fillmode\":\"overlay\",\"size\":10,\"solidity\":0.2}},\"type\":\"barpolar\"}],\"pie\":[{\"automargin\":true,\"type\":\"pie\"}]},\"layout\":{\"autotypenumbers\":\"strict\",\"colorway\":[\"#636efa\",\"#EF553B\",\"#00cc96\",\"#ab63fa\",\"#FFA15A\",\"#19d3f3\",\"#FF6692\",\"#B6E880\",\"#FF97FF\",\"#FECB52\"],\"font\":{\"color\":\"#2a3f5f\"},\"hovermode\":\"closest\",\"hoverlabel\":{\"align\":\"left\"},\"paper_bgcolor\":\"white\",\"plot_bgcolor\":\"#E5ECF6\",\"polar\":{\"bgcolor\":\"#E5ECF6\",\"angularaxis\":{\"gridcolor\":\"white\",\"linecolor\":\"white\",\"ticks\":\"\"},\"radialaxis\":{\"gridcolor\":\"white\",\"linecolor\":\"white\",\"ticks\":\"\"}},\"ternary\":{\"bgcolor\":\"#E5ECF6\",\"aaxis\":{\"gridcolor\":\"white\",\"linecolor\":\"white\",\"ticks\":\"\"},\"baxis\":{\"gridcolor\":\"white\",\"linecolor\":\"white\",\"ticks\":\"\"},\"caxis\":{\"gridcolor\":\"white\",\"linecolor\":\"white\",\"ticks\":\"\"}},\"coloraxis\":{\"colorbar\":{\"outlinewidth\":0,\"ticks\":\"\"}},\"colorscale\":{\"sequential\":[[0.0,\"#0d0887\"],[0.1111111111111111,\"#46039f\"],[0.2222222222222222,\"#7201a8\"],[0.3333333333333333,\"#9c179e\"],[0.4444444444444444,\"#bd3786\"],[0.5555555555555556,\"#d8576b\"],[0.6666666666666666,\"#ed7953\"],[0.7777777777777778,\"#fb9f3a\"],[0.8888888888888888,\"#fdca26\"],[1.0,\"#f0f921\"]],\"sequentialminus\":[[0.0,\"#0d0887\"],[0.1111111111111111,\"#46039f\"],[0.2222222222222222,\"#7201a8\"],[0.3333333333333333,\"#9c179e\"],[0.4444444444444444,\"#bd3786\"],[0.5555555555555556,\"#d8576b\"],[0.6666666666666666,\"#ed7953\"],[0.7777777777777778,\"#fb9f3a\"],[0.8888888888888888,\"#fdca26\"],[1.0,\"#f0f921\"]],\"diverging\":[[0,\"#8e0152\"],[0.1,\"#c51b7d\"],[0.2,\"#de77ae\"],[0.3,\"#f1b6da\"],[0.4,\"#fde0ef\"],[0.5,\"#f7f7f7\"],[0.6,\"#e6f5d0\"],[0.7,\"#b8e186\"],[0.8,\"#7fbc41\"],[0.9,\"#4d9221\"],[1,\"#276419\"]]},\"xaxis\":{\"gridcolor\":\"white\",\"linecolor\":\"white\",\"ticks\":\"\",\"title\":{\"standoff\":15},\"zerolinecolor\":\"white\",\"automargin\":true,\"zerolinewidth\":2},\"yaxis\":{\"gridcolor\":\"white\",\"linecolor\":\"white\",\"ticks\":\"\",\"title\":{\"standoff\":15},\"zerolinecolor\":\"white\",\"automargin\":true,\"zerolinewidth\":2},\"scene\":{\"xaxis\":{\"backgroundcolor\":\"#E5ECF6\",\"gridcolor\":\"white\",\"linecolor\":\"white\",\"showbackground\":true,\"ticks\":\"\",\"zerolinecolor\":\"white\",\"gridwidth\":2},\"yaxis\":{\"backgroundcolor\":\"#E5ECF6\",\"gridcolor\":\"white\",\"linecolor\":\"white\",\"showbackground\":true,\"ticks\":\"\",\"zerolinecolor\":\"white\",\"gridwidth\":2},\"zaxis\":{\"backgroundcolor\":\"#E5ECF6\",\"gridcolor\":\"white\",\"linecolor\":\"white\",\"showbackground\":true,\"ticks\":\"\",\"zerolinecolor\":\"white\",\"gridwidth\":2}},\"shapedefaults\":{\"line\":{\"color\":\"#2a3f5f\"}},\"annotationdefaults\":{\"arrowcolor\":\"#2a3f5f\",\"arrowhead\":0,\"arrowwidth\":1},\"geo\":{\"bgcolor\":\"white\",\"landcolor\":\"#E5ECF6\",\"subunitcolor\":\"white\",\"showland\":true,\"showlakes\":true,\"lakecolor\":\"white\"},\"title\":{\"x\":0.05},\"mapbox\":{\"style\":\"light\"}}},\"xaxis\":{\"anchor\":\"y\",\"domain\":[0.0,1.0],\"title\":{\"text\":\"AnnualIncomeClass\"}},\"yaxis\":{\"anchor\":\"x\",\"domain\":[0.0,1.0],\"title\":{\"text\":\"count\"}},\"legend\":{\"title\":{\"text\":\"BookedHotelOrNot\"},\"tracegroupgap\":0},\"margin\":{\"t\":60},\"barmode\":\"relative\"},                        {\"responsive\": true}                    ).then(function(){\n",
       "                            \n",
       "var gd = document.getElementById('29967f9b-cf20-4de8-bd1b-7faf0e6ac581');\n",
       "var x = new MutationObserver(function (mutations, observer) {{\n",
       "        var display = window.getComputedStyle(gd).display;\n",
       "        if (!display || display === 'none') {{\n",
       "            console.log([gd, 'removed!']);\n",
       "            Plotly.purge(gd);\n",
       "            observer.disconnect();\n",
       "        }}\n",
       "}});\n",
       "\n",
       "// Listen for the removal of the full notebook cells\n",
       "var notebookContainer = gd.closest('#notebook-container');\n",
       "if (notebookContainer) {{\n",
       "    x.observe(notebookContainer, {childList: true});\n",
       "}}\n",
       "\n",
       "// Listen for the clearing of the current output cell\n",
       "var outputEl = gd.closest('.output');\n",
       "if (outputEl) {{\n",
       "    x.observe(outputEl, {childList: true});\n",
       "}}\n",
       "\n",
       "                        })                };                });            </script>        </div>"
      ]
     },
     "metadata": {},
     "output_type": "display_data"
    }
   ],
   "source": [
    "fig = px.histogram(data,x='AnnualIncomeClass',color='BookedHotelOrNot')\n",
    "fig.show()"
   ]
  },
  {
   "cell_type": "code",
   "execution_count": null,
   "id": "d6687437-8faa-4a61-be28-6cd278e0a321",
   "metadata": {},
   "outputs": [],
   "source": []
  },
  {
   "cell_type": "code",
   "execution_count": null,
   "id": "1f3c0b83-7986-4dbf-bde8-5d5806cdd1c1",
   "metadata": {},
   "outputs": [],
   "source": []
  },
  {
   "cell_type": "code",
   "execution_count": null,
   "id": "b1a19bdb-bdaf-4013-9520-fd73d90708ea",
   "metadata": {},
   "outputs": [],
   "source": []
  },
  {
   "cell_type": "code",
   "execution_count": null,
   "id": "2f2c6c6d-b331-4730-9d40-945320829cfb",
   "metadata": {},
   "outputs": [],
   "source": []
  },
  {
   "cell_type": "code",
   "execution_count": null,
   "id": "106a0f97-7a6e-46e6-92a0-df0b70ad292f",
   "metadata": {},
   "outputs": [],
   "source": []
  },
  {
   "cell_type": "code",
   "execution_count": null,
   "id": "c6a729aa-11b4-4462-9c23-b2f164e40f23",
   "metadata": {},
   "outputs": [],
   "source": []
  },
  {
   "cell_type": "code",
   "execution_count": null,
   "id": "3838e9ac-e1ab-442d-9a33-c2ab027fe52e",
   "metadata": {},
   "outputs": [],
   "source": []
  },
  {
   "cell_type": "code",
   "execution_count": null,
   "id": "7399b1fb-a52e-4e37-b01e-abbf70d186d7",
   "metadata": {},
   "outputs": [],
   "source": []
  },
  {
   "cell_type": "code",
   "execution_count": null,
   "id": "02d21139-ebbd-45dd-acb3-d87ac6354683",
   "metadata": {},
   "outputs": [],
   "source": []
  }
 ],
 "metadata": {
  "kernelspec": {
   "display_name": "Python 3 (ipykernel)",
   "language": "python",
   "name": "python3"
  },
  "language_info": {
   "codemirror_mode": {
    "name": "ipython",
    "version": 3
   },
   "file_extension": ".py",
   "mimetype": "text/x-python",
   "name": "python",
   "nbconvert_exporter": "python",
   "pygments_lexer": "ipython3",
   "version": "3.11.7"
  }
 },
 "nbformat": 4,
 "nbformat_minor": 5
}
